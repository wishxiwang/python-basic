{
 "cells": [
  {
   "cell_type": "code",
   "execution_count": 1,
   "metadata": {},
   "outputs": [
    {
     "data": {
      "text/plain": [
       "'<!DOCTYPE html>\\n<html lang=\"cn\">\\n<head>\\n\\t<meta charset=\"UTF-8\">\\n\\t<title>Scraping tutorial 1 | 莫烦Python</title>\\n\\t<link rel=\"icon\" href=\"https://morvanzhou.github.io/static/img/description/tab_icon.png\">\\n</head>\\n<body>\\n\\t<h1>爬虫测试1</h1>\\n\\t<p>\\n\\t\\t这是一个在 <a href=\"https://morvanzhou.github.io/\">莫烦Python</a>\\n\\t\\t<a href=\"https://morvanzhou.github.io/tutorials/data-manipulation/scraping/\">爬虫教程</a> 中的简单测试.\\n\\t</p>\\n\\n</body>\\n</html>'"
      ]
     },
     "execution_count": 1,
     "metadata": {},
     "output_type": "execute_result"
    }
   ],
   "source": [
    "from urllib.request import urlopen\n",
    "html_data = urlopen(\"https://morvanzhou.github.io/static/scraping/basic-structure.html\").read().decode('utf-8')\n",
    "html_data"
   ]
  },
  {
   "cell_type": "code",
   "execution_count": 4,
   "metadata": {},
   "outputs": [
    {
     "data": {
      "text/plain": [
       "'Scraping tutorial 1 | 莫烦Python'"
      ]
     },
     "execution_count": 4,
     "metadata": {},
     "output_type": "execute_result"
    }
   ],
   "source": [
    "import re\n",
    "result1 = re.findall('<title>(.+?)</title>',html_data)\n",
    "result1[0]"
   ]
  },
  {
   "cell_type": "code",
   "execution_count": 12,
   "metadata": {},
   "outputs": [
    {
     "name": "stdout",
     "output_type": "stream",
     "text": [
      "['\\n\\t\\t这是一个在 <a href=\"https://morvanzhou.github.io/\">莫烦Python</a>\\n\\t\\t<a href=\"https://morvanzhou.github.io/tutorials/data-manipulation/scraping/\">爬虫教程</a> 中的简单测试.\\n\\t']\n"
     ]
    }
   ],
   "source": [
    "result2 = re.findall('<p>(.*?)</p>',html_data,flags=re.DOTALL)\n",
    "print(result2)"
   ]
  },
  {
   "cell_type": "code",
   "execution_count": 13,
   "metadata": {},
   "outputs": [
    {
     "data": {
      "text/plain": [
       "['https://morvanzhou.github.io/static/img/description/tab_icon.png',\n",
       " 'https://morvanzhou.github.io/',\n",
       " 'https://morvanzhou.github.io/tutorials/data-manipulation/scraping/']"
      ]
     },
     "execution_count": 13,
     "metadata": {},
     "output_type": "execute_result"
    }
   ],
   "source": [
    "result3 = re.findall('href=\"(.*?)\"',html_data)\n",
    "result3"
   ]
  },
  {
   "cell_type": "code",
   "execution_count": 14,
   "metadata": {},
   "outputs": [
    {
     "data": {
      "text/plain": [
       "'<!DOCTYPE html>\\n<html lang=\"cn\">\\n<head>\\n\\t<meta charset=\"UTF-8\">\\n\\t<title>Scraping tutorial 1 | 莫烦Python</title>\\n\\t<link rel=\"icon\" href=\"https://morvanzhou.github.io/static/img/description/tab_icon.png\">\\n</head>\\n<body>\\n\\t<h1>爬虫测试1</h1>\\n\\t<p>\\n\\t\\t这是一个在 <a href=\"https://morvanzhou.github.io/\">莫烦Python</a>\\n\\t\\t<a href=\"https://morvanzhou.github.io/tutorials/data-manipulation/scraping/\">爬虫教程</a> 中的简单测试.\\n\\t</p>\\n\\n</body>\\n</html>'"
      ]
     },
     "execution_count": 14,
     "metadata": {},
     "output_type": "execute_result"
    }
   ],
   "source": [
    "from bs4 import BeautifulSoup\n",
    "from urllib.request import urlopen\n",
    "html_data = urlopen(\"https://morvanzhou.github.io/static/scraping/basic-structure.html\").read().decode('utf-8')\n",
    "html_data"
   ]
  },
  {
   "cell_type": "code",
   "execution_count": 17,
   "metadata": {},
   "outputs": [
    {
     "data": {
      "text/plain": [
       "<h1>爬虫测试1</h1>"
      ]
     },
     "execution_count": 17,
     "metadata": {},
     "output_type": "execute_result"
    }
   ],
   "source": [
    "soup = BeautifulSoup(html_data,features='lxml')\n",
    "soup.h1"
   ]
  },
  {
   "cell_type": "code",
   "execution_count": 21,
   "metadata": {},
   "outputs": [
    {
     "data": {
      "text/plain": [
       "[<a href=\"https://morvanzhou.github.io/\">莫烦Python</a>,\n",
       " <a href=\"https://morvanzhou.github.io/tutorials/data-manipulation/scraping/\">爬虫教程</a>]"
      ]
     },
     "execution_count": 21,
     "metadata": {},
     "output_type": "execute_result"
    }
   ],
   "source": [
    "all_href = soup.find_all(\"a\")\n",
    "all_href"
   ]
  },
  {
   "cell_type": "code",
   "execution_count": 22,
   "metadata": {},
   "outputs": [
    {
     "data": {
      "text/plain": [
       "['https://morvanzhou.github.io/',\n",
       " 'https://morvanzhou.github.io/tutorials/data-manipulation/scraping/']"
      ]
     },
     "execution_count": 22,
     "metadata": {},
     "output_type": "execute_result"
    }
   ],
   "source": [
    "all_url = [i['href'] for i in all_href]\n",
    "all_url"
   ]
  },
  {
   "cell_type": "code",
   "execution_count": 23,
   "metadata": {},
   "outputs": [
    {
     "data": {
      "text/plain": [
       "'<!DOCTYPE html>\\n<html lang=\"cn\">\\n<head>\\n\\t<meta charset=\"UTF-8\">\\n\\t<title>爬虫练习 列表 class | 莫烦 Python</title>\\n\\t<style>\\n\\t.jan {\\n\\t\\tbackground-color: yellow;\\n\\t}\\n\\t.feb {\\n\\t\\tfont-size: 25px;\\n\\t}\\n\\t.month {\\n\\t\\tcolor: red;\\n\\t}\\n\\t</style>\\n</head>\\n\\n<body>\\n\\n<h1>列表 爬虫练习</h1>\\n\\n<p>这是一个在 <a href=\"https://morvanzhou.github.io/\" >莫烦 Python</a> 的 <a href=\"https://morvanzhou.github.io/tutorials/data-manipulation/scraping/\" >爬虫教程</a>\\n\\t里无敌简单的网页, 所有的 code 让你一目了然, 清晰无比.</p>\\n\\n<ul>\\n\\t<li class=\"month\">一月</li>\\n\\t<ul class=\"jan\">\\n\\t\\t<li>一月一号</li>\\n\\t\\t<li>一月二号</li>\\n\\t\\t<li>一月三号</li>\\n\\t</ul>\\n\\t<li class=\"feb month\">二月</li>\\n\\t<li class=\"month\">三月</li>\\n\\t<li class=\"month\">四月</li>\\n\\t<li class=\"month\">五月</li>\\n</ul>\\n\\n</body>\\n</html>'"
      ]
     },
     "execution_count": 23,
     "metadata": {},
     "output_type": "execute_result"
    }
   ],
   "source": [
    "from bs4 import BeautifulSoup\n",
    "from urllib.request import urlopen\n",
    "html_data = urlopen('https://morvanzhou.github.io/static/scraping/list.html').read().decode('utf-8')\n",
    "html_data"
   ]
  },
  {
   "cell_type": "code",
   "execution_count": 28,
   "metadata": {},
   "outputs": [
    {
     "name": "stdout",
     "output_type": "stream",
     "text": [
      "一月\n",
      "二月\n",
      "三月\n",
      "四月\n",
      "五月\n"
     ]
    }
   ],
   "source": [
    "soup = BeautifulSoup(html_data,features='lxml')\n",
    "month = soup.findAll('li',{'class':'month'})\n",
    "for m in month:\n",
    "    print(m.get_text())"
   ]
  },
  {
   "cell_type": "code",
   "execution_count": 29,
   "metadata": {},
   "outputs": [
    {
     "data": {
      "text/plain": [
       "'<!DOCTYPE html>\\n<html lang=\"cn\">\\n<head>\\n\\t<meta charset=\"UTF-8\">\\n\\t<title>爬虫练习 表格 table | 莫烦 Python</title>\\n\\n\\t<style>\\n\\timg {\\n\\t\\twidth: 250px;\\n\\t}\\n\\ttable{\\n\\t\\twidth:50%;\\n\\t}\\n\\ttd{\\n\\t\\tmargin:10px;\\n\\t\\tpadding:15px;\\n\\t}\\n\\t</style>\\n</head>\\n<body>\\n\\n<h1>表格 爬虫练习</h1>\\n\\n<p>这是一个在 <a href=\"https://morvanzhou.github.io/\" >莫烦 Python</a> 的 <a href=\"https://morvanzhou.github.io/tutorials/data-manipulation/scraping/\" >爬虫教程</a>\\n\\t里无敌简单的网页, 所有的 code 让你一目了然, 清晰无比.</p>\\n\\n<br>\\n<table id=\"course-list\">\\n\\t<tr>\\n\\t\\t<th>\\n\\t\\t\\t分类\\n\\t\\t</th><th>\\n\\t\\t\\t名字\\n\\t\\t</th><th>\\n\\t\\t\\t时长\\n\\t\\t</th><th>\\n\\t\\t\\t预览\\n\\t\\t</th>\\n\\t</tr>\\n\\n\\t<tr id=\"course1\" class=\"ml\">\\n\\t\\t<td>\\n\\t\\t\\t机器学习\\n\\t\\t</td><td>\\n\\t\\t\\t<a href=\"https://morvanzhou.github.io/tutorials/machine-learning/tensorflow/\">\\n\\t\\t\\t\\tTensorflow 神经网络</a>\\n\\t\\t</td><td>\\n\\t\\t\\t2:00\\n\\t\\t</td><td>\\n\\t\\t\\t<img src=\"https://morvanzhou.github.io/static/img/course_cover/tf.jpg\">\\n\\t\\t</td>\\n\\t</tr>\\n\\n\\t<tr id=\"course2\" class=\"ml\">\\n\\t\\t<td>\\n\\t\\t\\t机器学习\\n\\t\\t</td><td>\\n\\t\\t\\t<a href=\"https://morvanzhou.github.io/tutorials/machine-learning/reinforcement-learning/\">\\n\\t\\t\\t\\t强化学习</a>\\n\\t\\t</td><td>\\n\\t\\t\\t5:00\\n\\t\\t</td><td>\\n\\t\\t\\t<img src=\"https://morvanzhou.github.io/static/img/course_cover/rl.jpg\">\\n\\t\\t</td>\\n\\t</tr>\\n\\n\\t<tr id=\"course3\" class=\"data\">\\n\\t\\t<td>\\n\\t\\t\\t数据处理\\n\\t\\t</td><td>\\n\\t\\t\\t<a href=\"https://morvanzhou.github.io/tutorials/data-manipulation/scraping/\">\\n\\t\\t\\t\\t爬虫</a>\\n\\t\\t</td><td>\\n\\t\\t\\t3:00\\n\\t\\t</td><td>\\n\\t\\t\\t<img src=\"https://morvanzhou.github.io/static/img/course_cover/scraping.jpg\">\\n\\t\\t</td>\\n\\t</tr>\\n\\n</table>\\n\\n</body>\\n</html>'"
      ]
     },
     "execution_count": 29,
     "metadata": {},
     "output_type": "execute_result"
    }
   ],
   "source": [
    "from bs4 import BeautifulSoup\n",
    "from urllib.request import urlopen\n",
    "html_data = urlopen('https://morvanzhou.github.io/static/scraping/table.html').read().decode('utf-8')\n",
    "html_data"
   ]
  },
  {
   "cell_type": "code",
   "execution_count": 34,
   "metadata": {},
   "outputs": [
    {
     "name": "stdout",
     "output_type": "stream",
     "text": [
      "https://morvanzhou.github.io/static/img/course_cover/tf.jpg\n",
      "https://morvanzhou.github.io/static/img/course_cover/rl.jpg\n",
      "https://morvanzhou.github.io/static/img/course_cover/scraping.jpg\n"
     ]
    }
   ],
   "source": [
    "import re\n",
    "soup = BeautifulSoup(html_data,features='lxml')\n",
    "img_links = soup.findAll('img',{'src':re.compile('.*?\\.jpg')})\n",
    "for link in img_links:\n",
    "    print(link['src'])"
   ]
  },
  {
   "cell_type": "code",
   "execution_count": 36,
   "metadata": {},
   "outputs": [
    {
     "name": "stdout",
     "output_type": "stream",
     "text": [
      "https://morvanzhou.github.io/\n",
      "https://morvanzhou.github.io/tutorials/data-manipulation/scraping/\n",
      "https://morvanzhou.github.io/tutorials/machine-learning/tensorflow/\n",
      "https://morvanzhou.github.io/tutorials/machine-learning/reinforcement-learning/\n",
      "https://morvanzhou.github.io/tutorials/data-manipulation/scraping/\n"
     ]
    }
   ],
   "source": [
    "import re\n",
    "soup = BeautifulSoup(html_data,features='lxml')\n",
    "img_links = soup.findAll('a',{'href':re.compile('https:')})\n",
    "for link in img_links:\n",
    "    print(link['href'])"
   ]
  },
  {
   "cell_type": "code",
   "execution_count": null,
   "metadata": {},
   "outputs": [],
   "source": []
  }
 ],
 "metadata": {
  "kernelspec": {
   "display_name": "Python 3",
   "language": "python",
   "name": "python3"
  },
  "language_info": {
   "codemirror_mode": {
    "name": "ipython",
    "version": 3
   },
   "file_extension": ".py",
   "mimetype": "text/x-python",
   "name": "python",
   "nbconvert_exporter": "python",
   "pygments_lexer": "ipython3",
   "version": "3.6.4"
  }
 },
 "nbformat": 4,
 "nbformat_minor": 2
}
