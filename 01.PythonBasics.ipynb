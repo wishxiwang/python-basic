{
 "cells": [
  {
   "cell_type": "markdown",
   "metadata": {},
   "source": [
    "# 1.数据类型"
   ]
  },
  {
   "cell_type": "code",
   "execution_count": 221,
   "metadata": {},
   "outputs": [
    {
     "data": {
      "text/plain": [
       "int"
      ]
     },
     "execution_count": 221,
     "metadata": {},
     "output_type": "execute_result"
    }
   ],
   "source": [
    "#整形int\n",
    "a=1\n",
    "type(a)#查看数据类型"
   ]
  },
  {
   "cell_type": "code",
   "execution_count": 3,
   "metadata": {},
   "outputs": [
    {
     "data": {
      "text/plain": [
       "float"
      ]
     },
     "execution_count": 3,
     "metadata": {},
     "output_type": "execute_result"
    }
   ],
   "source": [
    "#浮点型float\n",
    "b = 2.2\n",
    "type(b)"
   ]
  },
  {
   "cell_type": "code",
   "execution_count": 4,
   "metadata": {},
   "outputs": [
    {
     "data": {
      "text/plain": [
       "complex"
      ]
     },
     "execution_count": 4,
     "metadata": {},
     "output_type": "execute_result"
    }
   ],
   "source": [
    "#复数complex：实部+虚部\n",
    "c = 5+5j\n",
    "type(c)"
   ]
  },
  {
   "cell_type": "code",
   "execution_count": 6,
   "metadata": {},
   "outputs": [
    {
     "data": {
      "text/plain": [
       "bool"
      ]
     },
     "execution_count": 6,
     "metadata": {},
     "output_type": "execute_result"
    }
   ],
   "source": [
    "#布尔型bool\n",
    "d = True\n",
    "type(d)"
   ]
  },
  {
   "cell_type": "code",
   "execution_count": 7,
   "metadata": {},
   "outputs": [
    {
     "data": {
      "text/plain": [
       "str"
      ]
     },
     "execution_count": 7,
     "metadata": {},
     "output_type": "execute_result"
    }
   ],
   "source": [
    "#字符串str\n",
    "c = 'a'\n",
    "type(c)"
   ]
  },
  {
   "cell_type": "code",
   "execution_count": 5,
   "metadata": {},
   "outputs": [
    {
     "data": {
      "text/plain": [
       "list"
      ]
     },
     "execution_count": 5,
     "metadata": {},
     "output_type": "execute_result"
    }
   ],
   "source": [
    "#列表list\n",
    "l = [1,2,3]\n",
    "type(l)"
   ]
  },
  {
   "cell_type": "code",
   "execution_count": 8,
   "metadata": {},
   "outputs": [
    {
     "data": {
      "text/plain": [
       "tuple"
      ]
     },
     "execution_count": 8,
     "metadata": {},
     "output_type": "execute_result"
    }
   ],
   "source": [
    "#元组Tuple\n",
    "t = (1,2)\n",
    "type(t)"
   ]
  },
  {
   "cell_type": "code",
   "execution_count": 9,
   "metadata": {},
   "outputs": [
    {
     "data": {
      "text/plain": [
       "dict"
      ]
     },
     "execution_count": 9,
     "metadata": {},
     "output_type": "execute_result"
    }
   ],
   "source": [
    "#字典dictionary\n",
    "d = {'a':1,'b':2}\n",
    "type(d)"
   ]
  },
  {
   "cell_type": "code",
   "execution_count": 12,
   "metadata": {},
   "outputs": [
    {
     "name": "stdout",
     "output_type": "stream",
     "text": [
      "[1, 1, 2, 2, 3, 3]\n",
      "{1, 2, 3}\n"
     ]
    },
    {
     "data": {
      "text/plain": [
       "set"
      ]
     },
     "execution_count": 12,
     "metadata": {},
     "output_type": "execute_result"
    }
   ],
   "source": [
    "#集合sets\n",
    "l1=[1,1,2,2,3,3]\n",
    "s = set(l1)\n",
    "print(l1)\n",
    "print(s)\n",
    "type(s)"
   ]
  },
  {
   "cell_type": "markdown",
   "metadata": {},
   "source": [
    "# 2.输出输入"
   ]
  },
  {
   "cell_type": "code",
   "execution_count": 15,
   "metadata": {},
   "outputs": [
    {
     "name": "stdout",
     "output_type": "stream",
     "text": [
      "this is 1\n"
     ]
    }
   ],
   "source": [
    "#格式化输出\n",
    "out_put = 1\n",
    "print('this is %d'%out_put)#%d有符号十进制整数"
   ]
  },
  {
   "cell_type": "code",
   "execution_count": 16,
   "metadata": {},
   "outputs": [
    {
     "name": "stdout",
     "output_type": "stream",
     "text": [
      "this is 2.200000\n"
     ]
    }
   ],
   "source": [
    "out_put = 2.2\n",
    "print('this is %f'%out_put)#%f浮点实数"
   ]
  },
  {
   "cell_type": "code",
   "execution_count": 18,
   "metadata": {},
   "outputs": [
    {
     "name": "stdout",
     "output_type": "stream",
     "text": [
      "this is abcd\n"
     ]
    }
   ],
   "source": [
    "out_put = 'abcd'\n",
    "print('this is %s'%out_put)#%s字符串"
   ]
  },
  {
   "cell_type": "code",
   "execution_count": 19,
   "metadata": {},
   "outputs": [
    {
     "name": "stdout",
     "output_type": "stream",
     "text": [
      "abcdef12345\n",
      "abcdef\n",
      "12345\n"
     ]
    }
   ],
   "source": [
    "#换行输出\n",
    "print('abcdef12345')\n",
    "print('abcdef\\n12345')"
   ]
  },
  {
   "cell_type": "code",
   "execution_count": 20,
   "metadata": {},
   "outputs": [
    {
     "name": "stdout",
     "output_type": "stream",
     "text": [
      "Please input your word:sfds\n"
     ]
    },
    {
     "data": {
      "text/plain": [
       "str"
      ]
     },
     "execution_count": 20,
     "metadata": {},
     "output_type": "execute_result"
    }
   ],
   "source": [
    "#输入input\n",
    "input_data = input('Please input your word:')\n",
    "type(input_data)"
   ]
  },
  {
   "cell_type": "markdown",
   "metadata": {},
   "source": [
    "# 3.运算符"
   ]
  },
  {
   "cell_type": "code",
   "execution_count": 21,
   "metadata": {},
   "outputs": [
    {
     "data": {
      "text/plain": [
       "2.25"
      ]
     },
     "execution_count": 21,
     "metadata": {},
     "output_type": "execute_result"
    }
   ],
   "source": [
    "#/除\n",
    "9/4"
   ]
  },
  {
   "cell_type": "code",
   "execution_count": 22,
   "metadata": {},
   "outputs": [
    {
     "data": {
      "text/plain": [
       "2"
      ]
     },
     "execution_count": 22,
     "metadata": {},
     "output_type": "execute_result"
    }
   ],
   "source": [
    "#//取整\n",
    "9//4"
   ]
  },
  {
   "cell_type": "code",
   "execution_count": 23,
   "metadata": {},
   "outputs": [
    {
     "data": {
      "text/plain": [
       "1"
      ]
     },
     "execution_count": 23,
     "metadata": {},
     "output_type": "execute_result"
    }
   ],
   "source": [
    "#%取余\n",
    "9%4"
   ]
  },
  {
   "cell_type": "code",
   "execution_count": 24,
   "metadata": {},
   "outputs": [
    {
     "data": {
      "text/plain": [
       "8"
      ]
     },
     "execution_count": 24,
     "metadata": {},
     "output_type": "execute_result"
    }
   ],
   "source": [
    "#**幂运算符\n",
    "2**3"
   ]
  },
  {
   "cell_type": "markdown",
   "metadata": {},
   "source": [
    "# 4.数据类型转换"
   ]
  },
  {
   "cell_type": "code",
   "execution_count": 25,
   "metadata": {},
   "outputs": [
    {
     "data": {
      "text/plain": [
       "str"
      ]
     },
     "execution_count": 25,
     "metadata": {},
     "output_type": "execute_result"
    }
   ],
   "source": [
    "a = '100'\n",
    "type(a)"
   ]
  },
  {
   "cell_type": "code",
   "execution_count": 27,
   "metadata": {},
   "outputs": [
    {
     "data": {
      "text/plain": [
       "int"
      ]
     },
     "execution_count": 27,
     "metadata": {},
     "output_type": "execute_result"
    }
   ],
   "source": [
    "#str转int\n",
    "b = int(a)\n",
    "type(b)"
   ]
  },
  {
   "cell_type": "markdown",
   "metadata": {},
   "source": [
    "# 5.逻辑运算符"
   ]
  },
  {
   "cell_type": "code",
   "execution_count": 28,
   "metadata": {},
   "outputs": [
    {
     "data": {
      "text/plain": [
       "False"
      ]
     },
     "execution_count": 28,
     "metadata": {},
     "output_type": "execute_result"
    }
   ],
   "source": [
    "#and与\n",
    "True and False"
   ]
  },
  {
   "cell_type": "code",
   "execution_count": 29,
   "metadata": {},
   "outputs": [
    {
     "data": {
      "text/plain": [
       "True"
      ]
     },
     "execution_count": 29,
     "metadata": {},
     "output_type": "execute_result"
    }
   ],
   "source": [
    "#or或\n",
    "True or False"
   ]
  },
  {
   "cell_type": "code",
   "execution_count": 31,
   "metadata": {},
   "outputs": [
    {
     "data": {
      "text/plain": [
       "True"
      ]
     },
     "execution_count": 31,
     "metadata": {},
     "output_type": "execute_result"
    }
   ],
   "source": [
    "#not非\n",
    "not False"
   ]
  },
  {
   "cell_type": "markdown",
   "metadata": {},
   "source": [
    "# 6.判断 if-else-elif"
   ]
  },
  {
   "cell_type": "code",
   "execution_count": 38,
   "metadata": {},
   "outputs": [
    {
     "name": "stdout",
     "output_type": "stream",
     "text": [
      "请输入0(剪刀) 1(石头) 2(布)1\n",
      "Dogfall!\n"
     ]
    }
   ],
   "source": [
    "#剪刀石头布实例\n",
    "import random\n",
    "\n",
    "player = int(input('请输入0(剪刀) 1(石头) 2(布)'))\n",
    "computer = random.randint(0,2)\n",
    "\n",
    "if (player==0 and computer==1) or (player==1 and computer==2) or (player==2 and computer==0):\n",
    "    print('You losed!')\n",
    "elif player == computer:\n",
    "    print('Dogfall!')\n",
    "else:\n",
    "    print('You winned!')\n"
   ]
  },
  {
   "cell_type": "markdown",
   "metadata": {},
   "source": [
    "# 7.循环"
   ]
  },
  {
   "cell_type": "markdown",
   "metadata": {},
   "source": [
    "## while"
   ]
  },
  {
   "cell_type": "code",
   "execution_count": 44,
   "metadata": {},
   "outputs": [
    {
     "name": "stdout",
     "output_type": "stream",
     "text": [
      "1*1=1  \n",
      "\n",
      "1*2=2  2*2=4  \n",
      "\n",
      "1*3=3  2*3=6  3*3=9  \n",
      "\n",
      "1*4=4  2*4=8  3*4=12  4*4=16  \n",
      "\n",
      "1*5=5  2*5=10  3*5=15  4*5=20  5*5=25  \n",
      "\n",
      "1*6=6  2*6=12  3*6=18  4*6=24  5*6=30  6*6=36  \n",
      "\n",
      "1*7=7  2*7=14  3*7=21  4*7=28  5*7=35  6*7=42  7*7=49  \n",
      "\n",
      "1*8=8  2*8=16  3*8=24  4*8=32  5*8=40  6*8=48  7*8=56  8*8=64  \n",
      "\n",
      "1*9=9  2*9=18  3*9=27  4*9=36  5*9=45  6*9=54  7*9=63  8*9=72  9*9=81  \n",
      "\n"
     ]
    }
   ],
   "source": [
    "#九九乘法表\n",
    "i =1\n",
    "while i<=9:\n",
    "    j = 1\n",
    "    while j<=i:\n",
    "        print('%d*%d=%d'%(j,i,i*j),end='  ')\n",
    "        j+=1\n",
    "    print('\\n')\n",
    "    i+=1"
   ]
  },
  {
   "cell_type": "markdown",
   "metadata": {},
   "source": [
    "## for"
   ]
  },
  {
   "cell_type": "code",
   "execution_count": 46,
   "metadata": {},
   "outputs": [
    {
     "name": "stdout",
     "output_type": "stream",
     "text": [
      "No data!\n"
     ]
    }
   ],
   "source": [
    "#else中为a为空时要执行的\n",
    "a = ''\n",
    "for x in a:\n",
    "    print(x)\n",
    "else:\n",
    "    print('No data!')"
   ]
  },
  {
   "cell_type": "markdown",
   "metadata": {},
   "source": [
    "## break 和 continue"
   ]
  },
  {
   "cell_type": "code",
   "execution_count": 49,
   "metadata": {},
   "outputs": [
    {
     "name": "stdout",
     "output_type": "stream",
     "text": [
      "a\n",
      "b\n",
      "c\n"
     ]
    }
   ],
   "source": [
    "#break终止循环\n",
    "a = 'abcdefg'\n",
    "for x in a:\n",
    "    if x == 'd':\n",
    "        break\n",
    "    print(x)"
   ]
  },
  {
   "cell_type": "code",
   "execution_count": 50,
   "metadata": {},
   "outputs": [
    {
     "name": "stdout",
     "output_type": "stream",
     "text": [
      "a\n",
      "b\n",
      "c\n",
      "e\n",
      "f\n",
      "g\n"
     ]
    }
   ],
   "source": [
    "#while终止本次循环\n",
    "for x in a:\n",
    "    if x=='d':\n",
    "        continue\n",
    "    print(x)"
   ]
  },
  {
   "cell_type": "markdown",
   "metadata": {},
   "source": [
    "# 8.字符串"
   ]
  },
  {
   "cell_type": "code",
   "execution_count": 51,
   "metadata": {},
   "outputs": [
    {
     "data": {
      "text/plain": [
       "str"
      ]
     },
     "execution_count": 51,
     "metadata": {},
     "output_type": "execute_result"
    }
   ],
   "source": [
    "#双引号或单引号都可以初始化字符串\n",
    "a = 'abcd'\n",
    "type(a)"
   ]
  },
  {
   "cell_type": "code",
   "execution_count": 52,
   "metadata": {},
   "outputs": [
    {
     "data": {
      "text/plain": [
       "str"
      ]
     },
     "execution_count": 52,
     "metadata": {},
     "output_type": "execute_result"
    }
   ],
   "source": [
    "b = \"abcdef\"\n",
    "type(b)"
   ]
  },
  {
   "cell_type": "markdown",
   "metadata": {},
   "source": [
    "## 下标"
   ]
  },
  {
   "cell_type": "code",
   "execution_count": 62,
   "metadata": {},
   "outputs": [
    {
     "name": "stdout",
     "output_type": "stream",
     "text": [
      "H\n",
      ",\n"
     ]
    }
   ],
   "source": [
    "s = 'Hello,world!'\n",
    "print(s[0])\n",
    "print(s[5])"
   ]
  },
  {
   "cell_type": "code",
   "execution_count": 63,
   "metadata": {},
   "outputs": [
    {
     "data": {
      "text/plain": [
       "'!'"
      ]
     },
     "execution_count": 63,
     "metadata": {},
     "output_type": "execute_result"
    }
   ],
   "source": [
    "#-1代表最后一个，以此类推\n",
    "s[-1]"
   ]
  },
  {
   "cell_type": "code",
   "execution_count": 64,
   "metadata": {},
   "outputs": [
    {
     "data": {
      "text/plain": [
       "'d'"
      ]
     },
     "execution_count": 64,
     "metadata": {},
     "output_type": "execute_result"
    }
   ],
   "source": [
    "s[-2]"
   ]
  },
  {
   "cell_type": "markdown",
   "metadata": {},
   "source": [
    "## 切片"
   ]
  },
  {
   "cell_type": "code",
   "execution_count": 54,
   "metadata": {},
   "outputs": [
    {
     "data": {
      "text/plain": [
       "'cdef'"
      ]
     },
     "execution_count": 54,
     "metadata": {},
     "output_type": "execute_result"
    }
   ],
   "source": [
    "#取第3到第6个字符\n",
    "a = 'abcdefghijk'\n",
    "a[2:6]"
   ]
  },
  {
   "cell_type": "code",
   "execution_count": 57,
   "metadata": {},
   "outputs": [
    {
     "data": {
      "text/plain": [
       "'abcd'"
      ]
     },
     "execution_count": 57,
     "metadata": {},
     "output_type": "execute_result"
    }
   ],
   "source": [
    "#取第5(不包括)之前的所以字符\n",
    "a[:4]"
   ]
  },
  {
   "cell_type": "code",
   "execution_count": 58,
   "metadata": {},
   "outputs": [
    {
     "data": {
      "text/plain": [
       "'efghijk'"
      ]
     },
     "execution_count": 58,
     "metadata": {},
     "output_type": "execute_result"
    }
   ],
   "source": [
    "#取第5（包括）之后的所有字符\n",
    "a[4:]"
   ]
  },
  {
   "cell_type": "code",
   "execution_count": 59,
   "metadata": {},
   "outputs": [
    {
     "data": {
      "text/plain": [
       "'acegik'"
      ]
     },
     "execution_count": 59,
     "metadata": {},
     "output_type": "execute_result"
    }
   ],
   "source": [
    "#步长为2，取字符\n",
    "a[::2]"
   ]
  },
  {
   "cell_type": "code",
   "execution_count": 66,
   "metadata": {},
   "outputs": [
    {
     "data": {
      "text/plain": [
       "'kjihgfedcba'"
      ]
     },
     "execution_count": 66,
     "metadata": {},
     "output_type": "execute_result"
    }
   ],
   "source": [
    "#反转字符串\n",
    "a[::-1]"
   ]
  },
  {
   "cell_type": "markdown",
   "metadata": {},
   "source": [
    "## 字符串常见操作"
   ]
  },
  {
   "cell_type": "code",
   "execution_count": 80,
   "metadata": {},
   "outputs": [
    {
     "data": {
      "text/plain": [
       "13"
      ]
     },
     "execution_count": 80,
     "metadata": {},
     "output_type": "execute_result"
    }
   ],
   "source": [
    "my_str = 'Hello world ,hello my worldwide friends!'\n",
    "#find:检测 str 是否包含在 my_str中，如果是返回开始的索引值，否则返回-1\n",
    "my_str.find('hello')"
   ]
  },
  {
   "cell_type": "code",
   "execution_count": 68,
   "metadata": {},
   "outputs": [
    {
     "data": {
      "text/plain": [
       "-1"
      ]
     },
     "execution_count": 68,
     "metadata": {},
     "output_type": "execute_result"
    }
   ],
   "source": [
    "my_str.find('hello',start = 0,end = 12)#指定索引位置"
   ]
  },
  {
   "cell_type": "code",
   "execution_count": 69,
   "metadata": {},
   "outputs": [
    {
     "ename": "TypeError",
     "evalue": "index() takes no keyword arguments",
     "output_type": "error",
     "traceback": [
      "\u001b[1;31m---------------------------------------------------------------------------\u001b[0m",
      "\u001b[1;31mTypeError\u001b[0m                                 Traceback (most recent call last)",
      "\u001b[1;32m<ipython-input-69-77c66f7960e0>\u001b[0m in \u001b[0;36m<module>\u001b[1;34m()\u001b[0m\n\u001b[0;32m      1\u001b[0m \u001b[1;31m#index:跟find()方法一样，只不过如果str不在 mystr中会报一个异常\u001b[0m\u001b[1;33m\u001b[0m\u001b[1;33m\u001b[0m\u001b[0m\n\u001b[1;32m----> 2\u001b[1;33m \u001b[0mmy_str\u001b[0m\u001b[1;33m.\u001b[0m\u001b[0mindex\u001b[0m\u001b[1;33m(\u001b[0m\u001b[1;34m'aaa'\u001b[0m\u001b[1;33m,\u001b[0m\u001b[0mstart\u001b[0m \u001b[1;33m=\u001b[0m \u001b[1;36m0\u001b[0m\u001b[1;33m,\u001b[0m\u001b[0mend\u001b[0m \u001b[1;33m=\u001b[0m \u001b[0mlen\u001b[0m\u001b[1;33m(\u001b[0m\u001b[0mmy_str\u001b[0m\u001b[1;33m)\u001b[0m\u001b[1;33m)\u001b[0m\u001b[1;33m\u001b[0m\u001b[0m\n\u001b[0m",
      "\u001b[1;31mTypeError\u001b[0m: index() takes no keyword arguments"
     ]
    }
   ],
   "source": [
    "#index:跟find()方法一样，只不过如果str不在 mystr中会报一个异常\n",
    "my_str.index('aaa',start = 0,end = len(my_str))"
   ]
  },
  {
   "cell_type": "code",
   "execution_count": 76,
   "metadata": {},
   "outputs": [
    {
     "data": {
      "text/plain": [
       "4"
      ]
     },
     "execution_count": 76,
     "metadata": {},
     "output_type": "execute_result"
    }
   ],
   "source": [
    "#count:返回str在start和end之间出现的次数\n",
    "my_str.count('o',0,len(my_str))"
   ]
  },
  {
   "cell_type": "code",
   "execution_count": 81,
   "metadata": {},
   "outputs": [
    {
     "data": {
      "text/plain": [
       "'Hello universe ,hello my worldwide friends!'"
      ]
     },
     "execution_count": 81,
     "metadata": {},
     "output_type": "execute_result"
    }
   ],
   "source": [
    "#replace:把my_str中的str1替换成str2,如果count指定则替换不超过count次\n",
    "my_str.replace('world','universe',1)"
   ]
  },
  {
   "cell_type": "code",
   "execution_count": 82,
   "metadata": {},
   "outputs": [
    {
     "data": {
      "text/plain": [
       "['Hello', 'world', ',hello', 'my', 'worldwide', 'friends!']"
      ]
     },
     "execution_count": 82,
     "metadata": {},
     "output_type": "execute_result"
    }
   ],
   "source": [
    "#split:以str为分隔符切片my_str，如果maxsplit有指定值,则仅分隔maxsplit个子字符串\n",
    "my_str.split(' ')"
   ]
  },
  {
   "cell_type": "code",
   "execution_count": 83,
   "metadata": {},
   "outputs": [
    {
     "data": {
      "text/plain": [
       "'Hello world ,hello my worldwide friends!'"
      ]
     },
     "execution_count": 83,
     "metadata": {},
     "output_type": "execute_result"
    }
   ],
   "source": [
    "#capitalize:把字符串的第一个字符大写\n",
    "my_str.capitalize()"
   ]
  },
  {
   "cell_type": "code",
   "execution_count": 85,
   "metadata": {},
   "outputs": [
    {
     "data": {
      "text/plain": [
       "'Hello World ,Hello My Worldwide Friends!'"
      ]
     },
     "execution_count": 85,
     "metadata": {},
     "output_type": "execute_result"
    }
   ],
   "source": [
    "#title:把字符串的每个单词首字母大写\n",
    "my_str.title()"
   ]
  },
  {
   "cell_type": "code",
   "execution_count": 86,
   "metadata": {},
   "outputs": [
    {
     "data": {
      "text/plain": [
       "True"
      ]
     },
     "execution_count": 86,
     "metadata": {},
     "output_type": "execute_result"
    }
   ],
   "source": [
    "#startwith:检查字符串是否是以str开头, 是则返回True，否则返回 False\n",
    "my_str.startswith('Hello')"
   ]
  },
  {
   "cell_type": "code",
   "execution_count": 88,
   "metadata": {},
   "outputs": [
    {
     "data": {
      "text/plain": [
       "True"
      ]
     },
     "execution_count": 88,
     "metadata": {},
     "output_type": "execute_result"
    }
   ],
   "source": [
    "#endwith:检查字符串是否以str结束,如果是返回True,否则返回False.\n",
    "my_str.endswith('friends!')"
   ]
  },
  {
   "cell_type": "code",
   "execution_count": 89,
   "metadata": {},
   "outputs": [
    {
     "data": {
      "text/plain": [
       "'hello world ,hello my worldwide friends!'"
      ]
     },
     "execution_count": 89,
     "metadata": {},
     "output_type": "execute_result"
    }
   ],
   "source": [
    "#lower:转换字符串中所有大写字符为小写字符\n",
    "my_str.lower()"
   ]
  },
  {
   "cell_type": "code",
   "execution_count": 91,
   "metadata": {},
   "outputs": [
    {
     "data": {
      "text/plain": [
       "'HELLO WORLD ,HELLO MY WORLDWIDE FRIENDS!'"
      ]
     },
     "execution_count": 91,
     "metadata": {},
     "output_type": "execute_result"
    }
   ],
   "source": [
    "#upper:转换 mystr中的小写字母为大写\n",
    "my_str.upper()"
   ]
  },
  {
   "cell_type": "code",
   "execution_count": 93,
   "metadata": {},
   "outputs": [
    {
     "data": {
      "text/plain": [
       "'eat       '"
      ]
     },
     "execution_count": 93,
     "metadata": {},
     "output_type": "execute_result"
    }
   ],
   "source": [
    "#ljust:使字符串左对齐,并使用空格填充至长度为width的新字符串\n",
    "my_str = 'eat'\n",
    "my_str.ljust(10)"
   ]
  },
  {
   "cell_type": "code",
   "execution_count": 94,
   "metadata": {},
   "outputs": [
    {
     "data": {
      "text/plain": [
       "'       eat'"
      ]
     },
     "execution_count": 94,
     "metadata": {},
     "output_type": "execute_result"
    }
   ],
   "source": [
    "#rjust:使字符串右对齐,并使用空格填充至长度为width的新字符串\n",
    "my_str.rjust(10)"
   ]
  },
  {
   "cell_type": "code",
   "execution_count": 96,
   "metadata": {},
   "outputs": [
    {
     "data": {
      "text/plain": [
       "'   eat    '"
      ]
     },
     "execution_count": 96,
     "metadata": {},
     "output_type": "execute_result"
    }
   ],
   "source": [
    "#center:使字符串居中,并使用空格填充至长度为width的新字符串\n",
    "my_str.center(10)"
   ]
  },
  {
   "cell_type": "code",
   "execution_count": 99,
   "metadata": {},
   "outputs": [
    {
     "data": {
      "text/plain": [
       "'eat    '"
      ]
     },
     "execution_count": 99,
     "metadata": {},
     "output_type": "execute_result"
    }
   ],
   "source": [
    "#lstrip:删除my_str左边的空白字符\n",
    "my_str = my_str.center(10)\n",
    "my_str.lstrip()"
   ]
  },
  {
   "cell_type": "code",
   "execution_count": 100,
   "metadata": {},
   "outputs": [
    {
     "data": {
      "text/plain": [
       "'   eat'"
      ]
     },
     "execution_count": 100,
     "metadata": {},
     "output_type": "execute_result"
    }
   ],
   "source": [
    "#rstrip:删除my_str右边的空白字符\n",
    "my_str = my_str.center(10)\n",
    "my_str.rstrip()"
   ]
  },
  {
   "cell_type": "code",
   "execution_count": 101,
   "metadata": {},
   "outputs": [
    {
     "data": {
      "text/plain": [
       "'eat'"
      ]
     },
     "execution_count": 101,
     "metadata": {},
     "output_type": "execute_result"
    }
   ],
   "source": [
    "#strip:删除my_str字符串两端的空白字符\n",
    "my_str = my_str.center(10)\n",
    "my_str.strip()"
   ]
  },
  {
   "cell_type": "code",
   "execution_count": 103,
   "metadata": {},
   "outputs": [
    {
     "data": {
      "text/plain": [
       "0"
      ]
     },
     "execution_count": 103,
     "metadata": {},
     "output_type": "execute_result"
    }
   ],
   "source": [
    "#rfind:类似于 find()函数，不过是从右边开始查找.\n",
    "my_str = 'Hello world ,hello my worldwide friends!'\n",
    "my_str.rfind('Hello')"
   ]
  },
  {
   "cell_type": "code",
   "execution_count": 104,
   "metadata": {},
   "outputs": [
    {
     "ename": "ValueError",
     "evalue": "substring not found",
     "output_type": "error",
     "traceback": [
      "\u001b[1;31m---------------------------------------------------------------------------\u001b[0m",
      "\u001b[1;31mValueError\u001b[0m                                Traceback (most recent call last)",
      "\u001b[1;32m<ipython-input-104-f768ddf847ca>\u001b[0m in \u001b[0;36m<module>\u001b[1;34m()\u001b[0m\n\u001b[0;32m      1\u001b[0m \u001b[1;31m#rindex:类似于index()函数，不过是从左边开始查找.\u001b[0m\u001b[1;33m\u001b[0m\u001b[1;33m\u001b[0m\u001b[0m\n\u001b[1;32m----> 2\u001b[1;33m \u001b[0mmy_str\u001b[0m\u001b[1;33m.\u001b[0m\u001b[0mrindex\u001b[0m\u001b[1;33m(\u001b[0m\u001b[1;34m'abc'\u001b[0m\u001b[1;33m)\u001b[0m\u001b[1;33m\u001b[0m\u001b[0m\n\u001b[0m",
      "\u001b[1;31mValueError\u001b[0m: substring not found"
     ]
    }
   ],
   "source": [
    "#rindex:类似于index()函数，不过是从左边开始查找.\n",
    "my_str.rindex('abc')"
   ]
  },
  {
   "cell_type": "code",
   "execution_count": 105,
   "metadata": {},
   "outputs": [
    {
     "data": {
      "text/plain": [
       "('Hello world ,', 'hello', ' my worldwide friends!')"
      ]
     },
     "execution_count": 105,
     "metadata": {},
     "output_type": "execute_result"
    }
   ],
   "source": [
    "#partition:把my_str以str分割成三部分,str前，str,str后\n",
    "my_str.partition('hello')"
   ]
  },
  {
   "cell_type": "code",
   "execution_count": 106,
   "metadata": {},
   "outputs": [
    {
     "data": {
      "text/plain": [
       "('Hello world ,', 'hello', ' my worldwide friends!')"
      ]
     },
     "execution_count": 106,
     "metadata": {},
     "output_type": "execute_result"
    }
   ],
   "source": [
    "#rpartition:类似于partition()函数,不过是从右边开始.\n",
    "my_str.rpartition('hello')"
   ]
  },
  {
   "cell_type": "code",
   "execution_count": 107,
   "metadata": {},
   "outputs": [
    {
     "data": {
      "text/plain": [
       "['Hello', 'world']"
      ]
     },
     "execution_count": 107,
     "metadata": {},
     "output_type": "execute_result"
    }
   ],
   "source": [
    "#splitlines:按照行分隔，返回一个包含各行作为元素的列表\n",
    "my_str = 'Hello\\nworld'\n",
    "my_str.splitlines()"
   ]
  },
  {
   "cell_type": "code",
   "execution_count": 108,
   "metadata": {},
   "outputs": [
    {
     "data": {
      "text/plain": [
       "['Hello', 'world']"
      ]
     },
     "execution_count": 108,
     "metadata": {},
     "output_type": "execute_result"
    }
   ],
   "source": [
    "my_str.split('\\n')"
   ]
  },
  {
   "cell_type": "code",
   "execution_count": 109,
   "metadata": {},
   "outputs": [
    {
     "data": {
      "text/plain": [
       "True"
      ]
     },
     "execution_count": 109,
     "metadata": {},
     "output_type": "execute_result"
    }
   ],
   "source": [
    "#isalpha:如果my_str所有字符都是字母则返回True,否则返回False.\n",
    "my_str = 'abc'\n",
    "my_str.isalpha()"
   ]
  },
  {
   "cell_type": "code",
   "execution_count": 112,
   "metadata": {},
   "outputs": [
    {
     "data": {
      "text/plain": [
       "False"
      ]
     },
     "execution_count": 112,
     "metadata": {},
     "output_type": "execute_result"
    }
   ],
   "source": [
    "my_str = '123a'\n",
    "my_str.isalpha()"
   ]
  },
  {
   "cell_type": "code",
   "execution_count": 113,
   "metadata": {},
   "outputs": [
    {
     "data": {
      "text/plain": [
       "False"
      ]
     },
     "execution_count": 113,
     "metadata": {},
     "output_type": "execute_result"
    }
   ],
   "source": [
    "#isdigit:如果my_str只包含数字则返回True否则返回False.\n",
    "my_str = 'abc'\n",
    "my_str.isdigit()"
   ]
  },
  {
   "cell_type": "code",
   "execution_count": 114,
   "metadata": {},
   "outputs": [
    {
     "data": {
      "text/plain": [
       "True"
      ]
     },
     "execution_count": 114,
     "metadata": {},
     "output_type": "execute_result"
    }
   ],
   "source": [
    "my_str = '123'\n",
    "my_str.isdigit()"
   ]
  },
  {
   "cell_type": "code",
   "execution_count": 115,
   "metadata": {},
   "outputs": [
    {
     "data": {
      "text/plain": [
       "True"
      ]
     },
     "execution_count": 115,
     "metadata": {},
     "output_type": "execute_result"
    }
   ],
   "source": [
    "#isalnum:如果my_str所有字符都是字母或数字则返回True,否则返回 False.\n",
    "my_str = '123adsfb'\n",
    "my_str.isalnum()"
   ]
  },
  {
   "cell_type": "code",
   "execution_count": 116,
   "metadata": {},
   "outputs": [
    {
     "data": {
      "text/plain": [
       "False"
      ]
     },
     "execution_count": 116,
     "metadata": {},
     "output_type": "execute_result"
    }
   ],
   "source": [
    "my_str = '123a dsfb'\n",
    "my_str.isalnum()"
   ]
  },
  {
   "cell_type": "code",
   "execution_count": 117,
   "metadata": {},
   "outputs": [
    {
     "data": {
      "text/plain": [
       "True"
      ]
     },
     "execution_count": 117,
     "metadata": {},
     "output_type": "execute_result"
    }
   ],
   "source": [
    "#isspace:如果my_str中只包含空格，则返回True否则返回False.\n",
    "my_str = '  '\n",
    "my_str.isspace()"
   ]
  },
  {
   "cell_type": "code",
   "execution_count": 118,
   "metadata": {},
   "outputs": [
    {
     "data": {
      "text/plain": [
       "False"
      ]
     },
     "execution_count": 118,
     "metadata": {},
     "output_type": "execute_result"
    }
   ],
   "source": [
    "my_str = ''\n",
    "my_str.isspace()"
   ]
  },
  {
   "cell_type": "code",
   "execution_count": 119,
   "metadata": {},
   "outputs": [
    {
     "data": {
      "text/plain": [
       "False"
      ]
     },
     "execution_count": 119,
     "metadata": {},
     "output_type": "execute_result"
    }
   ],
   "source": [
    "my_str = 'asdf '\n",
    "my_str.isspace()"
   ]
  },
  {
   "cell_type": "code",
   "execution_count": 125,
   "metadata": {},
   "outputs": [
    {
     "name": "stdout",
     "output_type": "stream",
     "text": [
      "\n"
     ]
    },
    {
     "data": {
      "text/plain": [
       "'abc'"
      ]
     },
     "execution_count": 125,
     "metadata": {},
     "output_type": "execute_result"
    }
   ],
   "source": [
    "#join:my_str 中每个字符后面插入str,构造出一个新的字符串\n",
    "s = ['a','b','c']\n",
    "my_str = ''\n",
    "print(my_str)\n",
    "my_str.join(s)"
   ]
  },
  {
   "cell_type": "code",
   "execution_count": 131,
   "metadata": {},
   "outputs": [
    {
     "name": "stdout",
     "output_type": "stream",
     "text": [
      "Hello boys,\n",
      " you are\n",
      "handsome\n"
     ]
    }
   ],
   "source": [
    "#给定一个字符串test_str，返回使用空格或者'\\t'分割后的倒数第二个子串\n",
    "test_str = 'Hello boys,\\n you are\\nhandsome'\n",
    "print(test_str)"
   ]
  },
  {
   "cell_type": "code",
   "execution_count": 132,
   "metadata": {},
   "outputs": [
    {
     "data": {
      "text/plain": [
       "['Hello', 'boys,', 'you', 'are', 'handsome']"
      ]
     },
     "execution_count": 132,
     "metadata": {},
     "output_type": "execute_result"
    }
   ],
   "source": [
    "test_str.split()"
   ]
  },
  {
   "cell_type": "markdown",
   "metadata": {},
   "source": [
    "# 9.列表"
   ]
  },
  {
   "cell_type": "code",
   "execution_count": 134,
   "metadata": {},
   "outputs": [
    {
     "name": "stdout",
     "output_type": "stream",
     "text": [
      "[1, 'a', [1, 2, 3]]\n"
     ]
    }
   ],
   "source": [
    "#与c语言不通，列表中的元素可以是不同类别的\n",
    "l = [1,'a',[1,2,3]]\n",
    "print(l)"
   ]
  },
  {
   "cell_type": "markdown",
   "metadata": {},
   "source": [
    "## 列表的相关操作"
   ]
  },
  {
   "cell_type": "markdown",
   "metadata": {},
   "source": [
    "### 添加元素(append,extend,insert)"
   ]
  },
  {
   "cell_type": "code",
   "execution_count": 136,
   "metadata": {},
   "outputs": [
    {
     "data": {
      "text/plain": [
       "['aa']"
      ]
     },
     "execution_count": 136,
     "metadata": {},
     "output_type": "execute_result"
    }
   ],
   "source": [
    "#append:向列表添加元素\n",
    "a = []\n",
    "a.append('aa')\n",
    "a"
   ]
  },
  {
   "cell_type": "code",
   "execution_count": 139,
   "metadata": {},
   "outputs": [
    {
     "data": {
      "text/plain": [
       "['a', 'b', 'c', ['d', 'e']]"
      ]
     },
     "execution_count": 139,
     "metadata": {},
     "output_type": "execute_result"
    }
   ],
   "source": [
    "#extend:可以将另一个集合中的元素逐一添加到列表中\n",
    "a = ['a','b','c']\n",
    "b = ['d','e']\n",
    "a.append(b)\n",
    "a"
   ]
  },
  {
   "cell_type": "code",
   "execution_count": 140,
   "metadata": {},
   "outputs": [
    {
     "data": {
      "text/plain": [
       "['a', 'b', 'c', 'd', 'e']"
      ]
     },
     "execution_count": 140,
     "metadata": {},
     "output_type": "execute_result"
    }
   ],
   "source": [
    "a = ['a','b','c']\n",
    "b = ['d','e']\n",
    "a.extend(b)\n",
    "a"
   ]
  },
  {
   "cell_type": "code",
   "execution_count": 145,
   "metadata": {},
   "outputs": [
    {
     "data": {
      "text/plain": [
       "[0, 1, 2, 3]"
      ]
     },
     "execution_count": 145,
     "metadata": {},
     "output_type": "execute_result"
    }
   ],
   "source": [
    "#insert:在指定位置index前插入元素object\n",
    "a = [0,1,2]\n",
    "a.insert(3,3)\n",
    "a"
   ]
  },
  {
   "cell_type": "markdown",
   "metadata": {},
   "source": [
    "### 修改元素"
   ]
  },
  {
   "cell_type": "code",
   "execution_count": 146,
   "metadata": {},
   "outputs": [
    {
     "data": {
      "text/plain": [
       "[1, 2, 3, 5]"
      ]
     },
     "execution_count": 146,
     "metadata": {},
     "output_type": "execute_result"
    }
   ],
   "source": [
    "#使用下标索引\n",
    "a = [1,2,3,4]\n",
    "a[3] = 5\n",
    "a"
   ]
  },
  {
   "cell_type": "markdown",
   "metadata": {},
   "source": [
    "### 查找元素(in,not in,index,count)"
   ]
  },
  {
   "cell_type": "code",
   "execution_count": 147,
   "metadata": {},
   "outputs": [
    {
     "data": {
      "text/plain": [
       "True"
      ]
     },
     "execution_count": 147,
     "metadata": {},
     "output_type": "execute_result"
    }
   ],
   "source": [
    "#in:如果存在那么结果为true，否则为false\n",
    "a = [1,2,3]\n",
    "2 in a"
   ]
  },
  {
   "cell_type": "code",
   "execution_count": 148,
   "metadata": {},
   "outputs": [
    {
     "name": "stdout",
     "output_type": "stream",
     "text": [
      "[1, 2, 3]\n"
     ]
    }
   ],
   "source": [
    "if 2 in a:\n",
    "    print(a)"
   ]
  },
  {
   "cell_type": "code",
   "execution_count": 149,
   "metadata": {},
   "outputs": [
    {
     "data": {
      "text/plain": [
       "False"
      ]
     },
     "execution_count": 149,
     "metadata": {},
     "output_type": "execute_result"
    }
   ],
   "source": [
    "#not in:如果不存在那么结果为true,否则false\n",
    "2 not in a"
   ]
  },
  {
   "cell_type": "code",
   "execution_count": 157,
   "metadata": {},
   "outputs": [
    {
     "data": {
      "text/plain": [
       "1"
      ]
     },
     "execution_count": 157,
     "metadata": {},
     "output_type": "execute_result"
    }
   ],
   "source": [
    "#count:在str中寻找指定元素，存在返回位置，不存在返回0\n",
    "a.count(3)"
   ]
  },
  {
   "cell_type": "code",
   "execution_count": 159,
   "metadata": {},
   "outputs": [
    {
     "data": {
      "text/plain": [
       "0"
      ]
     },
     "execution_count": 159,
     "metadata": {},
     "output_type": "execute_result"
    }
   ],
   "source": [
    "a.count('a')"
   ]
  },
  {
   "cell_type": "code",
   "execution_count": 160,
   "metadata": {},
   "outputs": [
    {
     "data": {
      "text/plain": [
       "1"
      ]
     },
     "execution_count": 160,
     "metadata": {},
     "output_type": "execute_result"
    }
   ],
   "source": [
    "#index:在str中寻找指定元素，存在返回位置，不存在抛出错误\n",
    "a.index(2)"
   ]
  },
  {
   "cell_type": "code",
   "execution_count": 161,
   "metadata": {},
   "outputs": [
    {
     "ename": "ValueError",
     "evalue": "4 is not in list",
     "output_type": "error",
     "traceback": [
      "\u001b[1;31m---------------------------------------------------------------------------\u001b[0m",
      "\u001b[1;31mValueError\u001b[0m                                Traceback (most recent call last)",
      "\u001b[1;32m<ipython-input-161-bca86892130e>\u001b[0m in \u001b[0;36m<module>\u001b[1;34m()\u001b[0m\n\u001b[1;32m----> 1\u001b[1;33m \u001b[0ma\u001b[0m\u001b[1;33m.\u001b[0m\u001b[0mindex\u001b[0m\u001b[1;33m(\u001b[0m\u001b[1;36m4\u001b[0m\u001b[1;33m)\u001b[0m\u001b[1;33m\u001b[0m\u001b[0m\n\u001b[0m",
      "\u001b[1;31mValueError\u001b[0m: 4 is not in list"
     ]
    }
   ],
   "source": [
    "a.index(4)"
   ]
  },
  {
   "cell_type": "markdown",
   "metadata": {},
   "source": [
    "### 删除元素(del,pop,remove)"
   ]
  },
  {
   "cell_type": "code",
   "execution_count": 168,
   "metadata": {},
   "outputs": [
    {
     "data": {
      "text/plain": [
       "['加勒比海盗', '骇客帝国', '指环王', '霍比特人', '速度与激情']"
      ]
     },
     "execution_count": 168,
     "metadata": {},
     "output_type": "execute_result"
    }
   ],
   "source": [
    "movieName = ['加勒比海盗','骇客帝国','第一滴血','指环王','霍比特人','速度与激情']\n",
    "#del:根据下标进行删除\n",
    "del movieName[2]\n",
    "movieName"
   ]
  },
  {
   "cell_type": "code",
   "execution_count": 169,
   "metadata": {},
   "outputs": [
    {
     "data": {
      "text/plain": [
       "['加勒比海盗', '骇客帝国', '指环王', '霍比特人']"
      ]
     },
     "execution_count": 169,
     "metadata": {},
     "output_type": "execute_result"
    }
   ],
   "source": [
    "#pop:删除最后一个元素\n",
    "movieName.pop()\n",
    "movieName"
   ]
  },
  {
   "cell_type": "code",
   "execution_count": 171,
   "metadata": {},
   "outputs": [],
   "source": [
    "#remove:根据元素的值进行删除\n",
    "movieName.remove('指环王')"
   ]
  },
  {
   "cell_type": "code",
   "execution_count": 172,
   "metadata": {},
   "outputs": [
    {
     "data": {
      "text/plain": [
       "['加勒比海盗', '骇客帝国', '霍比特人']"
      ]
     },
     "execution_count": 172,
     "metadata": {},
     "output_type": "execute_result"
    }
   ],
   "source": [
    "movieName"
   ]
  },
  {
   "cell_type": "markdown",
   "metadata": {},
   "source": [
    "### 排序（sort, reverse）"
   ]
  },
  {
   "cell_type": "code",
   "execution_count": 173,
   "metadata": {},
   "outputs": [],
   "source": [
    "#sort:将list按特定顺序重新排列，默认为由小到大，参数reverse=True可改为倒序，由大到小。\n",
    "a = [2,3,4,1,2,4,5]\n",
    "a.sort()"
   ]
  },
  {
   "cell_type": "code",
   "execution_count": 176,
   "metadata": {},
   "outputs": [
    {
     "data": {
      "text/plain": [
       "[5, 4, 4, 3, 2, 2, 1]"
      ]
     },
     "execution_count": 176,
     "metadata": {},
     "output_type": "execute_result"
    }
   ],
   "source": [
    "a.sort(reverse=True)\n",
    "a"
   ]
  },
  {
   "cell_type": "code",
   "execution_count": 177,
   "metadata": {},
   "outputs": [
    {
     "data": {
      "text/plain": [
       "[3, 2, 53, 3, 12]"
      ]
     },
     "execution_count": 177,
     "metadata": {},
     "output_type": "execute_result"
    }
   ],
   "source": [
    "#reverse:将list逆置。\n",
    "a = [12,3,53,2,3]\n",
    "a.reverse()\n",
    "a"
   ]
  },
  {
   "cell_type": "markdown",
   "metadata": {},
   "source": [
    "# 10.元组:元素不能修改"
   ]
  },
  {
   "cell_type": "code",
   "execution_count": 178,
   "metadata": {},
   "outputs": [
    {
     "data": {
      "text/plain": [
       "('hello', 66)"
      ]
     },
     "execution_count": 178,
     "metadata": {},
     "output_type": "execute_result"
    }
   ],
   "source": [
    "my_tuple = ('hello',66)\n",
    "my_tuple"
   ]
  },
  {
   "cell_type": "code",
   "execution_count": 179,
   "metadata": {},
   "outputs": [
    {
     "data": {
      "text/plain": [
       "66"
      ]
     },
     "execution_count": 179,
     "metadata": {},
     "output_type": "execute_result"
    }
   ],
   "source": [
    "#访问元素\n",
    "my_tuple[1]"
   ]
  },
  {
   "cell_type": "code",
   "execution_count": 180,
   "metadata": {},
   "outputs": [
    {
     "ename": "TypeError",
     "evalue": "'tuple' object does not support item assignment",
     "output_type": "error",
     "traceback": [
      "\u001b[1;31m---------------------------------------------------------------------------\u001b[0m",
      "\u001b[1;31mTypeError\u001b[0m                                 Traceback (most recent call last)",
      "\u001b[1;32m<ipython-input-180-0d987d382589>\u001b[0m in \u001b[0;36m<module>\u001b[1;34m()\u001b[0m\n\u001b[0;32m      1\u001b[0m \u001b[1;31m#修改元素\u001b[0m\u001b[1;33m\u001b[0m\u001b[1;33m\u001b[0m\u001b[0m\n\u001b[1;32m----> 2\u001b[1;33m \u001b[0mmy_tuple\u001b[0m\u001b[1;33m[\u001b[0m\u001b[1;36m1\u001b[0m\u001b[1;33m]\u001b[0m \u001b[1;33m=\u001b[0m \u001b[1;36m88\u001b[0m\u001b[1;33m\u001b[0m\u001b[0m\n\u001b[0m",
      "\u001b[1;31mTypeError\u001b[0m: 'tuple' object does not support item assignment"
     ]
    }
   ],
   "source": [
    "#修改元素\n",
    "my_tuple[1] = 88"
   ]
  },
  {
   "cell_type": "code",
   "execution_count": 187,
   "metadata": {},
   "outputs": [
    {
     "data": {
      "text/plain": [
       "2"
      ]
     },
     "execution_count": 187,
     "metadata": {},
     "output_type": "execute_result"
    }
   ],
   "source": [
    "#内置方法count，index\n",
    "a = ('a','b','c','a','b')\n",
    "a.index('c',1,3)"
   ]
  },
  {
   "cell_type": "code",
   "execution_count": 193,
   "metadata": {},
   "outputs": [
    {
     "data": {
      "text/plain": [
       "2"
      ]
     },
     "execution_count": 193,
     "metadata": {},
     "output_type": "execute_result"
    }
   ],
   "source": [
    "a.count('a')"
   ]
  },
  {
   "cell_type": "markdown",
   "metadata": {},
   "source": [
    "# 11.字典"
   ]
  },
  {
   "cell_type": "code",
   "execution_count": 194,
   "metadata": {},
   "outputs": [
    {
     "data": {
      "text/plain": [
       "dict"
      ]
     },
     "execution_count": 194,
     "metadata": {},
     "output_type": "execute_result"
    }
   ],
   "source": [
    "info = {'name':'班长', 'id':100, 'sex':'f', 'address':'地球亚洲中国北京'}\n",
    "type(info)"
   ]
  },
  {
   "cell_type": "code",
   "execution_count": 195,
   "metadata": {},
   "outputs": [
    {
     "data": {
      "text/plain": [
       "'班长'"
      ]
     },
     "execution_count": 195,
     "metadata": {},
     "output_type": "execute_result"
    }
   ],
   "source": [
    "#根据键访问值\n",
    "info['name']"
   ]
  },
  {
   "cell_type": "code",
   "execution_count": 197,
   "metadata": {},
   "outputs": [
    {
     "data": {
      "text/plain": [
       "100"
      ]
     },
     "execution_count": 197,
     "metadata": {},
     "output_type": "execute_result"
    }
   ],
   "source": [
    "#get\n",
    "info.get('id')"
   ]
  },
  {
   "cell_type": "code",
   "execution_count": 198,
   "metadata": {},
   "outputs": [
    {
     "data": {
      "text/plain": [
       "{'address': '地球亚洲中国北京', 'id': 1, 'name': '班长', 'sex': 'f'}"
      ]
     },
     "execution_count": 198,
     "metadata": {},
     "output_type": "execute_result"
    }
   ],
   "source": [
    "#字典的每个元素中的数据是可以修改的，只要通过key找到，即可修改\n",
    "info['id'] = 1\n",
    "info"
   ]
  },
  {
   "cell_type": "code",
   "execution_count": 201,
   "metadata": {},
   "outputs": [
    {
     "data": {
      "text/plain": [
       "{'address': '地球亚洲中国北京', 'age': 18, 'id': 1, 'name': '班长', 'sex': 'f'}"
      ]
     },
     "execution_count": 201,
     "metadata": {},
     "output_type": "execute_result"
    }
   ],
   "source": [
    "#如果在使用 变量名['键'] = 数据 时，这个“键”在字典中，不存在，那么就会新增这个元素\n",
    "info['age'] = 18\n",
    "info"
   ]
  },
  {
   "cell_type": "code",
   "execution_count": 202,
   "metadata": {},
   "outputs": [
    {
     "data": {
      "text/plain": [
       "{'address': '地球亚洲中国北京', 'id': 1, 'name': '班长', 'sex': 'f'}"
      ]
     },
     "execution_count": 202,
     "metadata": {},
     "output_type": "execute_result"
    }
   ],
   "source": [
    "#del:删除指定的元素\n",
    "del info['age']\n",
    "info"
   ]
  },
  {
   "cell_type": "code",
   "execution_count": 203,
   "metadata": {},
   "outputs": [
    {
     "ename": "NameError",
     "evalue": "name 'info' is not defined",
     "output_type": "error",
     "traceback": [
      "\u001b[1;31m---------------------------------------------------------------------------\u001b[0m",
      "\u001b[1;31mNameError\u001b[0m                                 Traceback (most recent call last)",
      "\u001b[1;32m<ipython-input-203-8ad057b22d72>\u001b[0m in \u001b[0;36m<module>\u001b[1;34m()\u001b[0m\n\u001b[0;32m      1\u001b[0m \u001b[1;31m#del:删除整个字典\u001b[0m\u001b[1;33m\u001b[0m\u001b[1;33m\u001b[0m\u001b[0m\n\u001b[0;32m      2\u001b[0m \u001b[1;32mdel\u001b[0m \u001b[0minfo\u001b[0m\u001b[1;33m\u001b[0m\u001b[0m\n\u001b[1;32m----> 3\u001b[1;33m \u001b[0minfo\u001b[0m\u001b[1;33m\u001b[0m\u001b[0m\n\u001b[0m",
      "\u001b[1;31mNameError\u001b[0m: name 'info' is not defined"
     ]
    }
   ],
   "source": [
    "#del:删除整个字典\n",
    "del info\n",
    "info"
   ]
  },
  {
   "cell_type": "code",
   "execution_count": 205,
   "metadata": {},
   "outputs": [
    {
     "data": {
      "text/plain": [
       "{}"
      ]
     },
     "execution_count": 205,
     "metadata": {},
     "output_type": "execute_result"
    }
   ],
   "source": [
    "#clear:清空整个字典\n",
    "info = {'name':'班长', 'id':100, 'sex':'f', 'address':'地球亚洲中国北京'}\n",
    "info.clear()\n",
    "info"
   ]
  },
  {
   "cell_type": "markdown",
   "metadata": {},
   "source": [
    "## 字典的常见操作"
   ]
  },
  {
   "cell_type": "code",
   "execution_count": 211,
   "metadata": {},
   "outputs": [
    {
     "data": {
      "text/plain": [
       "2"
      ]
     },
     "execution_count": 211,
     "metadata": {},
     "output_type": "execute_result"
    }
   ],
   "source": [
    "#len：测量字典中，键值对的个数\n",
    "my_dict = {'name':'xiaoming','age':11}\n",
    "len(dict)"
   ]
  },
  {
   "cell_type": "code",
   "execution_count": 207,
   "metadata": {},
   "outputs": [
    {
     "data": {
      "text/plain": [
       "dict_keys(['name', 'age'])"
      ]
     },
     "execution_count": 207,
     "metadata": {},
     "output_type": "execute_result"
    }
   ],
   "source": [
    "#keys:返回一个包含字典所有key的列表\n",
    "my_dict.keys()"
   ]
  },
  {
   "cell_type": "code",
   "execution_count": 209,
   "metadata": {},
   "outputs": [
    {
     "data": {
      "text/plain": [
       "dict_values(['xiaoming', 11])"
      ]
     },
     "execution_count": 209,
     "metadata": {},
     "output_type": "execute_result"
    }
   ],
   "source": [
    "#values:返回一个包含字典所有value的列表\n",
    "my_dict.values()"
   ]
  },
  {
   "cell_type": "code",
   "execution_count": 210,
   "metadata": {},
   "outputs": [
    {
     "data": {
      "text/plain": [
       "dict_items([('name', 'xiaoming'), ('age', 11)])"
      ]
     },
     "execution_count": 210,
     "metadata": {},
     "output_type": "execute_result"
    }
   ],
   "source": [
    "#items,返回一个包含所有（键，值）元祖的列表\n",
    "my_dict.items()"
   ]
  },
  {
   "cell_type": "code",
   "execution_count": 213,
   "metadata": {},
   "outputs": [
    {
     "data": {
      "text/plain": [
       "True"
      ]
     },
     "execution_count": 213,
     "metadata": {},
     "output_type": "execute_result"
    }
   ],
   "source": [
    "#in或者not in:如果key在字典中，返回True，否则返回False\n",
    "'age' in my_dict"
   ]
  },
  {
   "cell_type": "markdown",
   "metadata": {},
   "source": [
    "# 12.遍历"
   ]
  },
  {
   "cell_type": "code",
   "execution_count": 216,
   "metadata": {},
   "outputs": [
    {
     "name": "stdout",
     "output_type": "stream",
     "text": [
      "name\n",
      "age\n"
     ]
    }
   ],
   "source": [
    "#遍历字典的key（键）\n",
    "my_dict = {'name':'xiaoming','age':11}\n",
    "for x in my_dict.keys():\n",
    "    print(x)"
   ]
  },
  {
   "cell_type": "code",
   "execution_count": 217,
   "metadata": {},
   "outputs": [
    {
     "name": "stdout",
     "output_type": "stream",
     "text": [
      "xiaoming\n",
      "11\n"
     ]
    }
   ],
   "source": [
    "#遍历字典的value（值）\n",
    "for x in my_dict.values():\n",
    "    print(x)"
   ]
  },
  {
   "cell_type": "code",
   "execution_count": 218,
   "metadata": {},
   "outputs": [
    {
     "name": "stdout",
     "output_type": "stream",
     "text": [
      "('name', 'xiaoming')\n",
      "('age', 11)\n"
     ]
    }
   ],
   "source": [
    "#遍历字典的项（元素）\n",
    "for x in my_dict.items():\n",
    "    print(x)"
   ]
  },
  {
   "cell_type": "code",
   "execution_count": 219,
   "metadata": {},
   "outputs": [
    {
     "name": "stdout",
     "output_type": "stream",
     "text": [
      "name xiaoming\n",
      "age 11\n"
     ]
    }
   ],
   "source": [
    "#遍历字典的key-value（键值对）\n",
    "for x,y in my_dict.items():\n",
    "    print(x,y)"
   ]
  },
  {
   "cell_type": "code",
   "execution_count": 220,
   "metadata": {},
   "outputs": [
    {
     "name": "stdout",
     "output_type": "stream",
     "text": [
      "(0, 'a')\n",
      "(1, 'b')\n",
      "(2, 'c')\n",
      "(3, 'd')\n"
     ]
    }
   ],
   "source": [
    "#enumerate()：将一个可遍历的数据对象(如列表、元组或字符串)组合为一个索引序列，同时列出数据和数据下标\n",
    "l = ['a','b','c','d']\n",
    "for x in enumerate(l):\n",
    "    print(x)"
   ]
  },
  {
   "cell_type": "markdown",
   "metadata": {},
   "source": [
    "# 13.公共方法"
   ]
  },
  {
   "cell_type": "markdown",
   "metadata": {},
   "source": [
    "## 运算符:+,*,in,not in"
   ]
  },
  {
   "cell_type": "markdown",
   "metadata": {},
   "source": [
    "## 内置函数:len(),min(),max(),del()"
   ]
  },
  {
   "cell_type": "markdown",
   "metadata": {},
   "source": [
    "# 14.引用"
   ]
  },
  {
   "cell_type": "code",
   "execution_count": 223,
   "metadata": {},
   "outputs": [
    {
     "data": {
      "text/plain": [
       "1"
      ]
     },
     "execution_count": 223,
     "metadata": {},
     "output_type": "execute_result"
    }
   ],
   "source": [
    "可变类型与不可变类型:\n",
    "    可变类型，值可以改变：列表 list字典 dict\n",
    "不可变类型，值不可以改变：数值类型 int, bool, float 字符串 str 元组 tuple"
   ]
  },
  {
   "cell_type": "code",
   "execution_count": 228,
   "metadata": {},
   "outputs": [
    {
     "name": "stdout",
     "output_type": "stream",
     "text": [
      "2018712522888\n",
      "2018712522888\n",
      "[1, 2, 3, 4]\n",
      "2018712522888\n"
     ]
    }
   ],
   "source": [
    "#可变类型改变值以后，引用不变\n",
    "a = [1,2,3]\n",
    "b = a\n",
    "print(id(a))\n",
    "a.append(4)\n",
    "print(id(a))\n",
    "print(b)\n",
    "print(id(b))"
   ]
  },
  {
   "cell_type": "code",
   "execution_count": 225,
   "metadata": {},
   "outputs": [],
   "source": [
    "#不可变类型改变值以后，引用改变"
   ]
  },
  {
   "cell_type": "code",
   "execution_count": 229,
   "metadata": {},
   "outputs": [
    {
     "name": "stdout",
     "output_type": "stream",
     "text": [
      "1\n",
      "1738108384\n",
      "1\n",
      "1738108384\n"
     ]
    }
   ],
   "source": [
    "a = 1\n",
    "b = a\n",
    "print(a)\n",
    "print(id(a))\n",
    "print(b)\n",
    "print(id(b))"
   ]
  },
  {
   "cell_type": "code",
   "execution_count": 230,
   "metadata": {},
   "outputs": [
    {
     "name": "stdout",
     "output_type": "stream",
     "text": [
      "2\n",
      "1738108416\n",
      "1\n",
      "1738108384\n"
     ]
    }
   ],
   "source": [
    "a =2\n",
    "print(a)\n",
    "print(id(a))\n",
    "print(b)\n",
    "print(id(b))"
   ]
  },
  {
   "cell_type": "markdown",
   "metadata": {},
   "source": [
    "# 15.函数"
   ]
  },
  {
   "cell_type": "code",
   "execution_count": 231,
   "metadata": {},
   "outputs": [
    {
     "name": "stdout",
     "output_type": "stream",
     "text": [
      "23\n"
     ]
    }
   ],
   "source": [
    "#函数说明文档\n",
    "def test_func(a,b):\n",
    "    'Sum two numbers'\n",
    "    print(a+b)\n",
    "test_func(11,12)"
   ]
  },
  {
   "cell_type": "code",
   "execution_count": 232,
   "metadata": {},
   "outputs": [
    {
     "name": "stdout",
     "output_type": "stream",
     "text": [
      "Help on function test_func in module __main__:\n",
      "\n",
      "test_func(a, b)\n",
      "    Sum two numbers\n",
      "\n"
     ]
    }
   ],
   "source": [
    "help(test_func)"
   ]
  },
  {
   "cell_type": "markdown",
   "metadata": {},
   "source": [
    "形参和实参：定义时小括号中的参数，用来接收参数用的，称为 “形参”.调用时小括号中的参数，用来传递给函数用的，称为 “实参”"
   ]
  },
  {
   "cell_type": "markdown",
   "metadata": {},
   "source": [
    "局部变量和全局变量"
   ]
  },
  {
   "cell_type": "code",
   "execution_count": 233,
   "metadata": {},
   "outputs": [],
   "source": [
    "#局部变量:定义在函数内部\n",
    "def test_func(a,b):\n",
    "    'Sum two numbers'\n",
    "    c=1#局部变量\n",
    "    print(a+b)"
   ]
  },
  {
   "cell_type": "code",
   "execution_count": 235,
   "metadata": {},
   "outputs": [
    {
     "name": "stdout",
     "output_type": "stream",
     "text": [
      "100\n"
     ]
    }
   ],
   "source": [
    "#全局变量:定义在函数外部，可以被所以函数使用\n",
    "#局部变量和全局变量名字冲突时，调用函数优先考虑局部变量\n",
    "a = 200\n",
    "def test_func():\n",
    "    a = 100\n",
    "    print(a)\n",
    "test_func()"
   ]
  },
  {
   "cell_type": "code",
   "execution_count": 236,
   "metadata": {},
   "outputs": [
    {
     "name": "stdout",
     "output_type": "stream",
     "text": [
      "100\n"
     ]
    }
   ],
   "source": [
    "#global:在函数内部修改全局变量\n",
    "a = 200\n",
    "def test_func():\n",
    "    global a\n",
    "    a=100\n",
    "    print(a)\n",
    "test_func()"
   ]
  },
  {
   "cell_type": "markdown",
   "metadata": {},
   "source": [
    "在函数中不使用global声明全局变量时不能修改全局变量的本质是不能修改全局变量的指向，即不能将全局变量指向新的数据。\n",
    "对于不可变类型的全局变量来说，因其指向的数据不能修改，所以不使用global时无法修改全局变量。\n",
    "对于可变类型的全局变量来说，因其指向的数据可以修改，所以不使用global时也可修改全局变量。"
   ]
  },
  {
   "cell_type": "code",
   "execution_count": 241,
   "metadata": {},
   "outputs": [
    {
     "ename": "UnboundLocalError",
     "evalue": "local variable 'a' referenced before assignment",
     "output_type": "error",
     "traceback": [
      "\u001b[1;31m---------------------------------------------------------------------------\u001b[0m",
      "\u001b[1;31mUnboundLocalError\u001b[0m                         Traceback (most recent call last)",
      "\u001b[1;32m<ipython-input-241-48c956f3ccd8>\u001b[0m in \u001b[0;36m<module>\u001b[1;34m()\u001b[0m\n\u001b[0;32m      4\u001b[0m     \u001b[0ma\u001b[0m \u001b[1;33m+=\u001b[0m\u001b[1;36m1\u001b[0m\u001b[1;33m\u001b[0m\u001b[0m\n\u001b[0;32m      5\u001b[0m     \u001b[0mprint\u001b[0m\u001b[1;33m(\u001b[0m\u001b[0ma\u001b[0m\u001b[1;33m)\u001b[0m\u001b[1;33m\u001b[0m\u001b[0m\n\u001b[1;32m----> 6\u001b[1;33m \u001b[0mtest_func\u001b[0m\u001b[1;33m(\u001b[0m\u001b[1;33m)\u001b[0m\u001b[1;33m\u001b[0m\u001b[0m\n\u001b[0m",
      "\u001b[1;32m<ipython-input-241-48c956f3ccd8>\u001b[0m in \u001b[0;36mtest_func\u001b[1;34m()\u001b[0m\n\u001b[0;32m      2\u001b[0m \u001b[0ma\u001b[0m\u001b[1;33m=\u001b[0m\u001b[1;36m200\u001b[0m\u001b[1;33m\u001b[0m\u001b[0m\n\u001b[0;32m      3\u001b[0m \u001b[1;32mdef\u001b[0m \u001b[0mtest_func\u001b[0m\u001b[1;33m(\u001b[0m\u001b[1;33m)\u001b[0m\u001b[1;33m:\u001b[0m\u001b[1;33m\u001b[0m\u001b[0m\n\u001b[1;32m----> 4\u001b[1;33m     \u001b[0ma\u001b[0m \u001b[1;33m+=\u001b[0m\u001b[1;36m1\u001b[0m\u001b[1;33m\u001b[0m\u001b[0m\n\u001b[0m\u001b[0;32m      5\u001b[0m     \u001b[0mprint\u001b[0m\u001b[1;33m(\u001b[0m\u001b[0ma\u001b[0m\u001b[1;33m)\u001b[0m\u001b[1;33m\u001b[0m\u001b[0m\n\u001b[0;32m      6\u001b[0m \u001b[0mtest_func\u001b[0m\u001b[1;33m(\u001b[0m\u001b[1;33m)\u001b[0m\u001b[1;33m\u001b[0m\u001b[0m\n",
      "\u001b[1;31mUnboundLocalError\u001b[0m: local variable 'a' referenced before assignment"
     ]
    }
   ],
   "source": [
    "#对于不可变类型,不使用global报错\n",
    "a=200\n",
    "def test_func():\n",
    "    a +=1\n",
    "    print(a)\n",
    "test_func()"
   ]
  },
  {
   "cell_type": "code",
   "execution_count": 242,
   "metadata": {},
   "outputs": [
    {
     "name": "stdout",
     "output_type": "stream",
     "text": [
      "[1, 2, 3, 4]\n"
     ]
    }
   ],
   "source": [
    "#对于可变类型，不会报错\n",
    "a=[1,2,3]\n",
    "def test_func():\n",
    "    a.append(4)\n",
    "    print(a)\n",
    "test_func()"
   ]
  },
  {
   "cell_type": "code",
   "execution_count": 13,
   "metadata": {},
   "outputs": [
    {
     "name": "stdout",
     "output_type": "stream",
     "text": [
      "100\n",
      "100\n"
     ]
    }
   ],
   "source": [
    "#nonlocal:修改嵌套作用域（enclosing 作用域，外层非全局作用域）中的变量\n",
    "def outer():\n",
    "    num = 10\n",
    "    def inner():\n",
    "        nonlocal num   # nonlocal关键字声明\n",
    "        num = 100\n",
    "        print(num)\n",
    "    inner()\n",
    "    print(num)\n",
    "outer()"
   ]
  },
  {
   "cell_type": "markdown",
   "metadata": {},
   "source": [
    "## 函数参数"
   ]
  },
  {
   "cell_type": "code",
   "execution_count": 1,
   "metadata": {},
   "outputs": [
    {
     "ename": "TypeError",
     "evalue": "printme() missing 1 required positional argument: 'str'",
     "output_type": "error",
     "traceback": [
      "\u001b[1;31m---------------------------------------------------------------------------\u001b[0m",
      "\u001b[1;31mTypeError\u001b[0m                                 Traceback (most recent call last)",
      "\u001b[1;32m<ipython-input-1-224a439d4460>\u001b[0m in \u001b[0;36m<module>\u001b[1;34m()\u001b[0m\n\u001b[0;32m      6\u001b[0m \u001b[1;33m\u001b[0m\u001b[0m\n\u001b[0;32m      7\u001b[0m \u001b[1;31m#调用printme函数\u001b[0m\u001b[1;33m\u001b[0m\u001b[1;33m\u001b[0m\u001b[0m\n\u001b[1;32m----> 8\u001b[1;33m \u001b[0mprintme\u001b[0m\u001b[1;33m(\u001b[0m\u001b[1;33m)\u001b[0m\u001b[1;33m\u001b[0m\u001b[0m\n\u001b[0m",
      "\u001b[1;31mTypeError\u001b[0m: printme() missing 1 required positional argument: 'str'"
     ]
    }
   ],
   "source": [
    "#必须参数：须以正确的顺序传入函数。调用时的数量必须和声明时的一样\n",
    "def printme( str ):\n",
    "   \"打印任何传入的字符串\"\n",
    "   print (str)\n",
    "   return\n",
    " \n",
    "#调用printme函数\n",
    "printme()"
   ]
  },
  {
   "cell_type": "code",
   "execution_count": 3,
   "metadata": {},
   "outputs": [
    {
     "name": "stdout",
     "output_type": "stream",
     "text": [
      "age=11\n",
      "name=xiaoming\n"
     ]
    }
   ],
   "source": [
    "#关键字参数：使用关键字参数允许函数调用时参数的顺序与声明时不一致，因为 Python 解释器能够用参数名匹配参数值。\n",
    "def print_info(age,name):\n",
    "    print('age=%d'%age)\n",
    "    print('name=%s'%name)\n",
    "print_info(name='xiaoming',age=11)"
   ]
  },
  {
   "cell_type": "code",
   "execution_count": 7,
   "metadata": {},
   "outputs": [
    {
     "name": "stdout",
     "output_type": "stream",
     "text": [
      "名字:  runoob\n",
      "年龄:  50\n",
      "------------------------\n",
      "名字:  runoob\n",
      "年龄:  35\n"
     ]
    }
   ],
   "source": [
    "#默认参数：默认参数必须放在最后\n",
    "def printinfo( name, age = 35 ):\n",
    "   \"打印任何传入的字符串\"\n",
    "   print (\"名字: \", name)\n",
    "   print (\"年龄: \", age)\n",
    "   return\n",
    " \n",
    "#调用printinfo函数\n",
    "printinfo( age=50, name=\"runoob\" )\n",
    "print (\"------------------------\")\n",
    "printinfo( name=\"runoob\" )"
   ]
  },
  {
   "cell_type": "code",
   "execution_count": 8,
   "metadata": {},
   "outputs": [
    {
     "name": "stdout",
     "output_type": "stream",
     "text": [
      "1\n",
      "(2, 3, 4, 5)\n"
     ]
    }
   ],
   "source": [
    "#不定长参数：函数能处理比当初声明时更多的参数。\n",
    "#加了星号 * 的参数会以元组(tuple)的形式导入，存放所有未命名的变量参数。\n",
    "def print_info(a,*b):\n",
    "    print(a)\n",
    "    print(b)\n",
    "print_info(1,2,3,4,5)"
   ]
  },
  {
   "cell_type": "code",
   "execution_count": 10,
   "metadata": {},
   "outputs": [
    {
     "name": "stdout",
     "output_type": "stream",
     "text": [
      "10\n",
      "{'v': 10, 'b': 20, 'c': 30}\n"
     ]
    }
   ],
   "source": [
    "#加了两个星号 ** 的参数会以字典的形式导入。\n",
    "def print_info(a,**b):\n",
    "    print(a)\n",
    "    print(b)\n",
    "    \n",
    "print_info(10,v=10,b=20,c=30)"
   ]
  },
  {
   "cell_type": "code",
   "execution_count": 11,
   "metadata": {},
   "outputs": [
    {
     "ename": "TypeError",
     "evalue": "print_info() takes 2 positional arguments but 3 were given",
     "output_type": "error",
     "traceback": [
      "\u001b[1;31m---------------------------------------------------------------------------\u001b[0m",
      "\u001b[1;31mTypeError\u001b[0m                                 Traceback (most recent call last)",
      "\u001b[1;32m<ipython-input-11-4c1452905a09>\u001b[0m in \u001b[0;36m<module>\u001b[1;34m()\u001b[0m\n\u001b[0;32m      2\u001b[0m \u001b[1;32mdef\u001b[0m \u001b[0mprint_info\u001b[0m\u001b[1;33m(\u001b[0m\u001b[0ma\u001b[0m\u001b[1;33m,\u001b[0m\u001b[0mb\u001b[0m\u001b[1;33m,\u001b[0m\u001b[1;33m*\u001b[0m\u001b[1;33m,\u001b[0m\u001b[0mc\u001b[0m\u001b[1;33m)\u001b[0m\u001b[1;33m:\u001b[0m\u001b[1;33m\u001b[0m\u001b[0m\n\u001b[0;32m      3\u001b[0m     \u001b[0mprint\u001b[0m\u001b[1;33m(\u001b[0m\u001b[0ma\u001b[0m\u001b[1;33m,\u001b[0m\u001b[0mb\u001b[0m\u001b[1;33m,\u001b[0m\u001b[0mc\u001b[0m\u001b[1;33m)\u001b[0m\u001b[1;33m\u001b[0m\u001b[0m\n\u001b[1;32m----> 4\u001b[1;33m \u001b[0mprint_info\u001b[0m\u001b[1;33m(\u001b[0m\u001b[1;36m1\u001b[0m\u001b[1;33m,\u001b[0m\u001b[1;36m2\u001b[0m\u001b[1;33m,\u001b[0m\u001b[1;36m3\u001b[0m\u001b[1;33m)\u001b[0m\u001b[1;33m\u001b[0m\u001b[0m\n\u001b[0m",
      "\u001b[1;31mTypeError\u001b[0m: print_info() takes 2 positional arguments but 3 were given"
     ]
    }
   ],
   "source": [
    "#声明函数时，参数中星号 * 可以单独出现.如果单独出现星号 * 后的参数必须用关键字传入。\n",
    "def print_info(a,b,*,c):\n",
    "    print(a,b,c)\n",
    "print_info(1,2,3)#报错，第三个应该为关键字参数"
   ]
  },
  {
   "cell_type": "code",
   "execution_count": 12,
   "metadata": {},
   "outputs": [
    {
     "name": "stdout",
     "output_type": "stream",
     "text": [
      "1 2 3\n"
     ]
    }
   ],
   "source": [
    "print_info(1,2,c=3)"
   ]
  },
  {
   "cell_type": "markdown",
   "metadata": {},
   "source": [
    "## 匿名函数"
   ]
  },
  {
   "cell_type": "code",
   "execution_count": 14,
   "metadata": {},
   "outputs": [
    {
     "data": {
      "text/plain": [
       "5"
      ]
     },
     "execution_count": 14,
     "metadata": {},
     "output_type": "execute_result"
    }
   ],
   "source": [
    "#lambda：lambda [arg1 [,arg2,.....argn]]:expression\n",
    "sum = lambda a,b:a+b\n",
    "sum(2,3)"
   ]
  },
  {
   "cell_type": "code",
   "execution_count": 16,
   "metadata": {},
   "outputs": [
    {
     "name": "stdout",
     "output_type": "stream",
     "text": [
      "a = 2\n",
      "b = 3\n",
      "result = 5\n"
     ]
    }
   ],
   "source": [
    "#匿名函数作为参数传递\n",
    "def my_func(a,b,opt):\n",
    "    print('a =',a)\n",
    "    print('b =',b)\n",
    "    print('result =',opt(a,b))\n",
    "    \n",
    "my_func(2,3,lambda a,b:a+b)"
   ]
  },
  {
   "cell_type": "code",
   "execution_count": 19,
   "metadata": {},
   "outputs": [
    {
     "data": {
      "text/plain": [
       "[{'age': 17, 'name': 'wangwu'},\n",
       " {'age': 18, 'name': 'zhangsan'},\n",
       " {'age': 19, 'name': 'lisi'}]"
      ]
     },
     "execution_count": 19,
     "metadata": {},
     "output_type": "execute_result"
    }
   ],
   "source": [
    "#匿名函数作为内置函数的参数\n",
    "#使以下数据按指定的age排序\n",
    "stus = [\n",
    "    {\"name\":\"zhangsan\", \"age\":18}, \n",
    "    {\"name\":\"lisi\", \"age\":19}, \n",
    "    {\"name\":\"wangwu\", \"age\":17}\n",
    "]\n",
    "stus.sort(key =lambda x:x['age'])\n",
    "stus"
   ]
  },
  {
   "cell_type": "markdown",
   "metadata": {},
   "source": [
    "# 16.文件"
   ]
  },
  {
   "cell_type": "code",
   "execution_count": 23,
   "metadata": {},
   "outputs": [],
   "source": [
    "f = open('file_test.txt','w')\n",
    "i=0\n",
    "while i<10:\n",
    "    f.write('%d.Hello,world!\\n'%i)\n",
    "    i+=1\n",
    "f.close()"
   ]
  },
  {
   "cell_type": "code",
   "execution_count": 26,
   "metadata": {},
   "outputs": [
    {
     "name": "stdout",
     "output_type": "stream",
     "text": [
      "0.Hel\n",
      "******************************\n",
      "lo,world!\n",
      "1.Hello,world!\n",
      "2.Hello,world!\n",
      "3.Hello,world!\n",
      "4.Hello,world!\n",
      "5.Hello,world!\n",
      "6.Hello,world!\n",
      "7.Hello,world!\n",
      "8.Hello,world!\n",
      "9.Hello,world!\n",
      "\n"
     ]
    }
   ],
   "source": [
    "#read(num):可以从文件中读取数据，num表示要从文件中读取的数据的长度（单位是字节），如果没有传入num，那么就表示读取文件中所有的数据\n",
    "f = open('file_test.txt','r')\n",
    "content = f.read(5)\n",
    "print(content)\n",
    "print('*'*30)\n",
    "content = f.read()\n",
    "print(content)\n",
    "f.close()"
   ]
  },
  {
   "cell_type": "code",
   "execution_count": 28,
   "metadata": {},
   "outputs": [
    {
     "name": "stdout",
     "output_type": "stream",
     "text": [
      "['0.Hello,world!\\n', '1.Hello,world!\\n', '2.Hello,world!\\n', '3.Hello,world!\\n', '4.Hello,world!\\n', '5.Hello,world!\\n', '6.Hello,world!\\n', '7.Hello,world!\\n', '8.Hello,world!\\n', '9.Hello,world!\\n']\n",
      "0.Hello,world!\n",
      "\n",
      "1.Hello,world!\n",
      "\n",
      "2.Hello,world!\n",
      "\n",
      "3.Hello,world!\n",
      "\n",
      "4.Hello,world!\n",
      "\n",
      "5.Hello,world!\n",
      "\n",
      "6.Hello,world!\n",
      "\n",
      "7.Hello,world!\n",
      "\n",
      "8.Hello,world!\n",
      "\n",
      "9.Hello,world!\n",
      "\n"
     ]
    }
   ],
   "source": [
    "#readlines:可以按照行的方式把整个文件中的内容进行一次性读取，并且返回的是一个列表，其中每一行的数据为一个元素\n",
    "f = open('file_test.txt','r')\n",
    "content = f.readlines()\n",
    "print(content)\n",
    "for i in content:\n",
    "    print(i)\n",
    "f.close()"
   ]
  },
  {
   "cell_type": "code",
   "execution_count": 30,
   "metadata": {},
   "outputs": [
    {
     "name": "stdout",
     "output_type": "stream",
     "text": [
      "0.Hello,world!\n",
      "\n",
      "1.Hello,world!\n",
      "\n"
     ]
    }
   ],
   "source": [
    "#readline:每次读取一行\n",
    "f = open('file_test.txt','r')\n",
    "content = f.readline()\n",
    "print(content)\n",
    "content = f.readline()\n",
    "print(content)\n",
    "f.close()"
   ]
  },
  {
   "cell_type": "markdown",
   "metadata": {},
   "source": [
    "## 文件的随机读写"
   ]
  },
  {
   "cell_type": "code",
   "execution_count": 31,
   "metadata": {},
   "outputs": [
    {
     "name": "stdout",
     "output_type": "stream",
     "text": [
      "0.H\n",
      "3\n",
      "ell\n",
      "6\n"
     ]
    }
   ],
   "source": [
    "#tell():获取当前读写的位置\n",
    "f = open('file_test.txt','r')\n",
    "content = f.read(3)\n",
    "position = f.tell()\n",
    "print(content)\n",
    "print(position)\n",
    "\n",
    "content = f.read(3)\n",
    "position = f.tell()\n",
    "print(content)\n",
    "print(position)\n",
    "f.close()"
   ]
  },
  {
   "cell_type": "code",
   "execution_count": 34,
   "metadata": {},
   "outputs": [
    {
     "name": "stdout",
     "output_type": "stream",
     "text": [
      "0.Hello,world!\n",
      "1.Hello,world!\n",
      "\n",
      "32\n",
      "5\n"
     ]
    }
   ],
   "source": [
    "#seek():定位到某个位置.\n",
    "#seek(offset, from):offset:偏移量from:方向0:表示文件开头 1:表示当前位置 2:表示文件末尾\n",
    "#从文件开头，偏移5个字节\n",
    "f = open('file_test.txt','r')\n",
    "content = f.read(30)\n",
    "position = f.tell()\n",
    "print(content)\n",
    "print(position)\n",
    "f.seek(5,0)\n",
    "position=f.tell()\n",
    "print(position)\n",
    "f.close()"
   ]
  },
  {
   "cell_type": "code",
   "execution_count": 39,
   "metadata": {},
   "outputs": [
    {
     "name": "stdout",
     "output_type": "stream",
     "text": [
      "0\n",
      "157\n",
      "b'!\\r\\n'\n"
     ]
    }
   ],
   "source": [
    "#位置设置为离文件末尾，3字节处\n",
    "f = open('file_test.txt','rb')\n",
    "position = f.tell()\n",
    "print(position)\n",
    "f.seek(-3,2)\n",
    "position=f.tell()\n",
    "print(position)\n",
    "content = f.read()\n",
    "print(content)\n",
    "f.close()"
   ]
  },
  {
   "cell_type": "code",
   "execution_count": 40,
   "metadata": {},
   "outputs": [],
   "source": [
    "#文件重命名\n",
    "import os\n",
    "os.rename('rename_test.txt','rename_successfule.txt')"
   ]
  },
  {
   "cell_type": "code",
   "execution_count": 41,
   "metadata": {},
   "outputs": [],
   "source": [
    "#删除文件\n",
    "import os\n",
    "os.remove('rename_successfule.txt')"
   ]
  },
  {
   "cell_type": "markdown",
   "metadata": {},
   "source": [
    "# 17.文件夹"
   ]
  },
  {
   "cell_type": "code",
   "execution_count": 42,
   "metadata": {},
   "outputs": [],
   "source": [
    "#创建文件夹\n",
    "import os\n",
    "os.mkdir('folder_test')"
   ]
  },
  {
   "cell_type": "code",
   "execution_count": 43,
   "metadata": {},
   "outputs": [
    {
     "data": {
      "text/plain": [
       "'C:\\\\Users\\\\Mr.Xi\\\\Desktop\\\\ML'"
      ]
     },
     "execution_count": 43,
     "metadata": {},
     "output_type": "execute_result"
    }
   ],
   "source": [
    "#获取当前目录\n",
    "os.getcwd()"
   ]
  },
  {
   "cell_type": "code",
   "execution_count": 44,
   "metadata": {},
   "outputs": [],
   "source": [
    "#改变默认目录\n",
    "os.chdir('../')"
   ]
  },
  {
   "cell_type": "code",
   "execution_count": 46,
   "metadata": {},
   "outputs": [
    {
     "data": {
      "text/plain": [
       "'C:\\\\Users\\\\Mr.Xi\\\\Desktop'"
      ]
     },
     "execution_count": 46,
     "metadata": {},
     "output_type": "execute_result"
    }
   ],
   "source": [
    "os.getcwd()"
   ]
  },
  {
   "cell_type": "code",
   "execution_count": 52,
   "metadata": {},
   "outputs": [
    {
     "data": {
      "text/plain": [
       "['desktop.ini',\n",
       " 'Microsoft Edge.lnk',\n",
       " 'ML',\n",
       " 'ml代码',\n",
       " 'NetAssist.exe',\n",
       " 'NordVPNSetup.exe',\n",
       " 'pythonTest.txt',\n",
       " 'QQ号码_3413546609.txt',\n",
       " 'Tftpd64.lnk',\n",
       " 'TutorialProtocol_IWAIP.pdf',\n",
       " '《机器学习与应用》#雷明.pdf - 快捷方式.lnk',\n",
       " '报考资料统计',\n",
       " '机器学习实战.pdf',\n",
       " '百度网盘.lnk',\n",
       " '目标进度.txt',\n",
       " '网易有道词典.lnk',\n",
       " '腾讯QQ.lnk',\n",
       " '英语资料',\n",
       " '身份证.docx',\n",
       " '面试']"
      ]
     },
     "execution_count": 52,
     "metadata": {},
     "output_type": "execute_result"
    }
   ],
   "source": [
    "#获取目录列表\n",
    "os.listdir()"
   ]
  },
  {
   "cell_type": "code",
   "execution_count": 53,
   "metadata": {},
   "outputs": [],
   "source": [
    "os.chdir('ML')"
   ]
  },
  {
   "cell_type": "code",
   "execution_count": 54,
   "metadata": {},
   "outputs": [
    {
     "data": {
      "text/plain": [
       "'C:\\\\Users\\\\Mr.Xi\\\\Desktop\\\\ML'"
      ]
     },
     "execution_count": 54,
     "metadata": {},
     "output_type": "execute_result"
    }
   ],
   "source": [
    "os.getcwd()"
   ]
  },
  {
   "cell_type": "code",
   "execution_count": 56,
   "metadata": {},
   "outputs": [
    {
     "ename": "PermissionError",
     "evalue": "[WinError 5] 拒绝访问。: 'folder_test'",
     "output_type": "error",
     "traceback": [
      "\u001b[1;31m---------------------------------------------------------------------------\u001b[0m",
      "\u001b[1;31mPermissionError\u001b[0m                           Traceback (most recent call last)",
      "\u001b[1;32m<ipython-input-56-d7324215535b>\u001b[0m in \u001b[0;36m<module>\u001b[1;34m()\u001b[0m\n\u001b[0;32m      1\u001b[0m \u001b[1;31m#删除文件夹\u001b[0m\u001b[1;33m\u001b[0m\u001b[1;33m\u001b[0m\u001b[0m\n\u001b[1;32m----> 2\u001b[1;33m \u001b[0mos\u001b[0m\u001b[1;33m.\u001b[0m\u001b[0mremove\u001b[0m\u001b[1;33m(\u001b[0m\u001b[1;34m'folder_test'\u001b[0m\u001b[1;33m)\u001b[0m\u001b[1;33m\u001b[0m\u001b[0m\n\u001b[0m",
      "\u001b[1;31mPermissionError\u001b[0m: [WinError 5] 拒绝访问。: 'folder_test'"
     ]
    }
   ],
   "source": [
    "#删除文件夹\n",
    "os.remove('folder_test')"
   ]
  },
  {
   "cell_type": "markdown",
   "metadata": {},
   "source": [
    "# 18.类和对象"
   ]
  },
  {
   "cell_type": "code",
   "execution_count": 57,
   "metadata": {},
   "outputs": [
    {
     "name": "stdout",
     "output_type": "stream",
     "text": [
      "4\n",
      "blue\n"
     ]
    }
   ],
   "source": [
    "#__init__():初始化方法，在创建对象的时候自动调用,用于初始化一些属性\n",
    "class Car():\n",
    "    def __init__(self,wheel_number,car_color):\n",
    "        self.wheel_number = wheel_number\n",
    "        self.car_color = car_color\n",
    "BMW = Car(4,'blue')\n",
    "print(BMW.wheel_number)\n",
    "print(BMW.car_color)"
   ]
  },
  {
   "cell_type": "code",
   "execution_count": 58,
   "metadata": {},
   "outputs": [
    {
     "name": "stdout",
     "output_type": "stream",
     "text": [
      "<__main__.Car object at 0x0000025AA1745E48>\n"
     ]
    }
   ],
   "source": [
    "print(BMW)#建出来的BMW对象在内存中的地址"
   ]
  },
  {
   "cell_type": "markdown",
   "metadata": {},
   "source": [
    "## 魔法方法:在python中方法名如果是\\__x\\__()的，那么就有特殊的功能，因此叫做“魔法”方法"
   ]
  },
  {
   "cell_type": "code",
   "execution_count": 62,
   "metadata": {},
   "outputs": [
    {
     "name": "stdout",
     "output_type": "stream",
     "text": [
      "This is a car.\n"
     ]
    }
   ],
   "source": [
    "#__str__(self):当使用print输出对象的时候,会打印从在这个方法中return的数据\n",
    "class Car():\n",
    "    def __init__(self,wheel_number,car_color):\n",
    "        self.wheel_number = wheel_number\n",
    "        self.car_color = car_color\n",
    "    def __str__(self):\n",
    "        msg = 'This is a car.'\n",
    "        return msg\n",
    "\n",
    "BMW = Car(4,'blue')\n",
    "print(BMW)"
   ]
  },
  {
   "cell_type": "code",
   "execution_count": 63,
   "metadata": {},
   "outputs": [
    {
     "name": "stdout",
     "output_type": "stream",
     "text": [
      "bark\n",
      "baaaaark\n"
     ]
    }
   ],
   "source": [
    "#类方法中的self，指对象本身，类似于c中的指针，这个指针指向对象本身的地址\n",
    "class Animal():\n",
    "    def __init__(self,name):\n",
    "        self.name=name\n",
    "    def print_name(self):\n",
    "        print(self.name)\n",
    "        \n",
    "dog1 = Animal('bark')\n",
    "dog1.print_name()\n",
    "dog2 = Animal('baaaaark')\n",
    "dog2.print_name()\n"
   ]
  },
  {
   "cell_type": "markdown",
   "metadata": {},
   "source": [
    "隐藏对象属性:如果直接访问属性，可能会出现一些数据设置错误的情况.，通过使用方法来进行修改，就可以在方法中进行数据合法性的检查"
   ]
  },
  {
   "cell_type": "markdown",
   "metadata": {},
   "source": [
    "## 保护属性"
   ]
  },
  {
   "cell_type": "code",
   "execution_count": 64,
   "metadata": {},
   "outputs": [
    {
     "ename": "AttributeError",
     "evalue": "'Dog' object has no attribute '__name'",
     "output_type": "error",
     "traceback": [
      "\u001b[1;31m---------------------------------------------------------------------------\u001b[0m",
      "\u001b[1;31mAttributeError\u001b[0m                            Traceback (most recent call last)",
      "\u001b[1;32m<ipython-input-64-448b618b8fc7>\u001b[0m in \u001b[0;36m<module>\u001b[1;34m()\u001b[0m\n\u001b[0;32m      8\u001b[0m         \u001b[1;32mreturn\u001b[0m \u001b[0mself\u001b[0m\u001b[1;33m.\u001b[0m\u001b[0m__name\u001b[0m\u001b[1;33m\u001b[0m\u001b[0m\n\u001b[0;32m      9\u001b[0m \u001b[0mdog1\u001b[0m \u001b[1;33m=\u001b[0m \u001b[0mDog\u001b[0m\u001b[1;33m(\u001b[0m\u001b[1;34m'bob'\u001b[0m\u001b[1;33m)\u001b[0m\u001b[1;33m\u001b[0m\u001b[0m\n\u001b[1;32m---> 10\u001b[1;33m \u001b[0mdog1\u001b[0m\u001b[1;33m.\u001b[0m\u001b[0m__name\u001b[0m\u001b[1;33m\u001b[0m\u001b[0m\n\u001b[0m",
      "\u001b[1;31mAttributeError\u001b[0m: 'Dog' object has no attribute '__name'"
     ]
    }
   ],
   "source": [
    "#属性前加2个下划线，表示属性对外隐藏，要访问这些属性，必须通过对应的方法\n",
    "class Dog():\n",
    "    def __init__(self,name):\n",
    "        self.__name = name\n",
    "    def set_name(self,name):\n",
    "        self.__name = name\n",
    "    def get_name(self):\n",
    "        return self.__name\n",
    "dog1 = Dog('bob')\n",
    "dog1.__name"
   ]
  },
  {
   "cell_type": "code",
   "execution_count": 65,
   "metadata": {},
   "outputs": [
    {
     "data": {
      "text/plain": [
       "'bob'"
      ]
     },
     "execution_count": 65,
     "metadata": {},
     "output_type": "execute_result"
    }
   ],
   "source": [
    "dog1.get_name()"
   ]
  },
  {
   "cell_type": "code",
   "execution_count": 66,
   "metadata": {},
   "outputs": [
    {
     "data": {
      "text/plain": [
       "'jim'"
      ]
     },
     "execution_count": 66,
     "metadata": {},
     "output_type": "execute_result"
    }
   ],
   "source": [
    "dog1.set_name('jim')\n",
    "dog1.get_name()"
   ]
  },
  {
   "cell_type": "code",
   "execution_count": 68,
   "metadata": {},
   "outputs": [
    {
     "data": {
      "text/plain": [
       "['_Dog__name',\n",
       " '__class__',\n",
       " '__delattr__',\n",
       " '__dict__',\n",
       " '__dir__',\n",
       " '__doc__',\n",
       " '__eq__',\n",
       " '__format__',\n",
       " '__ge__',\n",
       " '__getattribute__',\n",
       " '__gt__',\n",
       " '__hash__',\n",
       " '__init__',\n",
       " '__init_subclass__',\n",
       " '__le__',\n",
       " '__lt__',\n",
       " '__module__',\n",
       " '__ne__',\n",
       " '__new__',\n",
       " '__reduce__',\n",
       " '__reduce_ex__',\n",
       " '__repr__',\n",
       " '__setattr__',\n",
       " '__sizeof__',\n",
       " '__str__',\n",
       " '__subclasshook__',\n",
       " '__weakref__',\n",
       " 'get_name',\n",
       " 'set_name']"
      ]
     },
     "execution_count": 68,
     "metadata": {},
     "output_type": "execute_result"
    }
   ],
   "source": [
    "#dir：可以查看对象包含的成员\n",
    "dir(dog1)"
   ]
  },
  {
   "cell_type": "code",
   "execution_count": 69,
   "metadata": {},
   "outputs": [
    {
     "name": "stdout",
     "output_type": "stream",
     "text": [
      "jim\n"
     ]
    }
   ],
   "source": [
    "#隐藏属性其实被改编为：_类名__属性名\n",
    "print(dog1._Dog__name)"
   ]
  },
  {
   "cell_type": "code",
   "execution_count": 72,
   "metadata": {},
   "outputs": [
    {
     "name": "stdout",
     "output_type": "stream",
     "text": [
      "波斯猫 was deleted!\n"
     ]
    }
   ],
   "source": [
    "#__del__():删除对象时调用\n",
    "class Dog():\n",
    "    def __init__(self,name):\n",
    "        self.__name = name\n",
    "    def set_name(self,name):\n",
    "        self.__name = name\n",
    "    def get_name(self):\n",
    "        return self.__name\n",
    "    def __del__(self):\n",
    "        print('%s was deleted!'%self.__name)\n",
    "        \n",
    "dog1 = Dog('波斯猫')\n",
    "del dog1"
   ]
  },
  {
   "cell_type": "markdown",
   "metadata": {},
   "source": [
    "# 19.继承和多态"
   ]
  },
  {
   "cell_type": "markdown",
   "metadata": {},
   "source": [
    "私有的属性，不能通过对象直接访问，但是可以通过方法访问\n",
    "私有的方法，不能通过对象直接访问\n",
    "私有的属性、方法，不会被子类继承，也不能被访问\n",
    "一般情况下，私有的属性、方法都是不对外公布的，往往用来做内部的事情，起到安全的作用"
   ]
  },
  {
   "cell_type": "code",
   "execution_count": 76,
   "metadata": {},
   "outputs": [
    {
     "name": "stdout",
     "output_type": "stream",
     "text": [
      "----A test----\n",
      "(<class '__main__.C'>, <class '__main__.A'>, <class '__main__.B'>, <class '__main__.base'>, <class 'object'>)\n"
     ]
    }
   ],
   "source": [
    "#print(c.__mro__):可以查看C类的对象搜索方法时的先后顺序\n",
    "class base(object):\n",
    "    def test(self):\n",
    "        print('----base test----')\n",
    "        \n",
    "class A(base):\n",
    "    def test(self):\n",
    "        print('----A test----')\n",
    "\n",
    "# 定义一个父类\n",
    "class B(base):\n",
    "    def test(self):\n",
    "        print('----B test----')\n",
    "\n",
    "# 定义一个子类，继承自A、B\n",
    "class C(A,B):\n",
    "    pass\n",
    "\n",
    "\n",
    "obj_C = C()\n",
    "obj_C.test()\n",
    "\n",
    "print(C.__mro__)"
   ]
  },
  {
   "cell_type": "code",
   "execution_count": 78,
   "metadata": {},
   "outputs": [
    {
     "name": "stdout",
     "output_type": "stream",
     "text": [
      "3\n"
     ]
    }
   ],
   "source": [
    "#super():调用父类(超类)的一个方法,用来解决多重继承问题的\n",
    "class A:\n",
    "    def add(self,x):\n",
    "        x+=1\n",
    "        print(x)\n",
    "\n",
    "class B(A):\n",
    "    def add(self,x):\n",
    "        super().add(x)\n",
    "\n",
    "b = B()\n",
    "b.add(2)"
   ]
  },
  {
   "cell_type": "code",
   "execution_count": 81,
   "metadata": {},
   "outputs": [
    {
     "name": "stdout",
     "output_type": "stream",
     "text": [
      "<function S1.show at 0x0000025AA1AB2B70>\n",
      "None\n",
      "<function S2.show at 0x0000025AA1AB2BF8>\n",
      "None\n"
     ]
    }
   ],
   "source": [
    "class F1(object):\n",
    "    def show(self):\n",
    "        print (F1.show)\n",
    "\n",
    "class S1(F1):\n",
    "\n",
    "    def show(self):\n",
    "        print (S1.show)\n",
    "\n",
    "class S2(F1):\n",
    "\n",
    "    def show(self):\n",
    "        print(S2.show)\n",
    "\n",
    "def Func(obj):\n",
    "    print(obj.show())\n",
    "\n",
    "s1_obj = S1()\n",
    "Func(s1_obj) \n",
    "\n",
    "s2_obj = S2()\n",
    "Func(s2_obj)"
   ]
  },
  {
   "cell_type": "markdown",
   "metadata": {},
   "source": [
    "## 类属性和实例属性"
   ]
  },
  {
   "cell_type": "code",
   "execution_count": 96,
   "metadata": {},
   "outputs": [
    {
     "data": {
      "text/plain": [
       "4"
      ]
     },
     "execution_count": 96,
     "metadata": {},
     "output_type": "execute_result"
    }
   ],
   "source": [
    "#类属性:类对象所拥有的属性,它被所有类对象的实例对象所共有，在内存中只存在一个副本,对于公有的类属性,在类外可以通过类对象和实例对象访问\n",
    "class Cat(object):\n",
    "    foot_number = 4\n",
    "    __eye_number = 2\n",
    "\n",
    "c = Cat()\n",
    "c.foot_number\n",
    "#c.__eye_number#私有属性不能访问\n",
    "Cat.foot_number"
   ]
  },
  {
   "cell_type": "markdown",
   "metadata": {},
   "source": [
    "#实例属性：对象私有的属性"
   ]
  },
  {
   "cell_type": "code",
   "execution_count": 100,
   "metadata": {},
   "outputs": [
    {
     "name": "stdout",
     "output_type": "stream",
     "text": [
      "3\n",
      "4\n"
     ]
    }
   ],
   "source": [
    "#如果通过实例对象去引用，会产生一个同名的实例属性，这种方式修改的是实例属性，不会影响到类属性，\n",
    "#并且之后如果通过实例对象去引用该名称的属性，实例属性会强制屏蔽掉类属性，即引用的是实例属性，除非删除了该实例属性。\n",
    "c.foot_number =3\n",
    "print(c.foot_number)\n",
    "print(Cat.foot_number)"
   ]
  },
  {
   "cell_type": "code",
   "execution_count": 101,
   "metadata": {},
   "outputs": [
    {
     "data": {
      "text/plain": [
       "3"
      ]
     },
     "execution_count": 101,
     "metadata": {},
     "output_type": "execute_result"
    }
   ],
   "source": [
    "#果需要在类外修改类属性，必须通过类对象去引用然后进行修改。\n",
    "Cat.foot_number = 3\n",
    "Cat.foot_number"
   ]
  },
  {
   "cell_type": "markdown",
   "metadata": {},
   "source": [
    "## 静态方法和类方法"
   ]
  },
  {
   "cell_type": "markdown",
   "metadata": {},
   "source": [
    "类方法:类对象所拥有的方法，需要用修饰器@classmethod来标识其为类方法，对于类方法，第一个参数必须是类对象，一般以cls作为第一个参数（当然可以用其他名称的变量作为其第一个参数，但是大部分人都习惯以'cls'作为第一个参数的名字，就最好用'cls'了），能够通过实例对象和类对象去访问。"
   ]
  },
  {
   "cell_type": "code",
   "execution_count": 103,
   "metadata": {},
   "outputs": [
    {
     "name": "stdout",
     "output_type": "stream",
     "text": [
      "china\n",
      "china\n"
     ]
    }
   ],
   "source": [
    "class People(object):\n",
    "    country = 'china'\n",
    "    @classmethod\n",
    "    def get_country(cls):\n",
    "        return cls.country\n",
    "    \n",
    "p = People\n",
    "print(p.get_country())\n",
    "print(People.get_country())"
   ]
  },
  {
   "cell_type": "code",
   "execution_count": 105,
   "metadata": {},
   "outputs": [
    {
     "name": "stdout",
     "output_type": "stream",
     "text": [
      "china\n",
      "china\n"
     ]
    }
   ],
   "source": [
    "#静态方法:需要通过修饰器@staticmethod来进行修饰，静态方法不需要多定义参数\n",
    "class People(object):\n",
    "    country = 'china'\n",
    "    @staticmethod\n",
    "    def get_country():\n",
    "        return People.country\n",
    "p = People\n",
    "print(p.get_country())\n",
    "print(People.get_country())"
   ]
  },
  {
   "cell_type": "markdown",
   "metadata": {},
   "source": [
    "# 20.设计模式"
   ]
  },
  {
   "cell_type": "markdown",
   "metadata": {},
   "source": [
    "工程模式:定义了一个创建对象的接口(可以理解为函数)，但由子类决定要实例化的类是哪一个，工厂方法模式让类的实例化推迟到子类，抽象的CarStore提供了一个创建对象的方法createCar，也叫作工厂方法。\n",
    "子类真正实现这个createCar方法创建出具体产品。 创建者类不需要直到实际创建的产品是哪一个，选择了使用了哪个子类，自然也就决定了实际创建的产品是什么。"
   ]
  },
  {
   "cell_type": "code",
   "execution_count": 106,
   "metadata": {},
   "outputs": [
    {
     "name": "stdout",
     "output_type": "stream",
     "text": [
      "---车在移动---\n",
      "---停车---\n"
     ]
    }
   ],
   "source": [
    "# 定义一个基本的4S店类\n",
    "class CarStore(object):\n",
    "\n",
    "    #仅仅是定义了有这个方法，并没有实现，具体功能，这个需要在子类中实现\n",
    "    def createCar(self, typeName):\n",
    "        pass\n",
    "\n",
    "    def order(self, typeName):\n",
    "        # 让工厂根据类型，生产一辆汽车\n",
    "        self.car = self.createCar(typeName)\n",
    "        self.car.move()\n",
    "        self.car.stop()\n",
    "\n",
    "# 定义一个北京现代4S店类\n",
    "class XiandaiCarStore(CarStore):\n",
    "\n",
    "    def createCar(self, typeName):\n",
    "        self.carFactory = CarFactory()\n",
    "        return self.carFactory.createCar(typeName)\n",
    "\n",
    "\n",
    "# 定义伊兰特车类\n",
    "class YilanteCar(object):\n",
    "\n",
    "    # 定义车的方法\n",
    "    def move(self):\n",
    "        print(\"---车在移动---\")\n",
    "\n",
    "    def stop(self):\n",
    "        print(\"---停车---\")\n",
    "\n",
    "# 定义索纳塔车类\n",
    "class SuonataCar(object):\n",
    "\n",
    "    # 定义车的方法\n",
    "    def move(self):\n",
    "        print(\"---车在移动---\")\n",
    "\n",
    "    def stop(self):\n",
    "        print(\"---停车---\")\n",
    "\n",
    "# 定义一个生产汽车的工厂，让其根据具体得订单生产车\n",
    "class CarFactory(object):\n",
    "\n",
    "    def createCar(self,typeName):\n",
    "        self.typeName = typeName\n",
    "        if self.typeName == \"伊兰特\":\n",
    "            self.car = YilanteCar()\n",
    "        elif self.typeName == \"索纳塔\":\n",
    "            self.car = SuonataCar()\n",
    "\n",
    "        return self.car\n",
    "\n",
    "suonata = XiandaiCarStore()\n",
    "suonata.order(\"索纳塔\")"
   ]
  },
  {
   "cell_type": "code",
   "execution_count": 120,
   "metadata": {},
   "outputs": [
    {
     "name": "stdout",
     "output_type": "stream",
     "text": [
      "2588279715768\n",
      "2588279715768\n",
      "xiaowang\n",
      "xiaowang\n"
     ]
    }
   ],
   "source": [
    "#单例模式：确保某一个类只有一个实例，而且自行实例化并向整个系统提供这个实例，这个类称为单例类，单例模式是一种对象创建型模式。\n",
    "class SingleObject(object):\n",
    "    __instance = None\n",
    "    __first_init = False\n",
    "    def __new__(cls,age,name):\n",
    "        if not cls.__instance:\n",
    "            cls.__instance = object.__new__(cls)\n",
    "        return cls.__instance\n",
    "    \n",
    "    def __init__(self, name, age):\n",
    "        if not self.__first_init:\n",
    "            self.age = age\n",
    "            self.name = name\n",
    "            __first_init=True\n",
    "\n",
    "a = SingleObject('xiaoming',18)\n",
    "b = SingleObject('xiaowang',9)\n",
    "print(id(a))\n",
    "print(id(b))\n",
    "print(a.name)\n",
    "print(b.name)"
   ]
  },
  {
   "cell_type": "markdown",
   "metadata": {},
   "source": [
    "# 21.异常"
   ]
  },
  {
   "cell_type": "code",
   "execution_count": 132,
   "metadata": {},
   "outputs": [
    {
     "name": "stdout",
     "output_type": "stream",
     "text": [
      "没有异常\n",
      "finally\n"
     ]
    }
   ],
   "source": [
    "try:\n",
    "    a=1\n",
    "    #print(sfdsdf)\n",
    "    #f = open('123.txt')\n",
    "except Exception as result:\n",
    "    print(result)\n",
    "else:\n",
    "    print('没有异常')\n",
    "finally:\n",
    "    print('finally')\n",
    "    f.close()"
   ]
  },
  {
   "cell_type": "markdown",
   "metadata": {},
   "source": [
    "## 自定义异常"
   ]
  },
  {
   "cell_type": "code",
   "execution_count": 136,
   "metadata": {},
   "outputs": [
    {
     "name": "stdout",
     "output_type": "stream",
     "text": [
      "It is not an even number!\n"
     ]
    }
   ],
   "source": [
    "#raise:引发一个异常\n",
    "#自定义异常对象必须有一个名字，且它们应是Error或Exception类的子类\n",
    "class EvenNumber(Exception):\n",
    "    def __init__(self):\n",
    "        super().__init__()\n",
    "        print('It is not an even number!')\n",
    "        \n",
    "try:\n",
    "    a = 1\n",
    "    if a%2!=0:\n",
    "        raise EvenNumber\n",
    "except Exception as result:\n",
    "    pass"
   ]
  },
  {
   "cell_type": "markdown",
   "metadata": {},
   "source": [
    "# 22.模块"
   ]
  },
  {
   "cell_type": "code",
   "execution_count": 140,
   "metadata": {},
   "outputs": [
    {
     "data": {
      "text/plain": [
       "['',\n",
       " 'E:\\\\Anaconda\\\\python36.zip',\n",
       " 'E:\\\\Anaconda\\\\DLLs',\n",
       " 'E:\\\\Anaconda\\\\lib',\n",
       " 'E:\\\\Anaconda',\n",
       " 'E:\\\\Anaconda\\\\lib\\\\site-packages',\n",
       " 'E:\\\\Anaconda\\\\lib\\\\site-packages\\\\win32',\n",
       " 'E:\\\\Anaconda\\\\lib\\\\site-packages\\\\win32\\\\lib',\n",
       " 'E:\\\\Anaconda\\\\lib\\\\site-packages\\\\Pythonwin',\n",
       " 'E:\\\\Anaconda\\\\lib\\\\site-packages\\\\IPython\\\\extensions',\n",
       " 'C:\\\\Users\\\\Mr.Xi\\\\.ipython']"
      ]
     },
     "execution_count": 140,
     "metadata": {},
     "output_type": "execute_result"
    }
   ],
   "source": [
    "#模块搜索路径\n",
    "import sys\n",
    "sys.path"
   ]
  },
  {
   "cell_type": "markdown",
   "metadata": {},
   "source": [
    "\\__name\\__属性:\n",
    "一个模块被另一个程序第一次引入时，其主程序将运行。\n",
    "如果我们想在模块被引入时，模块中的某一程序块不执行，我们可以用__name__属性来使该程序块仅在该模块自身运行时执行。"
   ]
  },
  {
   "cell_type": "markdown",
   "metadata": {},
   "source": [
    "如果一个文件中有\\__all\\__变量，那么也就意味着这个变量中的元素，不会被from xxx import *时导入"
   ]
  },
  {
   "cell_type": "markdown",
   "metadata": {},
   "source": [
    "# 23.包"
   ]
  },
  {
   "cell_type": "markdown",
   "metadata": {},
   "source": [
    "包：将有联系的模块组织在一起，即放到同一个文件夹下，并且在这个文件夹创建一个名字为\\__init\\__.py 文件，那么这个文件夹就称之为包"
   ]
  },
  {
   "cell_type": "markdown",
   "metadata": {},
   "source": [
    "\\__init\\__.py:控制着包的导入行为。\n",
    "\\__init\\__.py为空时，仅仅是把这个包导入，不会导入包中的模块\n",
    "在\\__init\\__.py文件中，定义一个\\__all\\__变量，它控制着 from 包名 import *时导入的模块"
   ]
  },
  {
   "cell_type": "markdown",
   "metadata": {},
   "source": [
    "# 24.模块的发布"
   ]
  },
  {
   "cell_type": "code",
   "execution_count": null,
   "metadata": {},
   "outputs": [],
   "source": [
    "#1.module根目录中添加setup.py文件"
   ]
  },
  {
   "cell_type": "code",
   "execution_count": 143,
   "metadata": {},
   "outputs": [],
   "source": [
    "# 2.编辑setup.py文件\n",
    "#from distutils.core import setup\n",
    "#setup(name=\"dongGe\", version=\"1.0\", description=\"dongGe's module\", author=\"dongGe\", py_modules=['suba.aa', 'suba.bb', 'subb.cc', 'subb.dd'])"
   ]
  },
  {
   "cell_type": "code",
   "execution_count": 144,
   "metadata": {},
   "outputs": [],
   "source": [
    "#3.构建模块：python setup.py build"
   ]
  },
  {
   "cell_type": "code",
   "execution_count": 145,
   "metadata": {},
   "outputs": [],
   "source": [
    "#4.生成发布压缩包：python setup.py sdist"
   ]
  },
  {
   "cell_type": "markdown",
   "metadata": {},
   "source": [
    "# 25.列表表达式"
   ]
  },
  {
   "cell_type": "code",
   "execution_count": 146,
   "metadata": {},
   "outputs": [
    {
     "data": {
      "text/plain": [
       "[0, 1, 2, 3, 4, 5, 6, 7, 8, 9]"
      ]
     },
     "execution_count": 146,
     "metadata": {},
     "output_type": "execute_result"
    }
   ],
   "source": [
    "[x for x in range(10)]"
   ]
  },
  {
   "cell_type": "code",
   "execution_count": 147,
   "metadata": {},
   "outputs": [
    {
     "data": {
      "text/plain": [
       "[0, 2, 4, 6, 8]"
      ]
     },
     "execution_count": 147,
     "metadata": {},
     "output_type": "execute_result"
    }
   ],
   "source": [
    "[x for x in range(10) if x%2==0]"
   ]
  },
  {
   "cell_type": "code",
   "execution_count": 148,
   "metadata": {},
   "outputs": [
    {
     "data": {
      "text/plain": [
       "[(0, 0), (0, 1), (1, 0), (1, 1), (2, 0), (2, 1)]"
      ]
     },
     "execution_count": 148,
     "metadata": {},
     "output_type": "execute_result"
    }
   ],
   "source": [
    "[(x,y) for x in range(3) for y in range(2)]"
   ]
  },
  {
   "cell_type": "code",
   "execution_count": 150,
   "metadata": {},
   "outputs": [
    {
     "data": {
      "text/plain": [
       "[[1, 2, 3],\n",
       " [4, 5, 6],\n",
       " [7, 8, 9],\n",
       " [10, 11, 12],\n",
       " [13, 14, 15],\n",
       " [16, 17, 18],\n",
       " [19, 20, 21],\n",
       " [22, 23, 24],\n",
       " [25, 26, 27],\n",
       " [28, 29, 30],\n",
       " [31, 32, 33],\n",
       " [34, 35, 36],\n",
       " [37, 38, 39],\n",
       " [40, 41, 42],\n",
       " [43, 44, 45],\n",
       " [46, 47, 48],\n",
       " [49, 50, 51],\n",
       " [52, 53, 54],\n",
       " [55, 56, 57],\n",
       " [58, 59, 60],\n",
       " [61, 62, 63],\n",
       " [64, 65, 66],\n",
       " [67, 68, 69],\n",
       " [70, 71, 72],\n",
       " [73, 74, 75],\n",
       " [76, 77, 78],\n",
       " [79, 80, 81],\n",
       " [82, 83, 84],\n",
       " [85, 86, 87],\n",
       " [88, 89, 90],\n",
       " [91, 92, 93],\n",
       " [94, 95, 96],\n",
       " [97, 98, 99]]"
      ]
     },
     "execution_count": 150,
     "metadata": {},
     "output_type": "execute_result"
    }
   ],
   "source": [
    "[[x,x+1,x+2] for x in range(1,100,3)]"
   ]
  },
  {
   "cell_type": "code",
   "execution_count": 154,
   "metadata": {},
   "outputs": [
    {
     "data": {
      "text/plain": [
       "[[1, 2, 3], [4, 4, 5], [6, 8, 9], [3, 34, 2]]"
      ]
     },
     "execution_count": 154,
     "metadata": {},
     "output_type": "execute_result"
    }
   ],
   "source": [
    "a = [1,2,3,4,4,5,6,8,9,3,34,2]\n",
    "[a[x:x+3] for x in range(0,len(a),3)]"
   ]
  },
  {
   "cell_type": "code",
   "execution_count": null,
   "metadata": {},
   "outputs": [],
   "source": []
  }
 ],
 "metadata": {
  "kernelspec": {
   "display_name": "Python 3",
   "language": "python",
   "name": "python3"
  },
  "language_info": {
   "codemirror_mode": {
    "name": "ipython",
    "version": 3
   },
   "file_extension": ".py",
   "mimetype": "text/x-python",
   "name": "python",
   "nbconvert_exporter": "python",
   "pygments_lexer": "ipython3",
   "version": "3.6.4"
  }
 },
 "nbformat": 4,
 "nbformat_minor": 2
}
