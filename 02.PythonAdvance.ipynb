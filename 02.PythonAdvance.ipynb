{
 "cells": [
  {
   "cell_type": "markdown",
   "metadata": {},
   "source": [
    "# 一.元类"
   ]
  },
  {
   "cell_type": "markdown",
   "metadata": {},
   "source": [
    "## 1.类也是对象"
   ]
  },
  {
   "cell_type": "code",
   "execution_count": 1,
   "metadata": {},
   "outputs": [],
   "source": [
    "#class声明一个类，将在内存中创建⼀个对象，这个对象拥有创建对象（实例对象）的能⼒，它本质上是一个对象。"
   ]
  },
  {
   "cell_type": "markdown",
   "metadata": {},
   "source": [
    "## 2.动态的创建类"
   ]
  },
  {
   "cell_type": "code",
   "execution_count": 2,
   "metadata": {},
   "outputs": [
    {
     "name": "stdout",
     "output_type": "stream",
     "text": [
      "<class 'int'>\n",
      "<class '__main__.obj_test'>\n",
      "<class 'type'>\n"
     ]
    }
   ],
   "source": [
    "class obj_test():\n",
    "    pass\n",
    "print(type(1))\n",
    "print(type(obj_test()))\n",
    "print(type(obj_test))"
   ]
  },
  {
   "cell_type": "markdown",
   "metadata": {},
   "source": [
    "## 3.\t使⽤type创建类\n",
    " "
   ]
  },
  {
   "cell_type": "code",
   "execution_count": 3,
   "metadata": {},
   "outputs": [
    {
     "data": {
      "text/plain": [
       "<__main__.Test at 0x202f7a4ffd0>"
      ]
     },
     "execution_count": 3,
     "metadata": {},
     "output_type": "execute_result"
    }
   ],
   "source": [
    "class Test():\n",
    "    pass\n",
    "Test()"
   ]
  },
  {
   "cell_type": "code",
   "execution_count": 9,
   "metadata": {},
   "outputs": [
    {
     "data": {
      "text/plain": [
       "<__main__.Test2 at 0x202f7a80908>"
      ]
     },
     "execution_count": 9,
     "metadata": {},
     "output_type": "execute_result"
    }
   ],
   "source": [
    "#type还有⼀种完全不同的功能，动态的创建类。\n",
    "#type(类名,\t由⽗类名称组成的元组（针对继承的情况，可以为空），包含属 性的字典（名称和值）)\n",
    "Test2 = type('Test2',(),{})\n",
    "Test2()"
   ]
  },
  {
   "cell_type": "code",
   "execution_count": 11,
   "metadata": {},
   "outputs": [
    {
     "data": {
      "text/plain": [
       "<__main__.Dog at 0x202f7a7b4e0>"
      ]
     },
     "execution_count": 11,
     "metadata": {},
     "output_type": "execute_result"
    }
   ],
   "source": [
    "#type函数中第1个实参，也可以叫做其他的名字，这个名字表示类的名字\n",
    "MyDog = type('Dog',(),{})\n",
    "MyDog()"
   ]
  },
  {
   "cell_type": "code",
   "execution_count": 12,
   "metadata": {},
   "outputs": [
    {
     "name": "stdout",
     "output_type": "stream",
     "text": [
      "Help on class Test in module __main__:\n",
      "\n",
      "class Test(builtins.object)\n",
      " |  Data descriptors defined here:\n",
      " |  \n",
      " |  __dict__\n",
      " |      dictionary for instance variables (if defined)\n",
      " |  \n",
      " |  __weakref__\n",
      " |      list of weak references to the object (if defined)\n",
      "\n"
     ]
    }
   ],
   "source": [
    "help(Test)"
   ]
  },
  {
   "cell_type": "code",
   "execution_count": 13,
   "metadata": {},
   "outputs": [
    {
     "name": "stdout",
     "output_type": "stream",
     "text": [
      "Help on class Test2 in module __main__:\n",
      "\n",
      "class Test2(builtins.object)\n",
      " |  Data descriptors defined here:\n",
      " |  \n",
      " |  __dict__\n",
      " |      dictionary for instance variables (if defined)\n",
      " |  \n",
      " |  __weakref__\n",
      " |      list of weak references to the object (if defined)\n",
      "\n"
     ]
    }
   ],
   "source": [
    "help(Test2)"
   ]
  },
  {
   "cell_type": "markdown",
   "metadata": {},
   "source": [
    "## 4.使⽤type创建带有属性的类"
   ]
  },
  {
   "cell_type": "code",
   "execution_count": 16,
   "metadata": {},
   "outputs": [
    {
     "name": "stdout",
     "output_type": "stream",
     "text": [
      "<class '__main__.Foo'>\n",
      "True\n",
      "<__main__.Foo object at 0x00000202F7AD5588>\n",
      "True\n"
     ]
    }
   ],
   "source": [
    "#添加的属性是类属性，并不是实例属性\n",
    "Foo = type('Foo',(),{'female':True})\n",
    "print(Foo)\n",
    "print(Foo.female)\n",
    "foo = Foo()\n",
    "print(foo)\n",
    "print(foo.female)"
   ]
  },
  {
   "cell_type": "markdown",
   "metadata": {},
   "source": [
    "## 5.\t使用type创建带有⽅法的类\n"
   ]
  },
  {
   "cell_type": "code",
   "execution_count": 17,
   "metadata": {},
   "outputs": [
    {
     "name": "stdout",
     "output_type": "stream",
     "text": [
      "Hohohohooooo!\n"
     ]
    }
   ],
   "source": [
    "def bark():\n",
    "    print('Hohohohooooo!')\n",
    "Dog = type('Dog',(),{'bark':bark})\n",
    "dog = Dog\n",
    "dog.bark()"
   ]
  },
  {
   "cell_type": "markdown",
   "metadata": {},
   "source": [
    "## 6.元类的本质：创建类的类"
   ]
  },
  {
   "cell_type": "code",
   "execution_count": 21,
   "metadata": {},
   "outputs": [
    {
     "data": {
      "text/plain": [
       "int"
      ]
     },
     "execution_count": 21,
     "metadata": {},
     "output_type": "execute_result"
    }
   ],
   "source": [
    "#函数type实际上是⼀个元类。type就是Python在背后⽤来创建所有 类的元类。现在你想知道那为什么type会全部采⽤⼩写形式⽽不是Type呢？ \n",
    "#好吧，我猜这是为了和str保持⼀致性，str是⽤来创建字符串对象的类，⽽int 是⽤来创建整数对象的类。type就是创建类对象的类。\n",
    "#你可以通过检查 __class__属性来看到这⼀点。Python中所有的东⻄，注意，我是指所有的东 ⻄——都是对象。这包括整数、字符串、函数以及类。\n",
    "#它们全部都是对象， ⽽且它们都是从⼀个类创建⽽来，这个类就是type。\n",
    "a = 1\n",
    "a.__class__"
   ]
  },
  {
   "cell_type": "code",
   "execution_count": 22,
   "metadata": {},
   "outputs": [
    {
     "data": {
      "text/plain": [
       "type"
      ]
     },
     "execution_count": 22,
     "metadata": {},
     "output_type": "execute_result"
    }
   ],
   "source": [
    "a.__class__.__class__"
   ]
  },
  {
   "cell_type": "markdown",
   "metadata": {},
   "source": [
    "## 7.__metaclass__属性"
   ]
  },
  {
   "cell_type": "raw",
   "metadata": {},
   "source": [
    "你可以在定义⼀个类的时候为其添加__metaclass__属性。\n",
    "Python做了如下的操作：\n",
    "1.Foo中有__metaclass__这个属性吗？如果是，Python会通过 __metaclass__创建⼀个名字为Foo的类(对象) \n",
    "2.如果Python没有找到__metaclass__，它会继续在Bar（⽗类）中寻找 __metaclass__属性，并尝试做和前⾯同样的操作。\n",
    "3.如果Python在任何⽗类中都找不到__metaclass__，它就会在模块层次 中去寻找__metaclass__，并尝试做同样的操作。\n",
    "4.\t如果还是找不到__metaclass__,Python就会⽤内置的type来创建这个类对象。\n"
   ]
  },
  {
   "cell_type": "markdown",
   "metadata": {},
   "source": [
    "## 8.⾃定义元类"
   ]
  },
  {
   "cell_type": "code",
   "execution_count": 22,
   "metadata": {},
   "outputs": [],
   "source": [
    "class UpperAttrMetaClass(type):\n",
    "    def __new__(cls,class_name,class_parents,class_attr):\n",
    "        newAttr = {}\n",
    "        for name,value in class_attr.items():\n",
    "            if not name.startswith('__'):\n",
    "                newAttr[name.upper()] = value\n",
    "        return super(UpperAttrMetaClass,cls).__new__(cls,class_name,class_parents,newAttr)"
   ]
  },
  {
   "cell_type": "code",
   "execution_count": 23,
   "metadata": {},
   "outputs": [
    {
     "data": {
      "text/plain": [
       "False"
      ]
     },
     "execution_count": 23,
     "metadata": {},
     "output_type": "execute_result"
    }
   ],
   "source": [
    "class Foo(metaclass=UpperAttrMetaClass):\n",
    "    bar = 'bbb'\n",
    "hasattr(Foo,'bar')"
   ]
  },
  {
   "cell_type": "code",
   "execution_count": 24,
   "metadata": {},
   "outputs": [
    {
     "data": {
      "text/plain": [
       "True"
      ]
     },
     "execution_count": 24,
     "metadata": {},
     "output_type": "execute_result"
    }
   ],
   "source": [
    "hasattr(Foo,'BAR')"
   ]
  },
  {
   "cell_type": "markdown",
   "metadata": {},
   "source": [
    "# 二.python是动态语言"
   ]
  },
  {
   "cell_type": "markdown",
   "metadata": {},
   "source": [
    "## 1.动态语言的定义"
   ]
  },
  {
   "cell_type": "raw",
   "metadata": {},
   "source": [
    "动态编程语⾔是⾼级程序设计语⾔的⼀个类别,在计算机科学领域已被⼴ 泛应⽤。它是⼀类在运⾏时可以改变其结构的语⾔例如新的函数、对象、甚⾄代码可以被引进，已有的函数可以被删除或是其他结构上的变化.动态语⾔⽬前⾮常具有活⼒。例如JavaScript便是⼀个动态语⾔，除此之外如PHP、Ruby、Python等也都属于动态语⾔，⽽C、C++等语⾔则不属于动态语⾔。"
   ]
  },
  {
   "cell_type": "markdown",
   "metadata": {},
   "source": [
    "## 2.运行的过程中给对象绑定(添加)属性\n"
   ]
  },
  {
   "cell_type": "code",
   "execution_count": 26,
   "metadata": {},
   "outputs": [
    {
     "name": "stdout",
     "output_type": "stream",
     "text": [
      "male\n"
     ]
    }
   ],
   "source": [
    "class Person(object):\n",
    "    def __init__(self,name,age):\n",
    "        self.name = name\n",
    "        self.age = age\n",
    "\n",
    "p = Person('bob','27')\n",
    "p.sex = 'male'\n",
    "print(p.sex)"
   ]
  },
  {
   "cell_type": "markdown",
   "metadata": {},
   "source": [
    "## 3.运⾏的过程中给类绑定(添加)属性"
   ]
  },
  {
   "cell_type": "code",
   "execution_count": 28,
   "metadata": {},
   "outputs": [
    {
     "ename": "AttributeError",
     "evalue": "type object 'Person' has no attribute 'sex'",
     "output_type": "error",
     "traceback": [
      "\u001b[1;31m---------------------------------------------------------------------------\u001b[0m",
      "\u001b[1;31mAttributeError\u001b[0m                            Traceback (most recent call last)",
      "\u001b[1;32m<ipython-input-28-98d5cb9e0e9e>\u001b[0m in \u001b[0;36m<module>\u001b[1;34m()\u001b[0m\n\u001b[0;32m      1\u001b[0m \u001b[1;31m#Person类中并没有sex属性\u001b[0m\u001b[1;33m\u001b[0m\u001b[1;33m\u001b[0m\u001b[0m\n\u001b[1;32m----> 2\u001b[1;33m \u001b[0mprint\u001b[0m\u001b[1;33m(\u001b[0m\u001b[0mPerson\u001b[0m\u001b[1;33m.\u001b[0m\u001b[0msex\u001b[0m\u001b[1;33m)\u001b[0m\u001b[1;33m\u001b[0m\u001b[0m\n\u001b[0m\u001b[0;32m      3\u001b[0m \u001b[0mp1\u001b[0m \u001b[1;33m=\u001b[0m \u001b[1;33m(\u001b[0m\u001b[1;34m'Amy'\u001b[0m\u001b[1;33m,\u001b[0m\u001b[1;36m22\u001b[0m\u001b[1;33m)\u001b[0m\u001b[1;33m\u001b[0m\u001b[0m\n\u001b[0;32m      4\u001b[0m \u001b[0mprint\u001b[0m\u001b[1;33m(\u001b[0m\u001b[0mp1\u001b[0m\u001b[1;33m.\u001b[0m\u001b[0msex\u001b[0m\u001b[1;33m)\u001b[0m\u001b[1;33m\u001b[0m\u001b[0m\n",
      "\u001b[1;31mAttributeError\u001b[0m: type object 'Person' has no attribute 'sex'"
     ]
    }
   ],
   "source": [
    "#Person类中并没有sex属性\n",
    "print(Person.sex)"
   ]
  },
  {
   "cell_type": "code",
   "execution_count": 30,
   "metadata": {},
   "outputs": [
    {
     "name": "stdout",
     "output_type": "stream",
     "text": [
      "None\n",
      "None\n"
     ]
    }
   ],
   "source": [
    "#给Person添加sex属性\n",
    "Person.sex = None\n",
    "print(Person.sex)\n",
    "p1 = Person('Amy',22)\n",
    "print(p1.sex)"
   ]
  },
  {
   "cell_type": "markdown",
   "metadata": {},
   "source": [
    "## 4.运行的过程中给类绑定(添加)⽅法\n"
   ]
  },
  {
   "cell_type": "code",
   "execution_count": 38,
   "metadata": {},
   "outputs": [
    {
     "name": "stdout",
     "output_type": "stream",
     "text": [
      "老王 is running\n"
     ]
    }
   ],
   "source": [
    "#给实例添加实例方法\n",
    "import types\n",
    "class Person(object):\n",
    "    def __init__(self,name,age):\n",
    "        self.name = name\n",
    "        self.age = age\n",
    "\n",
    "def run(self):\n",
    "    print('%s is running'%self.name)\n",
    "    \n",
    "p = Person('老王','22')\n",
    "p.run = types.MethodType(run,p)\n",
    "p.run()"
   ]
  },
  {
   "cell_type": "code",
   "execution_count": 39,
   "metadata": {},
   "outputs": [
    {
     "ename": "AttributeError",
     "evalue": "type object 'Person' has no attribute 'num'",
     "output_type": "error",
     "traceback": [
      "\u001b[1;31m---------------------------------------------------------------------------\u001b[0m",
      "\u001b[1;31mAttributeError\u001b[0m                            Traceback (most recent call last)",
      "\u001b[1;32m<ipython-input-39-c6c92c909af4>\u001b[0m in \u001b[0;36m<module>\u001b[1;34m()\u001b[0m\n\u001b[0;32m      8\u001b[0m \u001b[1;33m\u001b[0m\u001b[0m\n\u001b[0;32m      9\u001b[0m \u001b[0mPerson\u001b[0m\u001b[1;33m.\u001b[0m\u001b[0mtest_class\u001b[0m \u001b[1;33m=\u001b[0m \u001b[0mtypes\u001b[0m\u001b[1;33m.\u001b[0m\u001b[0mMethodType\u001b[0m\u001b[1;33m(\u001b[0m\u001b[0mPerson\u001b[0m\u001b[1;33m,\u001b[0m\u001b[0mtest_class\u001b[0m\u001b[1;33m)\u001b[0m\u001b[1;33m\u001b[0m\u001b[0m\n\u001b[1;32m---> 10\u001b[1;33m \u001b[0mprint\u001b[0m\u001b[1;33m(\u001b[0m\u001b[0mPerson\u001b[0m\u001b[1;33m.\u001b[0m\u001b[0mnum\u001b[0m\u001b[1;33m)\u001b[0m\u001b[1;33m\u001b[0m\u001b[0m\n\u001b[0m\u001b[0;32m     11\u001b[0m \u001b[0mPerson\u001b[0m\u001b[1;33m.\u001b[0m\u001b[0mtest_staticmethod\u001b[0m \u001b[1;33m=\u001b[0m \u001b[0mtypes\u001b[0m\u001b[1;33m.\u001b[0m\u001b[0mMethodType\u001b[0m\u001b[1;33m(\u001b[0m\u001b[0mPerson\u001b[0m\u001b[1;33m,\u001b[0m\u001b[0mtest_staticmethod\u001b[0m\u001b[1;33m)\u001b[0m\u001b[1;33m\u001b[0m\u001b[0m\n\u001b[0;32m     12\u001b[0m \u001b[0mPerson\u001b[0m\u001b[1;33m.\u001b[0m\u001b[0mtest_staticmethod\u001b[0m\u001b[1;33m\u001b[0m\u001b[0m\n",
      "\u001b[1;31mAttributeError\u001b[0m: type object 'Person' has no attribute 'num'"
     ]
    }
   ],
   "source": [
    "#给对象添加类方法和静态方法\n",
    "@classmethod\n",
    "def test_class(cls):\n",
    "    cls.num = 100\n",
    "@staticmethod\n",
    "def test_staticmethod():\n",
    "    print('this is staticmethod')\n",
    "    \n",
    "Person.test_class = types.MethodType(Person,test_class)\n",
    "print(Person.num)\n",
    "Person.test_staticmethod = types.MethodType(Person,test_staticmethod)\n",
    "Person.test_staticmethod"
   ]
  },
  {
   "cell_type": "markdown",
   "metadata": {},
   "source": [
    "## 5.运行的过程中删除属性、⽅法\n"
   ]
  },
  {
   "cell_type": "raw",
   "metadata": {},
   "source": [
    "删除的⽅法:\n",
    "1.del对象.属性名 \n",
    "2.delattr(对象,\"属性名\")"
   ]
  },
  {
   "cell_type": "markdown",
   "metadata": {},
   "source": [
    "## 6.\\__slots\\__"
   ]
  },
  {
   "cell_type": "code",
   "execution_count": 43,
   "metadata": {},
   "outputs": [
    {
     "data": {
      "text/plain": [
       "'bob'"
      ]
     },
     "execution_count": 43,
     "metadata": {},
     "output_type": "execute_result"
    }
   ],
   "source": [
    "#为了达到限制的⽬的，Python允许在定义class的时候，定义⼀个特殊的 __slots__变量，来限制该class实例能添加的属性\n",
    "#__slots__定义的属性仅对当前类实例起作⽤，对 继承的⼦类是不起作⽤的\n",
    "class Person(object):\n",
    "    __slots__=['name','age']\n",
    "    \n",
    "Person.name = 'bob'\n",
    "Person.name"
   ]
  },
  {
   "cell_type": "code",
   "execution_count": 44,
   "metadata": {},
   "outputs": [
    {
     "ename": "NameError",
     "evalue": "name 'Female' is not defined",
     "output_type": "error",
     "traceback": [
      "\u001b[1;31m---------------------------------------------------------------------------\u001b[0m",
      "\u001b[1;31mNameError\u001b[0m                                 Traceback (most recent call last)",
      "\u001b[1;32m<ipython-input-44-254346d8d3ed>\u001b[0m in \u001b[0;36m<module>\u001b[1;34m()\u001b[0m\n\u001b[1;32m----> 1\u001b[1;33m \u001b[0mPerson\u001b[0m\u001b[1;33m.\u001b[0m\u001b[0msex\u001b[0m \u001b[1;33m=\u001b[0m \u001b[0mFemale\u001b[0m\u001b[1;33m\u001b[0m\u001b[0m\n\u001b[0m\u001b[0;32m      2\u001b[0m \u001b[0mPerson\u001b[0m\u001b[1;33m.\u001b[0m\u001b[0msex\u001b[0m\u001b[1;33m\u001b[0m\u001b[0m\n",
      "\u001b[1;31mNameError\u001b[0m: name 'Female' is not defined"
     ]
    }
   ],
   "source": [
    "Person.sex = Female\n",
    "Person.sex"
   ]
  },
  {
   "cell_type": "markdown",
   "metadata": {},
   "source": [
    "# 三.生成器"
   ]
  },
  {
   "cell_type": "markdown",
   "metadata": {},
   "source": [
    "## 1.什么是生成器\n"
   ]
  },
  {
   "cell_type": "raw",
   "metadata": {},
   "source": [
    "1.生成器中保存的是算法而非数据\n",
    "2.在python中，一边循环一边计算的机制成为生成器"
   ]
  },
  {
   "cell_type": "markdown",
   "metadata": {},
   "source": [
    "## 2.创建生成器的方法1"
   ]
  },
  {
   "cell_type": "code",
   "execution_count": 46,
   "metadata": {},
   "outputs": [
    {
     "name": "stdout",
     "output_type": "stream",
     "text": [
      "<generator object <genexpr> at 0x00000213C268C780>\n"
     ]
    }
   ],
   "source": [
    "#列表⽣ 成式的[]改成()\n",
    "G = (x for x in range(10))\n",
    "print(G)"
   ]
  },
  {
   "cell_type": "code",
   "execution_count": 47,
   "metadata": {},
   "outputs": [
    {
     "data": {
      "text/plain": [
       "0"
      ]
     },
     "execution_count": 47,
     "metadata": {},
     "output_type": "execute_result"
    }
   ],
   "source": [
    "#通过next来获取生成器的返回值\n",
    "next(G)"
   ]
  },
  {
   "cell_type": "code",
   "execution_count": 48,
   "metadata": {},
   "outputs": [
    {
     "name": "stdout",
     "output_type": "stream",
     "text": [
      "1\n",
      "2\n",
      "3\n",
      "4\n",
      "5\n",
      "6\n",
      "7\n",
      "8\n",
      "9\n"
     ]
    }
   ],
   "source": [
    "for x in G:\n",
    "    print(x)"
   ]
  },
  {
   "cell_type": "markdown",
   "metadata": {},
   "source": [
    "## 3.创建生成器的方法2 "
   ]
  },
  {
   "cell_type": "code",
   "execution_count": 2,
   "metadata": {},
   "outputs": [],
   "source": [
    "#yield:可以让函数生成一个序列，该函数返回的对象类型是\"generator\"，通过该对象连续调用next()方法返回序列值。\n",
    "#斐波那契数列\n",
    "def fib(times):\n",
    "    n = 0\n",
    "    a,b=0,1\n",
    "    while n<times:\n",
    "        yield b\n",
    "        n+=1\n",
    "        a,b = b,a+b\n",
    "    return 'Done!'\n",
    "f = fib(5)"
   ]
  },
  {
   "cell_type": "code",
   "execution_count": 82,
   "metadata": {},
   "outputs": [
    {
     "data": {
      "text/plain": [
       "1"
      ]
     },
     "execution_count": 82,
     "metadata": {},
     "output_type": "execute_result"
    }
   ],
   "source": [
    "next(f)"
   ]
  },
  {
   "cell_type": "code",
   "execution_count": 83,
   "metadata": {},
   "outputs": [
    {
     "data": {
      "text/plain": [
       "1"
      ]
     },
     "execution_count": 83,
     "metadata": {},
     "output_type": "execute_result"
    }
   ],
   "source": [
    "next(f)"
   ]
  },
  {
   "cell_type": "code",
   "execution_count": 84,
   "metadata": {},
   "outputs": [
    {
     "data": {
      "text/plain": [
       "2"
      ]
     },
     "execution_count": 84,
     "metadata": {},
     "output_type": "execute_result"
    }
   ],
   "source": [
    "next(f)"
   ]
  },
  {
   "cell_type": "code",
   "execution_count": 85,
   "metadata": {},
   "outputs": [
    {
     "data": {
      "text/plain": [
       "3"
      ]
     },
     "execution_count": 85,
     "metadata": {},
     "output_type": "execute_result"
    }
   ],
   "source": [
    "next(f)"
   ]
  },
  {
   "cell_type": "code",
   "execution_count": 86,
   "metadata": {},
   "outputs": [
    {
     "data": {
      "text/plain": [
       "5"
      ]
     },
     "execution_count": 86,
     "metadata": {},
     "output_type": "execute_result"
    }
   ],
   "source": [
    "next(f)"
   ]
  },
  {
   "cell_type": "code",
   "execution_count": 87,
   "metadata": {},
   "outputs": [
    {
     "ename": "StopIteration",
     "evalue": "Done!",
     "output_type": "error",
     "traceback": [
      "\u001b[1;31m---------------------------------------------------------------------------\u001b[0m",
      "\u001b[1;31mStopIteration\u001b[0m                             Traceback (most recent call last)",
      "\u001b[1;32m<ipython-input-87-aff1dd02a623>\u001b[0m in \u001b[0;36m<module>\u001b[1;34m()\u001b[0m\n\u001b[1;32m----> 1\u001b[1;33m \u001b[0mnext\u001b[0m\u001b[1;33m(\u001b[0m\u001b[0mf\u001b[0m\u001b[1;33m)\u001b[0m\u001b[1;33m\u001b[0m\u001b[0m\n\u001b[0m",
      "\u001b[1;31mStopIteration\u001b[0m: Done!"
     ]
    }
   ],
   "source": [
    "next(f)"
   ]
  },
  {
   "cell_type": "code",
   "execution_count": 90,
   "metadata": {},
   "outputs": [
    {
     "name": "stdout",
     "output_type": "stream",
     "text": [
      "1\n",
      "1\n",
      "2\n",
      "3\n",
      "5\n"
     ]
    }
   ],
   "source": [
    "for x in f:\n",
    "    print(x)"
   ]
  },
  {
   "cell_type": "code",
   "execution_count": 3,
   "metadata": {},
   "outputs": [
    {
     "name": "stdout",
     "output_type": "stream",
     "text": [
      "1\n",
      "1\n",
      "2\n",
      "3\n",
      "5\n",
      "Done!\n"
     ]
    }
   ],
   "source": [
    "#使用for循环时，循环结束后不能得到函数的返回值，因此，使用抛出异常的方式\n",
    "try:\n",
    "    while True:\n",
    "        x = next(f)\n",
    "        print(x)\n",
    "except StopIteration as e:\n",
    "    print(e)"
   ]
  },
  {
   "cell_type": "markdown",
   "metadata": {},
   "source": [
    "## 4.send"
   ]
  },
  {
   "cell_type": "raw",
   "metadata": {},
   "source": [
    "例⼦：执⾏到yield时，gen函数作⽤暂时保存，返回i的值;temp接收下次 c.send(\"python\")，send发送过来的值，c.next()等价c.send(None)"
   ]
  },
  {
   "cell_type": "code",
   "execution_count": 4,
   "metadata": {},
   "outputs": [],
   "source": [
    "def gen():\n",
    "    i = 0\n",
    "    while i<5:\n",
    "        temp = yield i\n",
    "        print(temp)\n",
    "        i+=1\n",
    "f = gen()"
   ]
  },
  {
   "cell_type": "code",
   "execution_count": 5,
   "metadata": {},
   "outputs": [
    {
     "data": {
      "text/plain": [
       "0"
      ]
     },
     "execution_count": 5,
     "metadata": {},
     "output_type": "execute_result"
    }
   ],
   "source": [
    "next(f)"
   ]
  },
  {
   "cell_type": "code",
   "execution_count": 6,
   "metadata": {},
   "outputs": [
    {
     "name": "stdout",
     "output_type": "stream",
     "text": [
      "None\n"
     ]
    },
    {
     "data": {
      "text/plain": [
       "1"
      ]
     },
     "execution_count": 6,
     "metadata": {},
     "output_type": "execute_result"
    }
   ],
   "source": [
    "next(f)"
   ]
  },
  {
   "cell_type": "code",
   "execution_count": 9,
   "metadata": {},
   "outputs": [
    {
     "name": "stdout",
     "output_type": "stream",
     "text": [
      "aaa\n"
     ]
    },
    {
     "data": {
      "text/plain": [
       "2"
      ]
     },
     "execution_count": 9,
     "metadata": {},
     "output_type": "execute_result"
    }
   ],
   "source": [
    "f.send('aaa')"
   ]
  },
  {
   "cell_type": "code",
   "execution_count": 11,
   "metadata": {},
   "outputs": [
    {
     "name": "stdout",
     "output_type": "stream",
     "text": [
      "None\n"
     ]
    },
    {
     "data": {
      "text/plain": [
       "3"
      ]
     },
     "execution_count": 11,
     "metadata": {},
     "output_type": "execute_result"
    }
   ],
   "source": [
    "f.__next__()"
   ]
  },
  {
   "cell_type": "code",
   "execution_count": 12,
   "metadata": {},
   "outputs": [
    {
     "name": "stdout",
     "output_type": "stream",
     "text": [
      "444\n"
     ]
    },
    {
     "data": {
      "text/plain": [
       "4"
      ]
     },
     "execution_count": 12,
     "metadata": {},
     "output_type": "execute_result"
    }
   ],
   "source": [
    "f.send(444)"
   ]
  },
  {
   "cell_type": "markdown",
   "metadata": {},
   "source": [
    "# 四.迭代器"
   ]
  },
  {
   "cell_type": "raw",
   "metadata": {},
   "source": [
    "1.迭代是访问集合元素的⼀种⽅式。\n",
    "2.迭代器是⼀个可以记住遍历的位置的对象。\n",
    "3.迭代器对象从集合的第⼀个元素开始访问，直到所有的元素被访问完结束。\n",
    "4.迭代器只能往前不会后退。"
   ]
  },
  {
   "cell_type": "markdown",
   "metadata": {},
   "source": [
    "## 1.可迭代对象"
   ]
  },
  {
   "cell_type": "raw",
   "metadata": {},
   "source": [
    "以直接作⽤于for循环的数据类型有以下⼏种：\n",
    "    ⼀类是集合数据类型，如\tlist、tupl、dict、set、str等；\n",
    "    ⼀类是\tgenerator，包括⽣成器和带yield的generator function。\n",
    "这些可以直接作⽤于for循环的对象统称为可迭代对象：terable\t。\n"
   ]
  },
  {
   "cell_type": "markdown",
   "metadata": {},
   "source": [
    "## 2.判断是否可以迭代：isinstance"
   ]
  },
  {
   "cell_type": "code",
   "execution_count": 13,
   "metadata": {},
   "outputs": [
    {
     "data": {
      "text/plain": [
       "True"
      ]
     },
     "execution_count": 13,
     "metadata": {},
     "output_type": "execute_result"
    }
   ],
   "source": [
    "from collections import Iterable\n",
    "isinstance([],Iterable)"
   ]
  },
  {
   "cell_type": "code",
   "execution_count": 15,
   "metadata": {},
   "outputs": [
    {
     "data": {
      "text/plain": [
       "True"
      ]
     },
     "execution_count": 15,
     "metadata": {},
     "output_type": "execute_result"
    }
   ],
   "source": [
    "a = 'sdfd'\n",
    "isinstance(a,Iterable)"
   ]
  },
  {
   "cell_type": "code",
   "execution_count": 18,
   "metadata": {},
   "outputs": [
    {
     "data": {
      "text/plain": [
       "True"
      ]
     },
     "execution_count": 18,
     "metadata": {},
     "output_type": "execute_result"
    }
   ],
   "source": [
    "#⽣成器不但可以作⽤于for循环还可以被next()函数不断调⽤并返回下⼀个值，直到最后抛出StopIteration错误表示⽆法继续返回下⼀个值了。\n",
    "isinstance((x for x in range(10)), Iterable) "
   ]
  },
  {
   "cell_type": "markdown",
   "metadata": {},
   "source": [
    "## 3.迭代器"
   ]
  },
  {
   "cell_type": "code",
   "execution_count": 20,
   "metadata": {},
   "outputs": [
    {
     "data": {
      "text/plain": [
       "True"
      ]
     },
     "execution_count": 20,
     "metadata": {},
     "output_type": "execute_result"
    }
   ],
   "source": [
    "#可以被next()函数调⽤并不断返回下⼀个值的对象称为迭代器：Iterator。\n",
    "#可以使⽤isinstance()判断⼀个对象是否是Iterator对象：\n",
    "from collections import Iterator\n",
    "isinstance((x for x in range(10)),Iterator)"
   ]
  },
  {
   "cell_type": "code",
   "execution_count": 21,
   "metadata": {},
   "outputs": [
    {
     "data": {
      "text/plain": [
       "False"
      ]
     },
     "execution_count": 21,
     "metadata": {},
     "output_type": "execute_result"
    }
   ],
   "source": [
    "isinstance('abc',Iterator)"
   ]
  },
  {
   "cell_type": "markdown",
   "metadata": {},
   "source": [
    "## 4.iter()函数"
   ]
  },
  {
   "cell_type": "code",
   "execution_count": 24,
   "metadata": {},
   "outputs": [
    {
     "ename": "TypeError",
     "evalue": "'list' object is not an iterator",
     "output_type": "error",
     "traceback": [
      "\u001b[1;31m---------------------------------------------------------------------------\u001b[0m",
      "\u001b[1;31mTypeError\u001b[0m                                 Traceback (most recent call last)",
      "\u001b[1;32m<ipython-input-24-9aa70cbc3b88>\u001b[0m in \u001b[0;36m<module>\u001b[1;34m()\u001b[0m\n\u001b[0;32m      2\u001b[0m \u001b[1;31m#把list、dict、str等Iterable变成Iterator可以使⽤iter()函数\u001b[0m\u001b[1;33m\u001b[0m\u001b[1;33m\u001b[0m\u001b[0m\n\u001b[0;32m      3\u001b[0m \u001b[0ma\u001b[0m \u001b[1;33m=\u001b[0m \u001b[1;33m[\u001b[0m\u001b[1;36m1\u001b[0m\u001b[1;33m,\u001b[0m\u001b[1;36m23\u001b[0m\u001b[1;33m,\u001b[0m\u001b[1;36m4\u001b[0m\u001b[1;33m,\u001b[0m\u001b[1;36m5\u001b[0m\u001b[1;33m,\u001b[0m\u001b[1;36m6\u001b[0m\u001b[1;33m]\u001b[0m\u001b[1;33m\u001b[0m\u001b[0m\n\u001b[1;32m----> 4\u001b[1;33m \u001b[0mnext\u001b[0m\u001b[1;33m(\u001b[0m\u001b[0ma\u001b[0m\u001b[1;33m)\u001b[0m\u001b[1;33m\u001b[0m\u001b[0m\n\u001b[0m",
      "\u001b[1;31mTypeError\u001b[0m: 'list' object is not an iterator"
     ]
    }
   ],
   "source": [
    "#⽣成器都是Iterator对象，但list、dict\t、str虽然是Iterable，却不是 Iterator。\n",
    "#把list、dict、str等Iterable变成Iterator可以使⽤iter()函数\n",
    "a = [1,23,4,5,6]\n",
    "next(a)"
   ]
  },
  {
   "cell_type": "code",
   "execution_count": 27,
   "metadata": {},
   "outputs": [
    {
     "data": {
      "text/plain": [
       "1"
      ]
     },
     "execution_count": 27,
     "metadata": {},
     "output_type": "execute_result"
    }
   ],
   "source": [
    "b = iter(a)\n",
    "next(b)"
   ]
  },
  {
   "cell_type": "code",
   "execution_count": 28,
   "metadata": {},
   "outputs": [
    {
     "data": {
      "text/plain": [
       "23"
      ]
     },
     "execution_count": 28,
     "metadata": {},
     "output_type": "execute_result"
    }
   ],
   "source": [
    "next(b)"
   ]
  },
  {
   "cell_type": "markdown",
   "metadata": {},
   "source": [
    "# 五.闭包"
   ]
  },
  {
   "cell_type": "markdown",
   "metadata": {},
   "source": [
    "## 1.函数引⽤"
   ]
  },
  {
   "cell_type": "code",
   "execution_count": 31,
   "metadata": {},
   "outputs": [
    {
     "name": "stdout",
     "output_type": "stream",
     "text": [
      "this is test1 function\n",
      "1962331972064\n",
      "<function test1 at 0x000001C8E419A1E0>\n",
      "this is test1 function\n"
     ]
    }
   ],
   "source": [
    "def test1():\n",
    "    print('this is test1 function')\n",
    "\n",
    "test1()\n",
    "test1_id = test1\n",
    "print(id(test1))\n",
    "print(test1_id)\n",
    "test1_id()"
   ]
  },
  {
   "cell_type": "markdown",
   "metadata": {},
   "source": [
    "## 2. 什么是闭包"
   ]
  },
  {
   "cell_type": "code",
   "execution_count": 33,
   "metadata": {},
   "outputs": [
    {
     "name": "stdout",
     "output_type": "stream",
     "text": [
      "number_in is 100\n"
     ]
    },
    {
     "data": {
      "text/plain": [
       "120"
      ]
     },
     "execution_count": 33,
     "metadata": {},
     "output_type": "execute_result"
    }
   ],
   "source": [
    "#在函数内部再定义一个函数，并且这个函数用到了外边函数的变量，那么将这个函数以及用到的一些变量称之为闭包\n",
    "def test(number):\n",
    "    def test_in(number_in):\n",
    "        print('number_in is',number_in)\n",
    "        return number+number_in\n",
    "    return test_in\n",
    "\n",
    "ret = test(20)\n",
    "ret(100)"
   ]
  },
  {
   "cell_type": "code",
   "execution_count": 34,
   "metadata": {},
   "outputs": [
    {
     "name": "stdout",
     "output_type": "stream",
     "text": [
      "number_in is 200\n"
     ]
    },
    {
     "data": {
      "text/plain": [
       "220"
      ]
     },
     "execution_count": 34,
     "metadata": {},
     "output_type": "execute_result"
    }
   ],
   "source": [
    "ret(200)"
   ]
  },
  {
   "cell_type": "markdown",
   "metadata": {},
   "source": [
    "## 3. 闭包再理解"
   ]
  },
  {
   "cell_type": "code",
   "execution_count": 38,
   "metadata": {},
   "outputs": [
    {
     "name": "stdout",
     "output_type": "stream",
     "text": [
      "25\n"
     ]
    }
   ],
   "source": [
    "#内部函数对外部函数作⽤域⾥变量的引⽤（⾮全局变量）,则称内部函数为闭包。\n",
    "def line_coef(a,b):\n",
    "    def line(x):\n",
    "        result = a*x+b\n",
    "        return result\n",
    "    return line\n",
    "line1 = line_coef(4,5)\n",
    "print(line1(5))"
   ]
  },
  {
   "cell_type": "code",
   "execution_count": 39,
   "metadata": {},
   "outputs": [
    {
     "name": "stdout",
     "output_type": "stream",
     "text": [
      "19\n"
     ]
    }
   ],
   "source": [
    "line2=line_coef(3,4)\n",
    "print(line2(5))"
   ]
  },
  {
   "cell_type": "markdown",
   "metadata": {},
   "source": [
    "## 六.装饰器"
   ]
  },
  {
   "cell_type": "markdown",
   "metadata": {},
   "source": [
    "## 1.函数名的本质"
   ]
  },
  {
   "cell_type": "code",
   "execution_count": 40,
   "metadata": {},
   "outputs": [
    {
     "name": "stdout",
     "output_type": "stream",
     "text": [
      "15\n"
     ]
    }
   ],
   "source": [
    "def foo(x):\n",
    "    print(x+10)\n",
    "foo(5)"
   ]
  },
  {
   "cell_type": "code",
   "execution_count": 41,
   "metadata": {},
   "outputs": [
    {
     "data": {
      "text/plain": [
       "25"
      ]
     },
     "execution_count": 41,
     "metadata": {},
     "output_type": "execute_result"
    }
   ],
   "source": [
    "foo = lambda x:x+20\n",
    "foo(5)"
   ]
  },
  {
   "cell_type": "markdown",
   "metadata": {},
   "source": [
    "## 2.装饰器初探"
   ]
  },
  {
   "cell_type": "code",
   "execution_count": 42,
   "metadata": {},
   "outputs": [],
   "source": [
    "#@w1的作用\n",
    "#1.执⾏w1函数，并将@w1下⾯的函数作为w1函数的参数，即：@w1等价于w1(f1)\n",
    "#2.将执行完的w1函数返回值赋值给@w1下面的函数的函数名f1，即：f1 = inner\n",
    "def w1(func):\n",
    "    def inner():\n",
    "        func\n",
    "    return inner\n",
    "@w1\n",
    "def f1():\n",
    "    print('f1')"
   ]
  },
  {
   "cell_type": "markdown",
   "metadata": {},
   "source": [
    "## 3.再议装饰器"
   ]
  },
  {
   "cell_type": "code",
   "execution_count": 44,
   "metadata": {},
   "outputs": [
    {
     "data": {
      "text/plain": [
       "'<1>func1</1>'"
      ]
     },
     "execution_count": 44,
     "metadata": {},
     "output_type": "execute_result"
    }
   ],
   "source": [
    "def make_blod1(func):\n",
    "    def wrap():\n",
    "        return '<1>'+func()+'</1>'\n",
    "    return wrap\n",
    "\n",
    "def make_blod2(func):\n",
    "    def wrap():\n",
    "        return '<2>'+func()+'</2>'\n",
    "    return wrap\n",
    "\n",
    "@make_blod1\n",
    "def func1():\n",
    "    return 'func1'\n",
    "\n",
    "func1()"
   ]
  },
  {
   "cell_type": "code",
   "execution_count": 45,
   "metadata": {},
   "outputs": [
    {
     "data": {
      "text/plain": [
       "'<2>func1</2>'"
      ]
     },
     "execution_count": 45,
     "metadata": {},
     "output_type": "execute_result"
    }
   ],
   "source": [
    "@make_blod2\n",
    "def func1():\n",
    "    return 'func1'\n",
    "\n",
    "func1()"
   ]
  },
  {
   "cell_type": "code",
   "execution_count": 46,
   "metadata": {},
   "outputs": [
    {
     "data": {
      "text/plain": [
       "'<1><2>func1</2></1>'"
      ]
     },
     "execution_count": 46,
     "metadata": {},
     "output_type": "execute_result"
    }
   ],
   "source": [
    "@make_blod1\n",
    "@make_blod2\n",
    "def func1():\n",
    "    return 'func1'\n",
    "\n",
    "func1()"
   ]
  },
  {
   "cell_type": "markdown",
   "metadata": {},
   "source": [
    "## 4.装饰器(decorator)功能"
   ]
  },
  {
   "cell_type": "raw",
   "metadata": {},
   "source": [
    "引入日志\n",
    "函数执行时间统计\n",
    "执行函数前预备处理\n",
    "执行函数后清理功能\n",
    "权限校验等场景\n",
    "缓存"
   ]
  },
  {
   "cell_type": "markdown",
   "metadata": {},
   "source": [
    "## 5. 装饰器示例"
   ]
  },
  {
   "cell_type": "code",
   "execution_count": 53,
   "metadata": {},
   "outputs": [
    {
     "name": "stdout",
     "output_type": "stream",
     "text": [
      "func1 is called at Wed Jun  5 20:00:21 2019\n",
      "i am func1\n",
      "func1 is called at Wed Jun  5 20:00:23 2019\n",
      "i am func1\n"
     ]
    }
   ],
   "source": [
    "#无参数的函数\n",
    "from time import ctime, sleep\n",
    "\n",
    "def time_func(func):\n",
    "    def wrap():\n",
    "        print('%s is called at %s'%(func.__name__,ctime()))\n",
    "        func()\n",
    "    return wrap\n",
    "\n",
    "@time_func\n",
    "def func1():\n",
    "    print('i am func1')\n",
    "\n",
    "func1()\n",
    "sleep(2)\n",
    "func1()"
   ]
  },
  {
   "cell_type": "code",
   "execution_count": 52,
   "metadata": {},
   "outputs": [
    {
     "name": "stdout",
     "output_type": "stream",
     "text": [
      "foo called at Wed Jun  5 19:59:08 2019\n",
      "3 5\n",
      "8\n",
      "foo called at Wed Jun  5 19:59:10 2019\n",
      "2 4\n",
      "6\n"
     ]
    }
   ],
   "source": [
    "#被装饰的函数有参数\n",
    "from time import ctime, sleep\n",
    "\n",
    "def timefun(func):\n",
    "    def wrappedfunc(a, b):\n",
    "        print(\"%s called at %s\"%(func.__name__, ctime()))\n",
    "        print(a, b)\n",
    "        func(a, b)\n",
    "    return wrappedfunc\n",
    "\n",
    "@timefun\n",
    "def foo(a, b):\n",
    "    print(a+b)\n",
    "\n",
    "foo(3,5)\n",
    "sleep(2)\n",
    "foo(2,4)"
   ]
  },
  {
   "cell_type": "code",
   "execution_count": 54,
   "metadata": {},
   "outputs": [
    {
     "name": "stdout",
     "output_type": "stream",
     "text": [
      "foo called at Wed Jun  5 20:00:41 2019\n",
      "15\n",
      "foo called at Wed Jun  5 20:00:43 2019\n",
      "15\n"
     ]
    }
   ],
   "source": [
    "#被装饰的函数有不定长参数\n",
    "from time import ctime, sleep\n",
    "\n",
    "def timefun(func):\n",
    "    def wrappedfunc(*args, **kwargs):\n",
    "        print(\"%s called at %s\"%(func.__name__, ctime()))\n",
    "        func(*args, **kwargs)\n",
    "    return wrappedfunc\n",
    "\n",
    "@timefun\n",
    "def foo(a, b, c):\n",
    "    print(a+b+c)\n",
    "\n",
    "foo(3,5,7)\n",
    "sleep(2)\n",
    "foo(2,4,9)"
   ]
  },
  {
   "cell_type": "code",
   "execution_count": 58,
   "metadata": {},
   "outputs": [
    {
     "name": "stdout",
     "output_type": "stream",
     "text": [
      "foo called at Wed Jun  5 21:13:03 2019\n",
      "I am foo\n",
      "foo called at Wed Jun  5 21:13:05 2019\n",
      "I am foo\n",
      "getInfo called at Wed Jun  5 21:13:05 2019\n",
      "----hahah---\n"
     ]
    }
   ],
   "source": [
    "from time import ctime, sleep\n",
    "\n",
    "def timefun(func):\n",
    "    def wrappedfunc():\n",
    "        print(\"%s called at %s\"%(func.__name__, ctime()))\n",
    "        return func()\n",
    "    return wrappedfunc\n",
    "\n",
    "@timefun\n",
    "def foo():\n",
    "    print(\"I am foo\")\n",
    "\n",
    "@timefun\n",
    "def getInfo():\n",
    "    return '----hahah---'\n",
    "\n",
    "foo()\n",
    "sleep(2)\n",
    "foo()\n",
    "\n",
    "\n",
    "print(getInfo())"
   ]
  },
  {
   "cell_type": "code",
   "execution_count": 59,
   "metadata": {},
   "outputs": [
    {
     "name": "stdout",
     "output_type": "stream",
     "text": [
      "foo called at Wed Jun  5 21:19:32 2019 itcast\n",
      "I am foo\n",
      "foo called at Wed Jun  5 21:19:34 2019 itcast\n",
      "I am foo\n",
      "too called at Wed Jun  5 21:19:34 2019 python\n",
      "I am too\n",
      "too called at Wed Jun  5 21:19:36 2019 python\n",
      "I am too\n"
     ]
    }
   ],
   "source": [
    "#装饰器带参数,在原有装饰器的基础上，设置外部变量\n",
    "from time import ctime, sleep\n",
    "\n",
    "def timefun_arg(pre=\"hello\"):\n",
    "    def timefun(func):\n",
    "        def wrappedfunc():\n",
    "            print(\"%s called at %s %s\"%(func.__name__, ctime(), pre))\n",
    "            return func()\n",
    "        return wrappedfunc\n",
    "    return timefun\n",
    "\n",
    "@timefun_arg(\"itcast\")\n",
    "def foo():\n",
    "    print(\"I am foo\")\n",
    "\n",
    "@timefun_arg(\"python\")\n",
    "def too():\n",
    "    print(\"I am too\")\n",
    "\n",
    "foo()\n",
    "sleep(2)\n",
    "foo()\n",
    "\n",
    "too()\n",
    "sleep(2)\n",
    "too()"
   ]
  },
  {
   "cell_type": "code",
   "execution_count": 60,
   "metadata": {},
   "outputs": [
    {
     "name": "stdout",
     "output_type": "stream",
     "text": [
      "test call\n"
     ]
    }
   ],
   "source": [
    "#类装饰器\n",
    "#重写类的__call__方法，则类的对象变为callable\n",
    "class Test():\n",
    "    def __call__(self):\n",
    "        print('test call')\n",
    "\n",
    "t = Test()\n",
    "t()"
   ]
  },
  {
   "cell_type": "code",
   "execution_count": 62,
   "metadata": {},
   "outputs": [
    {
     "name": "stdout",
     "output_type": "stream",
     "text": [
      "Test类初始化\n",
      "Test call\n",
      "test\n"
     ]
    }
   ],
   "source": [
    "class Test():\n",
    "    def __init__(self,func):\n",
    "        print('Test类初始化')\n",
    "        self.__func = func\n",
    "    def __call__(self):\n",
    "        print('Test call')\n",
    "        self.__func()\n",
    "        \n",
    "@Test\n",
    "def test():\n",
    "    print('test')\n",
    "test()"
   ]
  },
  {
   "cell_type": "code",
   "execution_count": 70,
   "metadata": {},
   "outputs": [
    {
     "name": "stdout",
     "output_type": "stream",
     "text": [
      "['', 'E:\\\\Anaconda\\\\python36.zip', 'E:\\\\Anaconda\\\\DLLs', 'E:\\\\Anaconda\\\\lib', 'E:\\\\Anaconda', 'E:\\\\Anaconda\\\\lib\\\\site-packages', 'E:\\\\Anaconda\\\\lib\\\\site-packages\\\\win32', 'E:\\\\Anaconda\\\\lib\\\\site-packages\\\\win32\\\\lib', 'E:\\\\Anaconda\\\\lib\\\\site-packages\\\\Pythonwin', 'E:\\\\Anaconda\\\\lib\\\\site-packages\\\\IPython\\\\extensions', 'C:\\\\Users\\\\Mr.Xi\\\\.ipython']\n",
      "['E:\\\\', '', 'E:\\\\Anaconda\\\\python36.zip', 'E:\\\\Anaconda\\\\DLLs', 'E:\\\\Anaconda\\\\lib', 'E:\\\\Anaconda', 'E:\\\\Anaconda\\\\lib\\\\site-packages', 'E:\\\\Anaconda\\\\lib\\\\site-packages\\\\win32', 'E:\\\\Anaconda\\\\lib\\\\site-packages\\\\win32\\\\lib', 'E:\\\\Anaconda\\\\lib\\\\site-packages\\\\Pythonwin', 'E:\\\\Anaconda\\\\lib\\\\site-packages\\\\IPython\\\\extensions', 'C:\\\\Users\\\\Mr.Xi\\\\.ipython']\n",
      "['', 'E:\\\\Anaconda\\\\python36.zip', 'E:\\\\Anaconda\\\\DLLs', 'E:\\\\Anaconda\\\\lib', 'E:\\\\Anaconda', 'E:\\\\Anaconda\\\\lib\\\\site-packages', 'E:\\\\Anaconda\\\\lib\\\\site-packages\\\\win32', 'E:\\\\Anaconda\\\\lib\\\\site-packages\\\\win32\\\\lib', 'E:\\\\Anaconda\\\\lib\\\\site-packages\\\\Pythonwin', 'E:\\\\Anaconda\\\\lib\\\\site-packages\\\\IPython\\\\extensions', 'C:\\\\Users\\\\Mr.Xi\\\\.ipython']\n"
     ]
    }
   ],
   "source": [
    "import sys\n",
    "print(sys.path)\n",
    "sys.path.insert(0,'E:\\\\')\n",
    "print(sys.path)\n",
    "sys.path.remove('E:\\\\')\n",
    "print(sys.path)"
   ]
  },
  {
   "cell_type": "markdown",
   "metadata": {},
   "source": [
    "# 七.作用域"
   ]
  },
  {
   "cell_type": "markdown",
   "metadata": {},
   "source": [
    "## 1.globals、locals"
   ]
  },
  {
   "cell_type": "code",
   "execution_count": 72,
   "metadata": {},
   "outputs": [
    {
     "name": "stdout",
     "output_type": "stream",
     "text": [
      "{'b': 20, 'a': 10}\n"
     ]
    },
    {
     "data": {
      "text/plain": [
       "{'A': 100,\n",
       " 'B': 200,\n",
       " 'In': ['',\n",
       "  '#使用for循环时，循环结束后不能得到函数的返回值，因此，使用抛出异常的方式\\ntry:\\n    while True:\\n        x = next(f)\\n        print(x)\\nexcept StopIteration as e:\\n    print(e)',\n",
       "  '#yield:可以让函数生成一个序列，该函数返回的对象类型是\"generator\"，通过该对象连续调用next()方法返回序列值。\\n#斐波那契数列\\ndef fib(times):\\n    n = 0\\n    a,b=0,1\\n    while n<times:\\n        yield b\\n        n+=1\\n        a,b = b,a+b\\n    return \\'Done!\\'\\nf = fib(5)',\n",
       "  '#使用for循环时，循环结束后不能得到函数的返回值，因此，使用抛出异常的方式\\ntry:\\n    while True:\\n        x = next(f)\\n        print(x)\\nexcept StopIteration as e:\\n    print(e)',\n",
       "  'def gen():\\n    i = 0\\n    while i<5:\\n        temp = yield i\\n        print(temp)\\n        i+=1\\nf = gen()',\n",
       "  'next(f)',\n",
       "  'next(f)',\n",
       "  'f.next()',\n",
       "  'f.send()',\n",
       "  \"f.send('aaa')\",\n",
       "  'f.__next__',\n",
       "  'f.__next__()',\n",
       "  'f.send(444)',\n",
       "  'from collections import Iterable\\nisinstance([],Iterable)',\n",
       "  'isinstance(str,Iterable)',\n",
       "  \"a = 'sdfd'\\nisinstance(a,Iterable)\",\n",
       "  '#⽣成器不但可以作⽤于for循环还可以被next()函数不断调⽤并返回下⼀个值，直到最后抛出StopIteration错误表示⽆法继续返回下⼀个值了。\\nisinstance((x for x in range(10),Iterable)',\n",
       "  '#⽣成器不但可以作⽤于for循环还可以被next()函数不断调⽤并返回下⼀个值，直到最后抛出StopIteration错误表示⽆法继续返回下⼀个值了。\\nisinstance((x for x in range(10),Iterable)',\n",
       "  '#⽣成器不但可以作⽤于for循环还可以被next()函数不断调⽤并返回下⼀个值，直到最后抛出StopIteration错误表示⽆法继续返回下⼀个值了。\\nisinstance((x for x in range(10)), Iterable) ',\n",
       "  '#可以被next()函数调⽤并不断返回下⼀个值的对象称为迭代器：Iterator。\\n#可以使⽤isinstance()判断⼀个对象是否是Iterator对象：\\nfrom collections import Iterator\\nisinstance((x for x in rang(10)),Iterator)',\n",
       "  '#可以被next()函数调⽤并不断返回下⼀个值的对象称为迭代器：Iterator。\\n#可以使⽤isinstance()判断⼀个对象是否是Iterator对象：\\nfrom collections import Iterator\\nisinstance((x for x in range(10)),Iterator)',\n",
       "  \"isinstance('abc',Iterator)\",\n",
       "  '#⽣成器都是Iterator对象，但list、dict\\t、str虽然是Iterable，却不是 Iterator。\\n#把list、dict、str等Iterable变成Iterator可以使⽤iter()函数\\na = [1,23,4,5,6]\\nb = iter(a)\\nnext(a)',\n",
       "  '#⽣成器都是Iterator对象，但list、dict\\t、str虽然是Iterable，却不是 Iterator。\\n#把list、dict、str等Iterable变成Iterator可以使⽤iter()函数\\na = [1,23,4,5,6]\\nb = iter(a)\\nnext(b)',\n",
       "  '#⽣成器都是Iterator对象，但list、dict\\t、str虽然是Iterable，却不是 Iterator。\\n#把list、dict、str等Iterable变成Iterator可以使⽤iter()函数\\na = [1,23,4,5,6]\\nnext(a)',\n",
       "  'b = iter(a)\\nfor x in b:\\n    next(b)',\n",
       "  'b = iter(a)\\nfor x in b:\\n    next(x)',\n",
       "  'b = iter(a)\\nnext(b)',\n",
       "  'next(b)',\n",
       "  \"def test1():\\n    print('this is test1 function')\\n\\ntest1()\\ntest1_id = test1\\nprint(test1)\\nprint(test1_id)\\ntest1_id()\",\n",
       "  \"def test1():\\n    print('this is test1 function')\\n\\ntest1()\\ntest1_id = test1\\nprint(id(test1)\\nprint(test1_id)\\ntest1_id()\",\n",
       "  \"def test1():\\n    print('this is test1 function')\\n\\ntest1()\\ntest1_id = test1\\nprint(id(test1))\\nprint(test1_id)\\ntest1_id()\",\n",
       "  \"#在函数内部再定义一个函数，并且这个函数用到了外边函数的变量，那么将这个函数以及用到的一些变量称之为闭包\\ndef test(number):\\n    def test_in(number_in):\\n        print('number_in is'number_in)\\n        return number+number_in\\n    return test_in\\n\\nret = test(20)\\nret(100)\",\n",
       "  \"#在函数内部再定义一个函数，并且这个函数用到了外边函数的变量，那么将这个函数以及用到的一些变量称之为闭包\\ndef test(number):\\n    def test_in(number_in):\\n        print('number_in is',number_in)\\n        return number+number_in\\n    return test_in\\n\\nret = test(20)\\nret(100)\",\n",
       "  'ret(200)',\n",
       "  '#内部函数对外部函数作⽤域⾥变量的引⽤（⾮全局变量）,则称内部函数为闭包。\\ndef line_coef(a,b):\\n    def line(x):\\n        result = ax+b\\n    return line\\nline1 = line_coef(4,5)\\nprint(line1(5))',\n",
       "  '#内部函数对外部函数作⽤域⾥变量的引⽤（⾮全局变量）,则称内部函数为闭包。\\ndef line_coef(a,b):\\n    def line(x):\\n        result = a*x+b\\n    return line\\nline1 = line_coef(4,5)\\nprint(line1(5))',\n",
       "  '#内部函数对外部函数作⽤域⾥变量的引⽤（⾮全局变量）,则称内部函数为闭包。\\ndef line_coef(a,b):\\n    def line(x):\\n        result = a*x+b\\n        ruturn result\\n    return line\\nline1 = line_coef(4,5)\\nprint(line1(5))',\n",
       "  '#内部函数对外部函数作⽤域⾥变量的引⽤（⾮全局变量）,则称内部函数为闭包。\\ndef line_coef(a,b):\\n    def line(x):\\n        result = a*x+b\\n        return result\\n    return line\\nline1 = line_coef(4,5)\\nprint(line1(5))',\n",
       "  'line2=line_coef(3,4)\\nprint(line2(5))',\n",
       "  'def foo(x):\\n    print(x+10)\\nfoo(5)',\n",
       "  'foo = lambda x:x+20\\nfoo(5)',\n",
       "  \"#@w1的作用\\n#1.执⾏w1函数，并将@w1下⾯的函数作为w1函数的参数，即：@w1等价于w1(f1)\\n#2.将执行完的w1函数返回值赋值给@w1下面的函数的函数名f1，即：f1 = inner\\ndef w1(func):\\n    def inner():\\n        func\\n    return inner\\n@w1\\ndef f1():\\n    print('f1')\",\n",
       "  \"def make_blod1(func):\\n    def wrap():\\n        return '<1>'+func+'</1>'\\n    return wrap\\n\\ndef make_blod2(func):\\n    def wrap():\\n        return '<2>'+func+'</2>'\\n    return wrap\\n\\n@make_blod1\\ndef func1():\\n    return 'func1'\\nfunc1()\",\n",
       "  \"def make_blod1(func):\\n    def wrap():\\n        return '<1>'+func()+'</1>'\\n    return wrap\\n\\ndef make_blod2(func):\\n    def wrap():\\n        return '<2>'+func()+'</2>'\\n    return wrap\\n\\n@make_blod1\\ndef func1():\\n    return 'func1'\\n\\nfunc1()\",\n",
       "  \"@make_blod2\\ndef func1():\\n    return 'func1'\\n\\nfunc1()\",\n",
       "  \"@make_blod1\\n@make_blod2\\ndef func1():\\n    return 'func1'\\n\\nfunc1()\",\n",
       "  '#无参数的函数\\nfrom time import ctime, sleep\\n\\ndef timefun(func):\\n    def wrappedfunc():\\n        print(\"%s called at %s\"%(func.__name__, ctime()))\\n        func()\\n    return wrappedfunc\\n\\n@timefun\\ndef foo():\\n    print(\"I am foo\")\\n\\nfoo()\\nsleep(2)\\nfoo()',\n",
       "  '#无参数的函数\\nfrom time import ctime, sleep\\n\\ndef timefun(func):\\n    def wrappedfunc():\\n        print(\"%s called at %s\"%(func.__name__, ctime()))\\n        func()\\n    return wrappedfunc\\n\\n@timefun\\ndef foo1():\\n    print(\"I am foo\")\\n\\nfoo()\\nsleep(2)\\nfoo()',\n",
       "  '#无参数的函数\\nfrom time import ctime, sleep\\n\\ndef timefun(func):\\n    def wrappedfunc():\\n        print(\"%s called at %s\"%(func.__name__, ctime()))\\n        func()\\n    return wrappedfunc\\n\\n@timefun\\ndef foo1():\\n    print(\"I am foo\")\\n\\nfoo1()\\nsleep(2)\\nfoo1()',\n",
       "  '#无参数的函数\\nfrom time import ctime, sleep\\n\\ndef timefun(func):\\n    def wrappedfunc():\\n        print(\"%s called at %s\"%(func.__name__, ctime()))\\n        func()\\n    return wrappedfunc\\n\\n@timefun\\ndef foo1():\\n    print(\"I am foo\")\\n\\nfo22()\\nsleep(2)\\nfoo1()',\n",
       "  \"#无参数的函数\\nfrom time import ctime, sleep\\n\\ndef time_func(func):\\n    def wrap():\\n        print('%s is called at %s'%(func.__name__,ctime()))\\n    return wrap\\n\\n@time_func\\ndef func1():\\n    print('i am func1')\\n\\nfunc1()\\nsleep(2)\\nfunc1()\",\n",
       "  'from time import ctime, sleep\\n\\ndef timefun(func):\\n    def wrappedfunc(a, b):\\n        print(\"%s called at %s\"%(func.__name__, ctime()))\\n        print(a, b)\\n        func(a, b)\\n    return wrappedfunc\\n\\n@timefun\\ndef foo(a, b):\\n    print(a+b)\\n\\nfoo(3,5)\\nsleep(2)\\nfoo(2,4)',\n",
       "  \"#无参数的函数\\nfrom time import ctime, sleep\\n\\ndef time_func(func):\\n    def wrap():\\n        print('%s is called at %s'%(func.__name__,ctime()))\\n        func()\\n    return wrap\\n\\n@time_func\\ndef func1():\\n    print('i am func1')\\n\\nfunc1()\\nsleep(2)\\nfunc1()\",\n",
       "  '#被装饰的函数有不定长参数\\nfrom time import ctime, sleep\\n\\ndef timefun(func):\\n    def wrappedfunc(*args, **kwargs):\\n        print(\"%s called at %s\"%(func.__name__, ctime()))\\n        func(*args, **kwargs)\\n    return wrappedfunc\\n\\n@timefun\\ndef foo(a, b, c):\\n    print(a+b+c)\\n\\nfoo(3,5,7)\\nsleep(2)\\nfoo(2,4,9)',\n",
       "  'from time import ctime, sleep\\n\\ndef timefun(func):\\n    def wrappedfunc():\\n        print(\"%s called at %s\"%(func.__name__, ctime()))\\n        func()\\n    return wrappedfunc\\n\\n@timefun\\ndef foo():\\n    print(\"I am foo\")\\n\\n@timefun\\ndef getInfo():\\n    return \\'----hahah---\\'\\n\\nfoo()\\nsleep(2)\\nfoo()\\n\\n\\nprint(getInfo())',\n",
       "  'from time import ctime, sleep\\n\\ndef timefun(func):\\n    def wrappedfunc():\\n        print(\"%s called at %s\"%(func.__name__, ctime()))\\n        func()\\n        return func\\n    return wrappedfunc\\n\\n@timefun\\ndef foo():\\n    print(\"I am foo\")\\n\\n@timefun\\ndef getInfo():\\n    return \\'----hahah---\\'\\n\\nfoo()\\nsleep(2)\\nfoo()\\n\\n\\nprint(getInfo())',\n",
       "  'from time import ctime, sleep\\n\\ndef timefun(func):\\n    def wrappedfunc():\\n        print(\"%s called at %s\"%(func.__name__, ctime()))\\n        func()\\n        return func()\\n    return wrappedfunc\\n\\n@timefun\\ndef foo():\\n    print(\"I am foo\")\\n\\n@timefun\\ndef getInfo():\\n    return \\'----hahah---\\'\\n\\nfoo()\\nsleep(2)\\nfoo()\\n\\n\\nprint(getInfo())',\n",
       "  'from time import ctime, sleep\\n\\ndef timefun(func):\\n    def wrappedfunc():\\n        print(\"%s called at %s\"%(func.__name__, ctime()))\\n        return func()\\n    return wrappedfunc\\n\\n@timefun\\ndef foo():\\n    print(\"I am foo\")\\n\\n@timefun\\ndef getInfo():\\n    return \\'----hahah---\\'\\n\\nfoo()\\nsleep(2)\\nfoo()\\n\\n\\nprint(getInfo())',\n",
       "  '#装饰器带参数,在原有装饰器的基础上，设置外部变量\\nfrom time import ctime, sleep\\n\\ndef timefun_arg(pre=\"hello\"):\\n    def timefun(func):\\n        def wrappedfunc():\\n            print(\"%s called at %s %s\"%(func.__name__, ctime(), pre))\\n            return func()\\n        return wrappedfunc\\n    return timefun\\n\\n@timefun_arg(\"itcast\")\\ndef foo():\\n    print(\"I am foo\")\\n\\n@timefun_arg(\"python\")\\ndef too():\\n    print(\"I am too\")\\n\\nfoo()\\nsleep(2)\\nfoo()\\n\\ntoo()\\nsleep(2)\\ntoo()',\n",
       "  \"#类装饰器\\n#重写类的__call__方法，则类的对象变为callable\\nclass Test():\\n    def __call__(self):\\n        print('test call')\\n\\nt = Test()\\nt()\",\n",
       "  \"class Test():\\n    def __init__(self,func):\\n        print('Test类初始化')\\n        self.__func = __func\\n    def __call__(self):\\n        print('Test call')\\n        self.__func()\\n        \\n@Test\\ndef test():\\n    print('test')\",\n",
       "  \"class Test():\\n    def __init__(self,func):\\n        print('Test类初始化')\\n        self.__func = func\\n    def __call__(self):\\n        print('Test call')\\n        self.__func()\\n        \\n@Test\\ndef test():\\n    print('test')\\ntest()\",\n",
       "  'import sys\\nsys.path',\n",
       "  'sys.path.insert(0,callabl)',\n",
       "  \"sys.path.insert(0,'E:\\\\\\\\')\",\n",
       "  'sys.path',\n",
       "  'import sys\\nsys.path.remove(0)',\n",
       "  \"import sys\\nsys.path.remove('E:\\\\\\\\')\",\n",
       "  'sys.path',\n",
       "  \"import sys\\nprint(sys.path)\\nsys.path.insert(0,'E:\\\\\\\\')\\nprint(sys.path)\\nsys.path.remove('E:\\\\\\\\')\\nprint(sys.path)\",\n",
       "  'A = 100\\nB =200\\ndef test():\\n    a=10\\n    b=20\\n    print(locals())\\ntest()\\nprint(globals)',\n",
       "  'A = 100\\nB =200\\ndef test():\\n    a=10\\n    b=20\\n    print(locals())\\ntest()\\nglobals()'],\n",
       " 'Iterable': collections.abc.Iterable,\n",
       " 'Iterator': collections.abc.Iterator,\n",
       " 'Out': {5: 0,\n",
       "  6: 1,\n",
       "  9: 2,\n",
       "  10: <method-wrapper '__next__' of generator object at 0x000001C8E3DCAD00>,\n",
       "  11: 3,\n",
       "  12: 4,\n",
       "  13: True,\n",
       "  14: False,\n",
       "  15: True,\n",
       "  18: True,\n",
       "  20: True,\n",
       "  21: False,\n",
       "  23: 1,\n",
       "  27: 1,\n",
       "  28: 23,\n",
       "  33: 120,\n",
       "  34: 220,\n",
       "  41: 25,\n",
       "  44: '<1>func1</1>',\n",
       "  45: '<2>func1</2>',\n",
       "  46: '<1><2>func1</2></1>',\n",
       "  63: ['',\n",
       "   'E:\\\\Anaconda\\\\python36.zip',\n",
       "   'E:\\\\Anaconda\\\\DLLs',\n",
       "   'E:\\\\Anaconda\\\\lib',\n",
       "   'E:\\\\Anaconda',\n",
       "   'E:\\\\Anaconda\\\\lib\\\\site-packages',\n",
       "   'E:\\\\Anaconda\\\\lib\\\\site-packages\\\\win32',\n",
       "   'E:\\\\Anaconda\\\\lib\\\\site-packages\\\\win32\\\\lib',\n",
       "   'E:\\\\Anaconda\\\\lib\\\\site-packages\\\\Pythonwin',\n",
       "   'E:\\\\Anaconda\\\\lib\\\\site-packages\\\\IPython\\\\extensions',\n",
       "   'C:\\\\Users\\\\Mr.Xi\\\\.ipython'],\n",
       "  66: ['',\n",
       "   'E:\\\\Anaconda\\\\python36.zip',\n",
       "   'E:\\\\Anaconda\\\\DLLs',\n",
       "   'E:\\\\Anaconda\\\\lib',\n",
       "   'E:\\\\Anaconda',\n",
       "   'E:\\\\Anaconda\\\\lib\\\\site-packages',\n",
       "   'E:\\\\Anaconda\\\\lib\\\\site-packages\\\\win32',\n",
       "   'E:\\\\Anaconda\\\\lib\\\\site-packages\\\\win32\\\\lib',\n",
       "   'E:\\\\Anaconda\\\\lib\\\\site-packages\\\\Pythonwin',\n",
       "   'E:\\\\Anaconda\\\\lib\\\\site-packages\\\\IPython\\\\extensions',\n",
       "   'C:\\\\Users\\\\Mr.Xi\\\\.ipython'],\n",
       "  69: ['',\n",
       "   'E:\\\\Anaconda\\\\python36.zip',\n",
       "   'E:\\\\Anaconda\\\\DLLs',\n",
       "   'E:\\\\Anaconda\\\\lib',\n",
       "   'E:\\\\Anaconda',\n",
       "   'E:\\\\Anaconda\\\\lib\\\\site-packages',\n",
       "   'E:\\\\Anaconda\\\\lib\\\\site-packages\\\\win32',\n",
       "   'E:\\\\Anaconda\\\\lib\\\\site-packages\\\\win32\\\\lib',\n",
       "   'E:\\\\Anaconda\\\\lib\\\\site-packages\\\\Pythonwin',\n",
       "   'E:\\\\Anaconda\\\\lib\\\\site-packages\\\\IPython\\\\extensions',\n",
       "   'C:\\\\Users\\\\Mr.Xi\\\\.ipython']},\n",
       " 'Test': __main__.Test,\n",
       " '_': ['',\n",
       "  'E:\\\\Anaconda\\\\python36.zip',\n",
       "  'E:\\\\Anaconda\\\\DLLs',\n",
       "  'E:\\\\Anaconda\\\\lib',\n",
       "  'E:\\\\Anaconda',\n",
       "  'E:\\\\Anaconda\\\\lib\\\\site-packages',\n",
       "  'E:\\\\Anaconda\\\\lib\\\\site-packages\\\\win32',\n",
       "  'E:\\\\Anaconda\\\\lib\\\\site-packages\\\\win32\\\\lib',\n",
       "  'E:\\\\Anaconda\\\\lib\\\\site-packages\\\\Pythonwin',\n",
       "  'E:\\\\Anaconda\\\\lib\\\\site-packages\\\\IPython\\\\extensions',\n",
       "  'C:\\\\Users\\\\Mr.Xi\\\\.ipython'],\n",
       " '_10': <method-wrapper '__next__' of generator object at 0x000001C8E3DCAD00>,\n",
       " '_11': 3,\n",
       " '_12': 4,\n",
       " '_13': True,\n",
       " '_14': False,\n",
       " '_15': True,\n",
       " '_18': True,\n",
       " '_20': True,\n",
       " '_21': False,\n",
       " '_23': 1,\n",
       " '_27': 1,\n",
       " '_28': 23,\n",
       " '_33': 120,\n",
       " '_34': 220,\n",
       " '_41': 25,\n",
       " '_44': '<1>func1</1>',\n",
       " '_45': '<2>func1</2>',\n",
       " '_46': '<1><2>func1</2></1>',\n",
       " '_5': 0,\n",
       " '_6': 1,\n",
       " '_63': ['',\n",
       "  'E:\\\\Anaconda\\\\python36.zip',\n",
       "  'E:\\\\Anaconda\\\\DLLs',\n",
       "  'E:\\\\Anaconda\\\\lib',\n",
       "  'E:\\\\Anaconda',\n",
       "  'E:\\\\Anaconda\\\\lib\\\\site-packages',\n",
       "  'E:\\\\Anaconda\\\\lib\\\\site-packages\\\\win32',\n",
       "  'E:\\\\Anaconda\\\\lib\\\\site-packages\\\\win32\\\\lib',\n",
       "  'E:\\\\Anaconda\\\\lib\\\\site-packages\\\\Pythonwin',\n",
       "  'E:\\\\Anaconda\\\\lib\\\\site-packages\\\\IPython\\\\extensions',\n",
       "  'C:\\\\Users\\\\Mr.Xi\\\\.ipython'],\n",
       " '_66': ['',\n",
       "  'E:\\\\Anaconda\\\\python36.zip',\n",
       "  'E:\\\\Anaconda\\\\DLLs',\n",
       "  'E:\\\\Anaconda\\\\lib',\n",
       "  'E:\\\\Anaconda',\n",
       "  'E:\\\\Anaconda\\\\lib\\\\site-packages',\n",
       "  'E:\\\\Anaconda\\\\lib\\\\site-packages\\\\win32',\n",
       "  'E:\\\\Anaconda\\\\lib\\\\site-packages\\\\win32\\\\lib',\n",
       "  'E:\\\\Anaconda\\\\lib\\\\site-packages\\\\Pythonwin',\n",
       "  'E:\\\\Anaconda\\\\lib\\\\site-packages\\\\IPython\\\\extensions',\n",
       "  'C:\\\\Users\\\\Mr.Xi\\\\.ipython'],\n",
       " '_69': ['',\n",
       "  'E:\\\\Anaconda\\\\python36.zip',\n",
       "  'E:\\\\Anaconda\\\\DLLs',\n",
       "  'E:\\\\Anaconda\\\\lib',\n",
       "  'E:\\\\Anaconda',\n",
       "  'E:\\\\Anaconda\\\\lib\\\\site-packages',\n",
       "  'E:\\\\Anaconda\\\\lib\\\\site-packages\\\\win32',\n",
       "  'E:\\\\Anaconda\\\\lib\\\\site-packages\\\\win32\\\\lib',\n",
       "  'E:\\\\Anaconda\\\\lib\\\\site-packages\\\\Pythonwin',\n",
       "  'E:\\\\Anaconda\\\\lib\\\\site-packages\\\\IPython\\\\extensions',\n",
       "  'C:\\\\Users\\\\Mr.Xi\\\\.ipython'],\n",
       " '_9': 2,\n",
       " '__': ['',\n",
       "  'E:\\\\Anaconda\\\\python36.zip',\n",
       "  'E:\\\\Anaconda\\\\DLLs',\n",
       "  'E:\\\\Anaconda\\\\lib',\n",
       "  'E:\\\\Anaconda',\n",
       "  'E:\\\\Anaconda\\\\lib\\\\site-packages',\n",
       "  'E:\\\\Anaconda\\\\lib\\\\site-packages\\\\win32',\n",
       "  'E:\\\\Anaconda\\\\lib\\\\site-packages\\\\win32\\\\lib',\n",
       "  'E:\\\\Anaconda\\\\lib\\\\site-packages\\\\Pythonwin',\n",
       "  'E:\\\\Anaconda\\\\lib\\\\site-packages\\\\IPython\\\\extensions',\n",
       "  'C:\\\\Users\\\\Mr.Xi\\\\.ipython'],\n",
       " '___': ['',\n",
       "  'E:\\\\Anaconda\\\\python36.zip',\n",
       "  'E:\\\\Anaconda\\\\DLLs',\n",
       "  'E:\\\\Anaconda\\\\lib',\n",
       "  'E:\\\\Anaconda',\n",
       "  'E:\\\\Anaconda\\\\lib\\\\site-packages',\n",
       "  'E:\\\\Anaconda\\\\lib\\\\site-packages\\\\win32',\n",
       "  'E:\\\\Anaconda\\\\lib\\\\site-packages\\\\win32\\\\lib',\n",
       "  'E:\\\\Anaconda\\\\lib\\\\site-packages\\\\Pythonwin',\n",
       "  'E:\\\\Anaconda\\\\lib\\\\site-packages\\\\IPython\\\\extensions',\n",
       "  'C:\\\\Users\\\\Mr.Xi\\\\.ipython'],\n",
       " '__builtin__': <module 'builtins' (built-in)>,\n",
       " '__builtins__': <module 'builtins' (built-in)>,\n",
       " '__doc__': 'Automatically created module for IPython interactive environment',\n",
       " '__loader__': None,\n",
       " '__name__': '__main__',\n",
       " '__package__': None,\n",
       " '__spec__': None,\n",
       " '_dh': ['C:\\\\Users\\\\Mr.Xi\\\\Desktop\\\\ML'],\n",
       " '_i': 'A = 100\\nB =200\\ndef test():\\n    a=10\\n    b=20\\n    print(locals())\\ntest()\\nprint(globals)',\n",
       " '_i1': '#使用for循环时，循环结束后不能得到函数的返回值，因此，使用抛出异常的方式\\ntry:\\n    while True:\\n        x = next(f)\\n        print(x)\\nexcept StopIteration as e:\\n    print(e)',\n",
       " '_i10': 'f.__next__',\n",
       " '_i11': 'f.__next__()',\n",
       " '_i12': 'f.send(444)',\n",
       " '_i13': 'from collections import Iterable\\nisinstance([],Iterable)',\n",
       " '_i14': 'isinstance(str,Iterable)',\n",
       " '_i15': \"a = 'sdfd'\\nisinstance(a,Iterable)\",\n",
       " '_i16': '#⽣成器不但可以作⽤于for循环还可以被next()函数不断调⽤并返回下⼀个值，直到最后抛出StopIteration错误表示⽆法继续返回下⼀个值了。\\nisinstance((x for x in range(10),Iterable)',\n",
       " '_i17': '#⽣成器不但可以作⽤于for循环还可以被next()函数不断调⽤并返回下⼀个值，直到最后抛出StopIteration错误表示⽆法继续返回下⼀个值了。\\nisinstance((x for x in range(10),Iterable)',\n",
       " '_i18': '#⽣成器不但可以作⽤于for循环还可以被next()函数不断调⽤并返回下⼀个值，直到最后抛出StopIteration错误表示⽆法继续返回下⼀个值了。\\nisinstance((x for x in range(10)), Iterable) ',\n",
       " '_i19': '#可以被next()函数调⽤并不断返回下⼀个值的对象称为迭代器：Iterator。\\n#可以使⽤isinstance()判断⼀个对象是否是Iterator对象：\\nfrom collections import Iterator\\nisinstance((x for x in rang(10)),Iterator)',\n",
       " '_i2': '#yield:可以让函数生成一个序列，该函数返回的对象类型是\"generator\"，通过该对象连续调用next()方法返回序列值。\\n#斐波那契数列\\ndef fib(times):\\n    n = 0\\n    a,b=0,1\\n    while n<times:\\n        yield b\\n        n+=1\\n        a,b = b,a+b\\n    return \\'Done!\\'\\nf = fib(5)',\n",
       " '_i20': '#可以被next()函数调⽤并不断返回下⼀个值的对象称为迭代器：Iterator。\\n#可以使⽤isinstance()判断⼀个对象是否是Iterator对象：\\nfrom collections import Iterator\\nisinstance((x for x in range(10)),Iterator)',\n",
       " '_i21': \"isinstance('abc',Iterator)\",\n",
       " '_i22': '#⽣成器都是Iterator对象，但list、dict\\t、str虽然是Iterable，却不是 Iterator。\\n#把list、dict、str等Iterable变成Iterator可以使⽤iter()函数\\na = [1,23,4,5,6]\\nb = iter(a)\\nnext(a)',\n",
       " '_i23': '#⽣成器都是Iterator对象，但list、dict\\t、str虽然是Iterable，却不是 Iterator。\\n#把list、dict、str等Iterable变成Iterator可以使⽤iter()函数\\na = [1,23,4,5,6]\\nb = iter(a)\\nnext(b)',\n",
       " '_i24': '#⽣成器都是Iterator对象，但list、dict\\t、str虽然是Iterable，却不是 Iterator。\\n#把list、dict、str等Iterable变成Iterator可以使⽤iter()函数\\na = [1,23,4,5,6]\\nnext(a)',\n",
       " '_i25': 'b = iter(a)\\nfor x in b:\\n    next(b)',\n",
       " '_i26': 'b = iter(a)\\nfor x in b:\\n    next(x)',\n",
       " '_i27': 'b = iter(a)\\nnext(b)',\n",
       " '_i28': 'next(b)',\n",
       " '_i29': \"def test1():\\n    print('this is test1 function')\\n\\ntest1()\\ntest1_id = test1\\nprint(test1)\\nprint(test1_id)\\ntest1_id()\",\n",
       " '_i3': '#使用for循环时，循环结束后不能得到函数的返回值，因此，使用抛出异常的方式\\ntry:\\n    while True:\\n        x = next(f)\\n        print(x)\\nexcept StopIteration as e:\\n    print(e)',\n",
       " '_i30': \"def test1():\\n    print('this is test1 function')\\n\\ntest1()\\ntest1_id = test1\\nprint(id(test1)\\nprint(test1_id)\\ntest1_id()\",\n",
       " '_i31': \"def test1():\\n    print('this is test1 function')\\n\\ntest1()\\ntest1_id = test1\\nprint(id(test1))\\nprint(test1_id)\\ntest1_id()\",\n",
       " '_i32': \"#在函数内部再定义一个函数，并且这个函数用到了外边函数的变量，那么将这个函数以及用到的一些变量称之为闭包\\ndef test(number):\\n    def test_in(number_in):\\n        print('number_in is'number_in)\\n        return number+number_in\\n    return test_in\\n\\nret = test(20)\\nret(100)\",\n",
       " '_i33': \"#在函数内部再定义一个函数，并且这个函数用到了外边函数的变量，那么将这个函数以及用到的一些变量称之为闭包\\ndef test(number):\\n    def test_in(number_in):\\n        print('number_in is',number_in)\\n        return number+number_in\\n    return test_in\\n\\nret = test(20)\\nret(100)\",\n",
       " '_i34': 'ret(200)',\n",
       " '_i35': '#内部函数对外部函数作⽤域⾥变量的引⽤（⾮全局变量）,则称内部函数为闭包。\\ndef line_coef(a,b):\\n    def line(x):\\n        result = ax+b\\n    return line\\nline1 = line_coef(4,5)\\nprint(line1(5))',\n",
       " '_i36': '#内部函数对外部函数作⽤域⾥变量的引⽤（⾮全局变量）,则称内部函数为闭包。\\ndef line_coef(a,b):\\n    def line(x):\\n        result = a*x+b\\n    return line\\nline1 = line_coef(4,5)\\nprint(line1(5))',\n",
       " '_i37': '#内部函数对外部函数作⽤域⾥变量的引⽤（⾮全局变量）,则称内部函数为闭包。\\ndef line_coef(a,b):\\n    def line(x):\\n        result = a*x+b\\n        ruturn result\\n    return line\\nline1 = line_coef(4,5)\\nprint(line1(5))',\n",
       " '_i38': '#内部函数对外部函数作⽤域⾥变量的引⽤（⾮全局变量）,则称内部函数为闭包。\\ndef line_coef(a,b):\\n    def line(x):\\n        result = a*x+b\\n        return result\\n    return line\\nline1 = line_coef(4,5)\\nprint(line1(5))',\n",
       " '_i39': 'line2=line_coef(3,4)\\nprint(line2(5))',\n",
       " '_i4': 'def gen():\\n    i = 0\\n    while i<5:\\n        temp = yield i\\n        print(temp)\\n        i+=1\\nf = gen()',\n",
       " '_i40': 'def foo(x):\\n    print(x+10)\\nfoo(5)',\n",
       " '_i41': 'foo = lambda x:x+20\\nfoo(5)',\n",
       " '_i42': \"#@w1的作用\\n#1.执⾏w1函数，并将@w1下⾯的函数作为w1函数的参数，即：@w1等价于w1(f1)\\n#2.将执行完的w1函数返回值赋值给@w1下面的函数的函数名f1，即：f1 = inner\\ndef w1(func):\\n    def inner():\\n        func\\n    return inner\\n@w1\\ndef f1():\\n    print('f1')\",\n",
       " '_i43': \"def make_blod1(func):\\n    def wrap():\\n        return '<1>'+func+'</1>'\\n    return wrap\\n\\ndef make_blod2(func):\\n    def wrap():\\n        return '<2>'+func+'</2>'\\n    return wrap\\n\\n@make_blod1\\ndef func1():\\n    return 'func1'\\nfunc1()\",\n",
       " '_i44': \"def make_blod1(func):\\n    def wrap():\\n        return '<1>'+func()+'</1>'\\n    return wrap\\n\\ndef make_blod2(func):\\n    def wrap():\\n        return '<2>'+func()+'</2>'\\n    return wrap\\n\\n@make_blod1\\ndef func1():\\n    return 'func1'\\n\\nfunc1()\",\n",
       " '_i45': \"@make_blod2\\ndef func1():\\n    return 'func1'\\n\\nfunc1()\",\n",
       " '_i46': \"@make_blod1\\n@make_blod2\\ndef func1():\\n    return 'func1'\\n\\nfunc1()\",\n",
       " '_i47': '#无参数的函数\\nfrom time import ctime, sleep\\n\\ndef timefun(func):\\n    def wrappedfunc():\\n        print(\"%s called at %s\"%(func.__name__, ctime()))\\n        func()\\n    return wrappedfunc\\n\\n@timefun\\ndef foo():\\n    print(\"I am foo\")\\n\\nfoo()\\nsleep(2)\\nfoo()',\n",
       " '_i48': '#无参数的函数\\nfrom time import ctime, sleep\\n\\ndef timefun(func):\\n    def wrappedfunc():\\n        print(\"%s called at %s\"%(func.__name__, ctime()))\\n        func()\\n    return wrappedfunc\\n\\n@timefun\\ndef foo1():\\n    print(\"I am foo\")\\n\\nfoo()\\nsleep(2)\\nfoo()',\n",
       " '_i49': '#无参数的函数\\nfrom time import ctime, sleep\\n\\ndef timefun(func):\\n    def wrappedfunc():\\n        print(\"%s called at %s\"%(func.__name__, ctime()))\\n        func()\\n    return wrappedfunc\\n\\n@timefun\\ndef foo1():\\n    print(\"I am foo\")\\n\\nfoo1()\\nsleep(2)\\nfoo1()',\n",
       " '_i5': 'next(f)',\n",
       " '_i50': '#无参数的函数\\nfrom time import ctime, sleep\\n\\ndef timefun(func):\\n    def wrappedfunc():\\n        print(\"%s called at %s\"%(func.__name__, ctime()))\\n        func()\\n    return wrappedfunc\\n\\n@timefun\\ndef foo1():\\n    print(\"I am foo\")\\n\\nfo22()\\nsleep(2)\\nfoo1()',\n",
       " '_i51': \"#无参数的函数\\nfrom time import ctime, sleep\\n\\ndef time_func(func):\\n    def wrap():\\n        print('%s is called at %s'%(func.__name__,ctime()))\\n    return wrap\\n\\n@time_func\\ndef func1():\\n    print('i am func1')\\n\\nfunc1()\\nsleep(2)\\nfunc1()\",\n",
       " '_i52': 'from time import ctime, sleep\\n\\ndef timefun(func):\\n    def wrappedfunc(a, b):\\n        print(\"%s called at %s\"%(func.__name__, ctime()))\\n        print(a, b)\\n        func(a, b)\\n    return wrappedfunc\\n\\n@timefun\\ndef foo(a, b):\\n    print(a+b)\\n\\nfoo(3,5)\\nsleep(2)\\nfoo(2,4)',\n",
       " '_i53': \"#无参数的函数\\nfrom time import ctime, sleep\\n\\ndef time_func(func):\\n    def wrap():\\n        print('%s is called at %s'%(func.__name__,ctime()))\\n        func()\\n    return wrap\\n\\n@time_func\\ndef func1():\\n    print('i am func1')\\n\\nfunc1()\\nsleep(2)\\nfunc1()\",\n",
       " '_i54': '#被装饰的函数有不定长参数\\nfrom time import ctime, sleep\\n\\ndef timefun(func):\\n    def wrappedfunc(*args, **kwargs):\\n        print(\"%s called at %s\"%(func.__name__, ctime()))\\n        func(*args, **kwargs)\\n    return wrappedfunc\\n\\n@timefun\\ndef foo(a, b, c):\\n    print(a+b+c)\\n\\nfoo(3,5,7)\\nsleep(2)\\nfoo(2,4,9)',\n",
       " '_i55': 'from time import ctime, sleep\\n\\ndef timefun(func):\\n    def wrappedfunc():\\n        print(\"%s called at %s\"%(func.__name__, ctime()))\\n        func()\\n    return wrappedfunc\\n\\n@timefun\\ndef foo():\\n    print(\"I am foo\")\\n\\n@timefun\\ndef getInfo():\\n    return \\'----hahah---\\'\\n\\nfoo()\\nsleep(2)\\nfoo()\\n\\n\\nprint(getInfo())',\n",
       " '_i56': 'from time import ctime, sleep\\n\\ndef timefun(func):\\n    def wrappedfunc():\\n        print(\"%s called at %s\"%(func.__name__, ctime()))\\n        func()\\n        return func\\n    return wrappedfunc\\n\\n@timefun\\ndef foo():\\n    print(\"I am foo\")\\n\\n@timefun\\ndef getInfo():\\n    return \\'----hahah---\\'\\n\\nfoo()\\nsleep(2)\\nfoo()\\n\\n\\nprint(getInfo())',\n",
       " '_i57': 'from time import ctime, sleep\\n\\ndef timefun(func):\\n    def wrappedfunc():\\n        print(\"%s called at %s\"%(func.__name__, ctime()))\\n        func()\\n        return func()\\n    return wrappedfunc\\n\\n@timefun\\ndef foo():\\n    print(\"I am foo\")\\n\\n@timefun\\ndef getInfo():\\n    return \\'----hahah---\\'\\n\\nfoo()\\nsleep(2)\\nfoo()\\n\\n\\nprint(getInfo())',\n",
       " '_i58': 'from time import ctime, sleep\\n\\ndef timefun(func):\\n    def wrappedfunc():\\n        print(\"%s called at %s\"%(func.__name__, ctime()))\\n        return func()\\n    return wrappedfunc\\n\\n@timefun\\ndef foo():\\n    print(\"I am foo\")\\n\\n@timefun\\ndef getInfo():\\n    return \\'----hahah---\\'\\n\\nfoo()\\nsleep(2)\\nfoo()\\n\\n\\nprint(getInfo())',\n",
       " '_i59': '#装饰器带参数,在原有装饰器的基础上，设置外部变量\\nfrom time import ctime, sleep\\n\\ndef timefun_arg(pre=\"hello\"):\\n    def timefun(func):\\n        def wrappedfunc():\\n            print(\"%s called at %s %s\"%(func.__name__, ctime(), pre))\\n            return func()\\n        return wrappedfunc\\n    return timefun\\n\\n@timefun_arg(\"itcast\")\\ndef foo():\\n    print(\"I am foo\")\\n\\n@timefun_arg(\"python\")\\ndef too():\\n    print(\"I am too\")\\n\\nfoo()\\nsleep(2)\\nfoo()\\n\\ntoo()\\nsleep(2)\\ntoo()',\n",
       " '_i6': 'next(f)',\n",
       " '_i60': \"#类装饰器\\n#重写类的__call__方法，则类的对象变为callable\\nclass Test():\\n    def __call__(self):\\n        print('test call')\\n\\nt = Test()\\nt()\",\n",
       " '_i61': \"class Test():\\n    def __init__(self,func):\\n        print('Test类初始化')\\n        self.__func = __func\\n    def __call__(self):\\n        print('Test call')\\n        self.__func()\\n        \\n@Test\\ndef test():\\n    print('test')\",\n",
       " '_i62': \"class Test():\\n    def __init__(self,func):\\n        print('Test类初始化')\\n        self.__func = func\\n    def __call__(self):\\n        print('Test call')\\n        self.__func()\\n        \\n@Test\\ndef test():\\n    print('test')\\ntest()\",\n",
       " '_i63': 'import sys\\nsys.path',\n",
       " '_i64': 'sys.path.insert(0,callabl)',\n",
       " '_i65': \"sys.path.insert(0,'E:\\\\\\\\')\",\n",
       " '_i66': 'sys.path',\n",
       " '_i67': 'import sys\\nsys.path.remove(0)',\n",
       " '_i68': \"import sys\\nsys.path.remove('E:\\\\\\\\')\",\n",
       " '_i69': 'sys.path',\n",
       " '_i7': 'f.next()',\n",
       " '_i70': \"import sys\\nprint(sys.path)\\nsys.path.insert(0,'E:\\\\\\\\')\\nprint(sys.path)\\nsys.path.remove('E:\\\\\\\\')\\nprint(sys.path)\",\n",
       " '_i71': 'A = 100\\nB =200\\ndef test():\\n    a=10\\n    b=20\\n    print(locals())\\ntest()\\nprint(globals)',\n",
       " '_i72': 'A = 100\\nB =200\\ndef test():\\n    a=10\\n    b=20\\n    print(locals())\\ntest()\\nglobals()',\n",
       " '_i8': 'f.send()',\n",
       " '_i9': \"f.send('aaa')\",\n",
       " '_ih': ['',\n",
       "  '#使用for循环时，循环结束后不能得到函数的返回值，因此，使用抛出异常的方式\\ntry:\\n    while True:\\n        x = next(f)\\n        print(x)\\nexcept StopIteration as e:\\n    print(e)',\n",
       "  '#yield:可以让函数生成一个序列，该函数返回的对象类型是\"generator\"，通过该对象连续调用next()方法返回序列值。\\n#斐波那契数列\\ndef fib(times):\\n    n = 0\\n    a,b=0,1\\n    while n<times:\\n        yield b\\n        n+=1\\n        a,b = b,a+b\\n    return \\'Done!\\'\\nf = fib(5)',\n",
       "  '#使用for循环时，循环结束后不能得到函数的返回值，因此，使用抛出异常的方式\\ntry:\\n    while True:\\n        x = next(f)\\n        print(x)\\nexcept StopIteration as e:\\n    print(e)',\n",
       "  'def gen():\\n    i = 0\\n    while i<5:\\n        temp = yield i\\n        print(temp)\\n        i+=1\\nf = gen()',\n",
       "  'next(f)',\n",
       "  'next(f)',\n",
       "  'f.next()',\n",
       "  'f.send()',\n",
       "  \"f.send('aaa')\",\n",
       "  'f.__next__',\n",
       "  'f.__next__()',\n",
       "  'f.send(444)',\n",
       "  'from collections import Iterable\\nisinstance([],Iterable)',\n",
       "  'isinstance(str,Iterable)',\n",
       "  \"a = 'sdfd'\\nisinstance(a,Iterable)\",\n",
       "  '#⽣成器不但可以作⽤于for循环还可以被next()函数不断调⽤并返回下⼀个值，直到最后抛出StopIteration错误表示⽆法继续返回下⼀个值了。\\nisinstance((x for x in range(10),Iterable)',\n",
       "  '#⽣成器不但可以作⽤于for循环还可以被next()函数不断调⽤并返回下⼀个值，直到最后抛出StopIteration错误表示⽆法继续返回下⼀个值了。\\nisinstance((x for x in range(10),Iterable)',\n",
       "  '#⽣成器不但可以作⽤于for循环还可以被next()函数不断调⽤并返回下⼀个值，直到最后抛出StopIteration错误表示⽆法继续返回下⼀个值了。\\nisinstance((x for x in range(10)), Iterable) ',\n",
       "  '#可以被next()函数调⽤并不断返回下⼀个值的对象称为迭代器：Iterator。\\n#可以使⽤isinstance()判断⼀个对象是否是Iterator对象：\\nfrom collections import Iterator\\nisinstance((x for x in rang(10)),Iterator)',\n",
       "  '#可以被next()函数调⽤并不断返回下⼀个值的对象称为迭代器：Iterator。\\n#可以使⽤isinstance()判断⼀个对象是否是Iterator对象：\\nfrom collections import Iterator\\nisinstance((x for x in range(10)),Iterator)',\n",
       "  \"isinstance('abc',Iterator)\",\n",
       "  '#⽣成器都是Iterator对象，但list、dict\\t、str虽然是Iterable，却不是 Iterator。\\n#把list、dict、str等Iterable变成Iterator可以使⽤iter()函数\\na = [1,23,4,5,6]\\nb = iter(a)\\nnext(a)',\n",
       "  '#⽣成器都是Iterator对象，但list、dict\\t、str虽然是Iterable，却不是 Iterator。\\n#把list、dict、str等Iterable变成Iterator可以使⽤iter()函数\\na = [1,23,4,5,6]\\nb = iter(a)\\nnext(b)',\n",
       "  '#⽣成器都是Iterator对象，但list、dict\\t、str虽然是Iterable，却不是 Iterator。\\n#把list、dict、str等Iterable变成Iterator可以使⽤iter()函数\\na = [1,23,4,5,6]\\nnext(a)',\n",
       "  'b = iter(a)\\nfor x in b:\\n    next(b)',\n",
       "  'b = iter(a)\\nfor x in b:\\n    next(x)',\n",
       "  'b = iter(a)\\nnext(b)',\n",
       "  'next(b)',\n",
       "  \"def test1():\\n    print('this is test1 function')\\n\\ntest1()\\ntest1_id = test1\\nprint(test1)\\nprint(test1_id)\\ntest1_id()\",\n",
       "  \"def test1():\\n    print('this is test1 function')\\n\\ntest1()\\ntest1_id = test1\\nprint(id(test1)\\nprint(test1_id)\\ntest1_id()\",\n",
       "  \"def test1():\\n    print('this is test1 function')\\n\\ntest1()\\ntest1_id = test1\\nprint(id(test1))\\nprint(test1_id)\\ntest1_id()\",\n",
       "  \"#在函数内部再定义一个函数，并且这个函数用到了外边函数的变量，那么将这个函数以及用到的一些变量称之为闭包\\ndef test(number):\\n    def test_in(number_in):\\n        print('number_in is'number_in)\\n        return number+number_in\\n    return test_in\\n\\nret = test(20)\\nret(100)\",\n",
       "  \"#在函数内部再定义一个函数，并且这个函数用到了外边函数的变量，那么将这个函数以及用到的一些变量称之为闭包\\ndef test(number):\\n    def test_in(number_in):\\n        print('number_in is',number_in)\\n        return number+number_in\\n    return test_in\\n\\nret = test(20)\\nret(100)\",\n",
       "  'ret(200)',\n",
       "  '#内部函数对外部函数作⽤域⾥变量的引⽤（⾮全局变量）,则称内部函数为闭包。\\ndef line_coef(a,b):\\n    def line(x):\\n        result = ax+b\\n    return line\\nline1 = line_coef(4,5)\\nprint(line1(5))',\n",
       "  '#内部函数对外部函数作⽤域⾥变量的引⽤（⾮全局变量）,则称内部函数为闭包。\\ndef line_coef(a,b):\\n    def line(x):\\n        result = a*x+b\\n    return line\\nline1 = line_coef(4,5)\\nprint(line1(5))',\n",
       "  '#内部函数对外部函数作⽤域⾥变量的引⽤（⾮全局变量）,则称内部函数为闭包。\\ndef line_coef(a,b):\\n    def line(x):\\n        result = a*x+b\\n        ruturn result\\n    return line\\nline1 = line_coef(4,5)\\nprint(line1(5))',\n",
       "  '#内部函数对外部函数作⽤域⾥变量的引⽤（⾮全局变量）,则称内部函数为闭包。\\ndef line_coef(a,b):\\n    def line(x):\\n        result = a*x+b\\n        return result\\n    return line\\nline1 = line_coef(4,5)\\nprint(line1(5))',\n",
       "  'line2=line_coef(3,4)\\nprint(line2(5))',\n",
       "  'def foo(x):\\n    print(x+10)\\nfoo(5)',\n",
       "  'foo = lambda x:x+20\\nfoo(5)',\n",
       "  \"#@w1的作用\\n#1.执⾏w1函数，并将@w1下⾯的函数作为w1函数的参数，即：@w1等价于w1(f1)\\n#2.将执行完的w1函数返回值赋值给@w1下面的函数的函数名f1，即：f1 = inner\\ndef w1(func):\\n    def inner():\\n        func\\n    return inner\\n@w1\\ndef f1():\\n    print('f1')\",\n",
       "  \"def make_blod1(func):\\n    def wrap():\\n        return '<1>'+func+'</1>'\\n    return wrap\\n\\ndef make_blod2(func):\\n    def wrap():\\n        return '<2>'+func+'</2>'\\n    return wrap\\n\\n@make_blod1\\ndef func1():\\n    return 'func1'\\nfunc1()\",\n",
       "  \"def make_blod1(func):\\n    def wrap():\\n        return '<1>'+func()+'</1>'\\n    return wrap\\n\\ndef make_blod2(func):\\n    def wrap():\\n        return '<2>'+func()+'</2>'\\n    return wrap\\n\\n@make_blod1\\ndef func1():\\n    return 'func1'\\n\\nfunc1()\",\n",
       "  \"@make_blod2\\ndef func1():\\n    return 'func1'\\n\\nfunc1()\",\n",
       "  \"@make_blod1\\n@make_blod2\\ndef func1():\\n    return 'func1'\\n\\nfunc1()\",\n",
       "  '#无参数的函数\\nfrom time import ctime, sleep\\n\\ndef timefun(func):\\n    def wrappedfunc():\\n        print(\"%s called at %s\"%(func.__name__, ctime()))\\n        func()\\n    return wrappedfunc\\n\\n@timefun\\ndef foo():\\n    print(\"I am foo\")\\n\\nfoo()\\nsleep(2)\\nfoo()',\n",
       "  '#无参数的函数\\nfrom time import ctime, sleep\\n\\ndef timefun(func):\\n    def wrappedfunc():\\n        print(\"%s called at %s\"%(func.__name__, ctime()))\\n        func()\\n    return wrappedfunc\\n\\n@timefun\\ndef foo1():\\n    print(\"I am foo\")\\n\\nfoo()\\nsleep(2)\\nfoo()',\n",
       "  '#无参数的函数\\nfrom time import ctime, sleep\\n\\ndef timefun(func):\\n    def wrappedfunc():\\n        print(\"%s called at %s\"%(func.__name__, ctime()))\\n        func()\\n    return wrappedfunc\\n\\n@timefun\\ndef foo1():\\n    print(\"I am foo\")\\n\\nfoo1()\\nsleep(2)\\nfoo1()',\n",
       "  '#无参数的函数\\nfrom time import ctime, sleep\\n\\ndef timefun(func):\\n    def wrappedfunc():\\n        print(\"%s called at %s\"%(func.__name__, ctime()))\\n        func()\\n    return wrappedfunc\\n\\n@timefun\\ndef foo1():\\n    print(\"I am foo\")\\n\\nfo22()\\nsleep(2)\\nfoo1()',\n",
       "  \"#无参数的函数\\nfrom time import ctime, sleep\\n\\ndef time_func(func):\\n    def wrap():\\n        print('%s is called at %s'%(func.__name__,ctime()))\\n    return wrap\\n\\n@time_func\\ndef func1():\\n    print('i am func1')\\n\\nfunc1()\\nsleep(2)\\nfunc1()\",\n",
       "  'from time import ctime, sleep\\n\\ndef timefun(func):\\n    def wrappedfunc(a, b):\\n        print(\"%s called at %s\"%(func.__name__, ctime()))\\n        print(a, b)\\n        func(a, b)\\n    return wrappedfunc\\n\\n@timefun\\ndef foo(a, b):\\n    print(a+b)\\n\\nfoo(3,5)\\nsleep(2)\\nfoo(2,4)',\n",
       "  \"#无参数的函数\\nfrom time import ctime, sleep\\n\\ndef time_func(func):\\n    def wrap():\\n        print('%s is called at %s'%(func.__name__,ctime()))\\n        func()\\n    return wrap\\n\\n@time_func\\ndef func1():\\n    print('i am func1')\\n\\nfunc1()\\nsleep(2)\\nfunc1()\",\n",
       "  '#被装饰的函数有不定长参数\\nfrom time import ctime, sleep\\n\\ndef timefun(func):\\n    def wrappedfunc(*args, **kwargs):\\n        print(\"%s called at %s\"%(func.__name__, ctime()))\\n        func(*args, **kwargs)\\n    return wrappedfunc\\n\\n@timefun\\ndef foo(a, b, c):\\n    print(a+b+c)\\n\\nfoo(3,5,7)\\nsleep(2)\\nfoo(2,4,9)',\n",
       "  'from time import ctime, sleep\\n\\ndef timefun(func):\\n    def wrappedfunc():\\n        print(\"%s called at %s\"%(func.__name__, ctime()))\\n        func()\\n    return wrappedfunc\\n\\n@timefun\\ndef foo():\\n    print(\"I am foo\")\\n\\n@timefun\\ndef getInfo():\\n    return \\'----hahah---\\'\\n\\nfoo()\\nsleep(2)\\nfoo()\\n\\n\\nprint(getInfo())',\n",
       "  'from time import ctime, sleep\\n\\ndef timefun(func):\\n    def wrappedfunc():\\n        print(\"%s called at %s\"%(func.__name__, ctime()))\\n        func()\\n        return func\\n    return wrappedfunc\\n\\n@timefun\\ndef foo():\\n    print(\"I am foo\")\\n\\n@timefun\\ndef getInfo():\\n    return \\'----hahah---\\'\\n\\nfoo()\\nsleep(2)\\nfoo()\\n\\n\\nprint(getInfo())',\n",
       "  'from time import ctime, sleep\\n\\ndef timefun(func):\\n    def wrappedfunc():\\n        print(\"%s called at %s\"%(func.__name__, ctime()))\\n        func()\\n        return func()\\n    return wrappedfunc\\n\\n@timefun\\ndef foo():\\n    print(\"I am foo\")\\n\\n@timefun\\ndef getInfo():\\n    return \\'----hahah---\\'\\n\\nfoo()\\nsleep(2)\\nfoo()\\n\\n\\nprint(getInfo())',\n",
       "  'from time import ctime, sleep\\n\\ndef timefun(func):\\n    def wrappedfunc():\\n        print(\"%s called at %s\"%(func.__name__, ctime()))\\n        return func()\\n    return wrappedfunc\\n\\n@timefun\\ndef foo():\\n    print(\"I am foo\")\\n\\n@timefun\\ndef getInfo():\\n    return \\'----hahah---\\'\\n\\nfoo()\\nsleep(2)\\nfoo()\\n\\n\\nprint(getInfo())',\n",
       "  '#装饰器带参数,在原有装饰器的基础上，设置外部变量\\nfrom time import ctime, sleep\\n\\ndef timefun_arg(pre=\"hello\"):\\n    def timefun(func):\\n        def wrappedfunc():\\n            print(\"%s called at %s %s\"%(func.__name__, ctime(), pre))\\n            return func()\\n        return wrappedfunc\\n    return timefun\\n\\n@timefun_arg(\"itcast\")\\ndef foo():\\n    print(\"I am foo\")\\n\\n@timefun_arg(\"python\")\\ndef too():\\n    print(\"I am too\")\\n\\nfoo()\\nsleep(2)\\nfoo()\\n\\ntoo()\\nsleep(2)\\ntoo()',\n",
       "  \"#类装饰器\\n#重写类的__call__方法，则类的对象变为callable\\nclass Test():\\n    def __call__(self):\\n        print('test call')\\n\\nt = Test()\\nt()\",\n",
       "  \"class Test():\\n    def __init__(self,func):\\n        print('Test类初始化')\\n        self.__func = __func\\n    def __call__(self):\\n        print('Test call')\\n        self.__func()\\n        \\n@Test\\ndef test():\\n    print('test')\",\n",
       "  \"class Test():\\n    def __init__(self,func):\\n        print('Test类初始化')\\n        self.__func = func\\n    def __call__(self):\\n        print('Test call')\\n        self.__func()\\n        \\n@Test\\ndef test():\\n    print('test')\\ntest()\",\n",
       "  'import sys\\nsys.path',\n",
       "  'sys.path.insert(0,callabl)',\n",
       "  \"sys.path.insert(0,'E:\\\\\\\\')\",\n",
       "  'sys.path',\n",
       "  'import sys\\nsys.path.remove(0)',\n",
       "  \"import sys\\nsys.path.remove('E:\\\\\\\\')\",\n",
       "  'sys.path',\n",
       "  \"import sys\\nprint(sys.path)\\nsys.path.insert(0,'E:\\\\\\\\')\\nprint(sys.path)\\nsys.path.remove('E:\\\\\\\\')\\nprint(sys.path)\",\n",
       "  'A = 100\\nB =200\\ndef test():\\n    a=10\\n    b=20\\n    print(locals())\\ntest()\\nprint(globals)',\n",
       "  'A = 100\\nB =200\\ndef test():\\n    a=10\\n    b=20\\n    print(locals())\\ntest()\\nglobals()'],\n",
       " '_ii': \"import sys\\nprint(sys.path)\\nsys.path.insert(0,'E:\\\\\\\\')\\nprint(sys.path)\\nsys.path.remove('E:\\\\\\\\')\\nprint(sys.path)\",\n",
       " '_iii': 'sys.path',\n",
       " '_oh': {5: 0,\n",
       "  6: 1,\n",
       "  9: 2,\n",
       "  10: <method-wrapper '__next__' of generator object at 0x000001C8E3DCAD00>,\n",
       "  11: 3,\n",
       "  12: 4,\n",
       "  13: True,\n",
       "  14: False,\n",
       "  15: True,\n",
       "  18: True,\n",
       "  20: True,\n",
       "  21: False,\n",
       "  23: 1,\n",
       "  27: 1,\n",
       "  28: 23,\n",
       "  33: 120,\n",
       "  34: 220,\n",
       "  41: 25,\n",
       "  44: '<1>func1</1>',\n",
       "  45: '<2>func1</2>',\n",
       "  46: '<1><2>func1</2></1>',\n",
       "  63: ['',\n",
       "   'E:\\\\Anaconda\\\\python36.zip',\n",
       "   'E:\\\\Anaconda\\\\DLLs',\n",
       "   'E:\\\\Anaconda\\\\lib',\n",
       "   'E:\\\\Anaconda',\n",
       "   'E:\\\\Anaconda\\\\lib\\\\site-packages',\n",
       "   'E:\\\\Anaconda\\\\lib\\\\site-packages\\\\win32',\n",
       "   'E:\\\\Anaconda\\\\lib\\\\site-packages\\\\win32\\\\lib',\n",
       "   'E:\\\\Anaconda\\\\lib\\\\site-packages\\\\Pythonwin',\n",
       "   'E:\\\\Anaconda\\\\lib\\\\site-packages\\\\IPython\\\\extensions',\n",
       "   'C:\\\\Users\\\\Mr.Xi\\\\.ipython'],\n",
       "  66: ['',\n",
       "   'E:\\\\Anaconda\\\\python36.zip',\n",
       "   'E:\\\\Anaconda\\\\DLLs',\n",
       "   'E:\\\\Anaconda\\\\lib',\n",
       "   'E:\\\\Anaconda',\n",
       "   'E:\\\\Anaconda\\\\lib\\\\site-packages',\n",
       "   'E:\\\\Anaconda\\\\lib\\\\site-packages\\\\win32',\n",
       "   'E:\\\\Anaconda\\\\lib\\\\site-packages\\\\win32\\\\lib',\n",
       "   'E:\\\\Anaconda\\\\lib\\\\site-packages\\\\Pythonwin',\n",
       "   'E:\\\\Anaconda\\\\lib\\\\site-packages\\\\IPython\\\\extensions',\n",
       "   'C:\\\\Users\\\\Mr.Xi\\\\.ipython'],\n",
       "  69: ['',\n",
       "   'E:\\\\Anaconda\\\\python36.zip',\n",
       "   'E:\\\\Anaconda\\\\DLLs',\n",
       "   'E:\\\\Anaconda\\\\lib',\n",
       "   'E:\\\\Anaconda',\n",
       "   'E:\\\\Anaconda\\\\lib\\\\site-packages',\n",
       "   'E:\\\\Anaconda\\\\lib\\\\site-packages\\\\win32',\n",
       "   'E:\\\\Anaconda\\\\lib\\\\site-packages\\\\win32\\\\lib',\n",
       "   'E:\\\\Anaconda\\\\lib\\\\site-packages\\\\Pythonwin',\n",
       "   'E:\\\\Anaconda\\\\lib\\\\site-packages\\\\IPython\\\\extensions',\n",
       "   'C:\\\\Users\\\\Mr.Xi\\\\.ipython']},\n",
       " 'a': [1, 23, 4, 5, 6],\n",
       " 'b': <list_iterator at 0x1c8e3ee3588>,\n",
       " 'ctime': <function time.ctime>,\n",
       " 'exit': <IPython.core.autocall.ZMQExitAutocall at 0x1c8e2ca4438>,\n",
       " 'f': <generator object gen at 0x000001C8E3DCAD00>,\n",
       " 'f1': <function __main__.w1.<locals>.inner>,\n",
       " 'fib': <function __main__.fib>,\n",
       " 'foo': <function __main__.timefun_arg.<locals>.timefun.<locals>.wrappedfunc>,\n",
       " 'foo1': <function __main__.timefun.<locals>.wrappedfunc>,\n",
       " 'func1': <function __main__.time_func.<locals>.wrap>,\n",
       " 'gen': <function __main__.gen>,\n",
       " 'getInfo': <function __main__.timefun.<locals>.wrappedfunc>,\n",
       " 'get_ipython': <bound method InteractiveShell.get_ipython of <ipykernel.zmqshell.ZMQInteractiveShell object at 0x000001C8E2C820B8>>,\n",
       " 'line1': <function __main__.line_coef.<locals>.line>,\n",
       " 'line2': <function __main__.line_coef.<locals>.line>,\n",
       " 'line_coef': <function __main__.line_coef>,\n",
       " 'make_blod1': <function __main__.make_blod1>,\n",
       " 'make_blod2': <function __main__.make_blod2>,\n",
       " 'quit': <IPython.core.autocall.ZMQExitAutocall at 0x1c8e2ca4438>,\n",
       " 'ret': <function __main__.test.<locals>.test_in>,\n",
       " 'sleep': <function time.sleep>,\n",
       " 'sys': <module 'sys' (built-in)>,\n",
       " 't': <__main__.Test at 0x1c8e3e52f98>,\n",
       " 'test': <function __main__.test>,\n",
       " 'test1': <function __main__.test1>,\n",
       " 'test1_id': <function __main__.test1>,\n",
       " 'time_func': <function __main__.time_func>,\n",
       " 'timefun': <function __main__.timefun>,\n",
       " 'timefun_arg': <function __main__.timefun_arg>,\n",
       " 'too': <function __main__.timefun_arg.<locals>.timefun.<locals>.wrappedfunc>,\n",
       " 'w1': <function __main__.w1>,\n",
       " 'x': 1}"
      ]
     },
     "execution_count": 72,
     "metadata": {},
     "output_type": "execute_result"
    }
   ],
   "source": [
    "A = 100\n",
    "B =200\n",
    "def test():\n",
    "    a=10\n",
    "    b=20\n",
    "    print(locals())\n",
    "test()\n",
    "globals()"
   ]
  },
  {
   "cell_type": "markdown",
   "metadata": {},
   "source": [
    "## LEGB规则:Python 使用 LEGB 的顺序来查找一个符号对应的对象"
   ]
  },
  {
   "cell_type": "raw",
   "metadata": {},
   "source": [
    "locals，当前所在命名空间（如函数、模块），函数的参数也属于命名空间内的变量\n",
    "enclosing，外部嵌套函数的命名空间（闭包中常见）\n",
    "globals，全局变量，函数定义所在模块的命名空间\n",
    "builtins，内建模块的命名空间。"
   ]
  },
  {
   "cell_type": "markdown",
   "metadata": {},
   "source": [
    "# 八.深拷贝、浅拷贝"
   ]
  },
  {
   "cell_type": "markdown",
   "metadata": {},
   "source": [
    "## 1.浅拷贝：只拷贝了引用，没有拷贝内容"
   ]
  },
  {
   "cell_type": "code",
   "execution_count": 73,
   "metadata": {},
   "outputs": [
    {
     "name": "stdout",
     "output_type": "stream",
     "text": [
      "[1, 2, 3]\n",
      "[1, 2, 3]\n",
      "1962332953544\n",
      "1962332953544\n"
     ]
    }
   ],
   "source": [
    "a = [1,2,3]\n",
    "b = a\n",
    "print(a)\n",
    "print(b)\n",
    "print(id(a))\n",
    "print(id(b))"
   ]
  },
  {
   "cell_type": "code",
   "execution_count": 74,
   "metadata": {},
   "outputs": [
    {
     "name": "stdout",
     "output_type": "stream",
     "text": [
      "[1, 2, 3, 4]\n",
      "[1, 2, 3, 4]\n"
     ]
    }
   ],
   "source": [
    "a.append(4)\n",
    "print(a)\n",
    "print(b)"
   ]
  },
  {
   "cell_type": "markdown",
   "metadata": {},
   "source": [
    "## 2.深拷贝：对象所有层次的拷贝"
   ]
  },
  {
   "cell_type": "code",
   "execution_count": 76,
   "metadata": {},
   "outputs": [
    {
     "name": "stdout",
     "output_type": "stream",
     "text": [
      "[[1, 2, 3, 4], ['a', 'b', 'c']]\n",
      "[[1, 2, 3, 4], ['a', 'b', 'c']]\n",
      "[[1, 2, 3], ['a', 'b', 'c']]\n"
     ]
    }
   ],
   "source": [
    "import copy\n",
    "a = [1,2,3]\n",
    "b = ['a','b','c']\n",
    "c = [a,b]\n",
    "d = c\n",
    "e = copy.deepcopy(c)\n",
    "a.append(4)\n",
    "print(c)\n",
    "print(d)\n",
    "print(e)"
   ]
  },
  {
   "cell_type": "markdown",
   "metadata": {},
   "source": [
    "## 3. 拷贝的其他方式"
   ]
  },
  {
   "cell_type": "code",
   "execution_count": 79,
   "metadata": {},
   "outputs": [
    {
     "name": "stdout",
     "output_type": "stream",
     "text": [
      "1962332566152\n",
      "1962328496648\n",
      "1742171616\n",
      "1742171616\n"
     ]
    }
   ],
   "source": [
    "#浅拷贝对不可变类型和可变类型的copy不同\n",
    "a = [1,2,3]\n",
    "b = copy.copy(a)\n",
    "c = 1\n",
    "d = copy.copy(c)\n",
    "print(id(a))\n",
    "print(id(b))\n",
    "print(id(c))\n",
    "print(id(d))"
   ]
  },
  {
   "cell_type": "markdown",
   "metadata": {},
   "source": [
    "# 九.进制、位运算"
   ]
  },
  {
   "cell_type": "markdown",
   "metadata": {},
   "source": [
    "## 1.原码、反码、补码：将符号位也参与运算的方法，机器可以只有加法而没有减法。"
   ]
  },
  {
   "cell_type": "raw",
   "metadata": {},
   "source": [
    "规则:\n",
    "正数：原码 = 反码 = 补码\n",
    "负数：反码 = 符号位不变，其他位取反\n",
    "     补码 = 反码+1"
   ]
  },
  {
   "cell_type": "raw",
   "metadata": {},
   "source": [
    "1 的原码：0000 0000 0000 0001\n",
    "-1的原码：1000 0000 0000 0001\n",
    "-1的反码：1111 1111 1111 1110\n",
    "-1的补码：1111 1111 1111 1111"
   ]
  },
  {
   "cell_type": "markdown",
   "metadata": {},
   "source": [
    "## 2.进制间转换"
   ]
  },
  {
   "cell_type": "code",
   "execution_count": 81,
   "metadata": {},
   "outputs": [
    {
     "data": {
      "text/plain": [
       "'0b1010'"
      ]
     },
     "execution_count": 81,
     "metadata": {},
     "output_type": "execute_result"
    }
   ],
   "source": [
    "#10进制转为2进制\n",
    "bin(10)"
   ]
  },
  {
   "cell_type": "code",
   "execution_count": 82,
   "metadata": {},
   "outputs": [
    {
     "data": {
      "text/plain": [
       "10"
      ]
     },
     "execution_count": 82,
     "metadata": {},
     "output_type": "execute_result"
    }
   ],
   "source": [
    "#2进制转为10进制\n",
    "int('1010',2)"
   ]
  },
  {
   "cell_type": "code",
   "execution_count": 83,
   "metadata": {},
   "outputs": [
    {
     "data": {
      "text/plain": [
       "'0xa'"
      ]
     },
     "execution_count": 83,
     "metadata": {},
     "output_type": "execute_result"
    }
   ],
   "source": [
    "#10进制转为16进制\n",
    "hex(10)"
   ]
  },
  {
   "cell_type": "code",
   "execution_count": 86,
   "metadata": {},
   "outputs": [
    {
     "data": {
      "text/plain": [
       "10"
      ]
     },
     "execution_count": 86,
     "metadata": {},
     "output_type": "execute_result"
    }
   ],
   "source": [
    "#16进制到10进制\n",
    "int('a',16)"
   ]
  },
  {
   "cell_type": "code",
   "execution_count": 85,
   "metadata": {},
   "outputs": [
    {
     "data": {
      "text/plain": [
       "'0o12'"
      ]
     },
     "execution_count": 85,
     "metadata": {},
     "output_type": "execute_result"
    }
   ],
   "source": [
    "#10进制到8进制\n",
    "oct(10)"
   ]
  },
  {
   "cell_type": "markdown",
   "metadata": {},
   "source": [
    "## 4.位运算"
   ]
  },
  {
   "cell_type": "raw",
   "metadata": {},
   "source": [
    "& 按位与:全1才1否则0 :只有对应的两个二进位均为1时,结果位才为1,否则为0\n",
    "| 按位或:有1就1 只要对应的二个二进位有一个为1时,结果位就为1,否则为0\n",
    "^ 按位异或：不同为1 当对应的二进位相异(不相同)时,结果为1,否则为0\n",
    "~ 按位取反\n",
    "<< 按位左移\n",
    ">> 按位右移"
   ]
  },
  {
   "cell_type": "code",
   "execution_count": 88,
   "metadata": {},
   "outputs": [
    {
     "data": {
      "text/plain": [
       "20"
      ]
     },
     "execution_count": 88,
     "metadata": {},
     "output_type": "execute_result"
    }
   ],
   "source": [
    "#<< 按位左移，相当于乘以2\n",
    "10<<1"
   ]
  },
  {
   "cell_type": "code",
   "execution_count": 89,
   "metadata": {},
   "outputs": [
    {
     "data": {
      "text/plain": [
       "5"
      ]
     },
     "execution_count": 89,
     "metadata": {},
     "output_type": "execute_result"
    }
   ],
   "source": [
    "#>> 右移，相当于除2\n",
    "10>>1"
   ]
  },
  {
   "cell_type": "markdown",
   "metadata": {},
   "source": [
    "# 十.属性property"
   ]
  },
  {
   "cell_type": "raw",
   "metadata": {},
   "source": [
    "@property成为属性函数，可以对属性赋值时做必要的检查，并保证代码的清晰短小，主要有2个作用：\n",
    "1.将方法转换为只读\n",
    "2.重新实现一个属性的设置和读取方法,可做边界判定"
   ]
  },
  {
   "cell_type": "code",
   "execution_count": 92,
   "metadata": {},
   "outputs": [],
   "source": [
    "class Money(object):\n",
    "    def __init__(self):\n",
    "        self.__money = 0\n",
    "    @property\n",
    "    def money(self):\n",
    "        return self.__money\n",
    "    \n",
    "    @money.setter\n",
    "    def money(self,value):\n",
    "        self.__money = value\n",
    "\n",
    "m = Money()"
   ]
  },
  {
   "cell_type": "code",
   "execution_count": 93,
   "metadata": {},
   "outputs": [
    {
     "data": {
      "text/plain": [
       "10"
      ]
     },
     "execution_count": 93,
     "metadata": {},
     "output_type": "execute_result"
    }
   ],
   "source": [
    "m.money =10\n",
    "m.money"
   ]
  },
  {
   "cell_type": "markdown",
   "metadata": {},
   "source": [
    "# 十一.垃圾回收"
   ]
  },
  {
   "cell_type": "markdown",
   "metadata": {},
   "source": [
    "## 1. 小整数对象池"
   ]
  },
  {
   "cell_type": "raw",
   "metadata": {},
   "source": [
    "Python 对小整数的定义是 [-5, 257) 这些整数对象是提前建立好的，不会被垃圾回收。在一个 Python 的程序中，所有位于这个范围内的整数使用的都是同一个对象.\n",
    "同理，单个字母也是这样的。"
   ]
  },
  {
   "cell_type": "code",
   "execution_count": 95,
   "metadata": {},
   "outputs": [
    {
     "name": "stdout",
     "output_type": "stream",
     "text": [
      "1742172320\n",
      "1742172320\n"
     ]
    }
   ],
   "source": [
    "a = 23\n",
    "b = 23\n",
    "print(id(a))\n",
    "print(id(b))"
   ]
  },
  {
   "cell_type": "markdown",
   "metadata": {},
   "source": [
    "## 2. 大整数对象池"
   ]
  },
  {
   "cell_type": "code",
   "execution_count": 96,
   "metadata": {},
   "outputs": [
    {
     "name": "stdout",
     "output_type": "stream",
     "text": [
      "1962328276336\n",
      "1962328276752\n"
     ]
    }
   ],
   "source": [
    "#每一个大整数，均创建一个新的对象。\n",
    "a = 1983\n",
    "b = 1983\n",
    "print(id(a))\n",
    "print(id(b))"
   ]
  },
  {
   "cell_type": "markdown",
   "metadata": {},
   "source": [
    "## 3.intern机制:引用计数为0时，释放内存\n"
   ]
  },
  {
   "cell_type": "code",
   "execution_count": 102,
   "metadata": {},
   "outputs": [
    {
     "name": "stdout",
     "output_type": "stream",
     "text": [
      "1962332158920\n"
     ]
    }
   ],
   "source": [
    "a = 'abcde'\n",
    "b = 'abcde'\n",
    "print(id(a))\n",
    "print(id(b))\n",
    "del a\n",
    "del b"
   ]
  },
  {
   "cell_type": "markdown",
   "metadata": {},
   "source": [
    "# 十二.内建属性"
   ]
  },
  {
   "cell_type": "code",
   "execution_count": 107,
   "metadata": {},
   "outputs": [
    {
     "name": "stdout",
     "output_type": "stream",
     "text": [
      "(<class 'object'>,)\n"
     ]
    },
    {
     "data": {
      "text/plain": [
       "['__class__',\n",
       " '__delattr__',\n",
       " '__dict__',\n",
       " '__dir__',\n",
       " '__doc__',\n",
       " '__eq__',\n",
       " '__format__',\n",
       " '__ge__',\n",
       " '__getattribute__',\n",
       " '__gt__',\n",
       " '__hash__',\n",
       " '__init__',\n",
       " '__init_subclass__',\n",
       " '__le__',\n",
       " '__lt__',\n",
       " '__module__',\n",
       " '__ne__',\n",
       " '__new__',\n",
       " '__reduce__',\n",
       " '__reduce_ex__',\n",
       " '__repr__',\n",
       " '__setattr__',\n",
       " '__sizeof__',\n",
       " '__str__',\n",
       " '__subclasshook__',\n",
       " '__weakref__']"
      ]
     },
     "execution_count": 107,
     "metadata": {},
     "output_type": "execute_result"
    }
   ],
   "source": [
    "class Person():\n",
    "    pass\n",
    "print(Person.__bases__)#父类列表\n",
    "dir(Person)\n",
    "#__getattribute__:属性拦截器，不要再里边再调用属性，否则无限递归"
   ]
  },
  {
   "cell_type": "markdown",
   "metadata": {},
   "source": [
    "# 十三.内建函数"
   ]
  },
  {
   "cell_type": "code",
   "execution_count": 121,
   "metadata": {},
   "outputs": [
    {
     "name": "stdout",
     "output_type": "stream",
     "text": [
      "[]\n",
      "[5, 7, 9]\n"
     ]
    },
    {
     "data": {
      "text/plain": [
       "[(0, 'Sun'), (1, 'M'), (2, 'T'), (3, 'W'), (4, 'T'), (5, 'F'), (6, 'S')]"
      ]
     },
     "execution_count": 121,
     "metadata": {},
     "output_type": "execute_result"
    }
   ],
   "source": [
    "#map():会根据提供的函数对指定序列做映射. map(function, sequence[, sequence, ...]) -> list\n",
    "a = map(lambda x: x*x, [1, 2, 3])\n",
    "print(list())\n",
    "b = map(lambda x, y: x+y, [1, 2, 3], [4, 5, 6])\n",
    "print(list(b))\n",
    "l1 = [ 0, 1, 2, 3, 4, 5, 6 ]  \n",
    "l2 = [ 'Sun', 'M', 'T', 'W', 'T', 'F', 'S' ]\n",
    "c = map(lambda x,y:(x,y),l1,l2)\n",
    "list(c)"
   ]
  },
  {
   "cell_type": "code",
   "execution_count": 123,
   "metadata": {},
   "outputs": [
    {
     "data": {
      "text/plain": [
       "[1, 3, 5]"
      ]
     },
     "execution_count": 123,
     "metadata": {},
     "output_type": "execute_result"
    }
   ],
   "source": [
    "#filter(function or None, sequence):f对序列参数sequence中的每个元素调用function函数，最后返回的结果包含调用结果为True的元素。\n",
    "a = filter(lambda x:x%2,[1,2,3,4,5,6])\n",
    "list(a)"
   ]
  },
  {
   "cell_type": "raw",
   "metadata": {},
   "source": [
    "reduce(function, sequence[, initial]) -> value\n",
    "function:该函数有两个参数\n",
    "sequence:序列可以是str，tuple，list\n",
    "initial:固定初始值\n",
    "reduce依次从sequence中取一个元素，和上一次调用function的结果做参数再次调用function。 第一次调用function时，如果提供initial参数，会以sequence中的第一个元素和initial 作为参数调用function，否则会以序列sequence中的前两个元素做参数调用function。 注意function函数不能为None。"
   ]
  },
  {
   "cell_type": "code",
   "execution_count": 125,
   "metadata": {},
   "outputs": [
    {
     "data": {
      "text/plain": [
       "'ddaabbcc'"
      ]
     },
     "execution_count": 125,
     "metadata": {},
     "output_type": "execute_result"
    }
   ],
   "source": [
    "from functools import reduce\n",
    "reduce(lambda x,y:x+y,['aa','bb','cc'],'dd')"
   ]
  },
  {
   "cell_type": "code",
   "execution_count": 134,
   "metadata": {},
   "outputs": [
    {
     "data": {
      "text/plain": [
       "1010"
      ]
     },
     "execution_count": 134,
     "metadata": {},
     "output_type": "execute_result"
    }
   ],
   "source": [
    "#partial函数(偏函数):把一个函数的某些参数设置默认值，返回一个新的函数，调用这个新函数会更简单。\n",
    "from functools import partial\n",
    "int('1010',base = 2)\n",
    "int2 = partial(int,base=2)\n",
    "int('1010')"
   ]
  },
  {
   "cell_type": "code",
   "execution_count": 135,
   "metadata": {},
   "outputs": [
    {
     "data": {
      "text/plain": [
       "256"
      ]
     },
     "execution_count": 135,
     "metadata": {},
     "output_type": "execute_result"
    }
   ],
   "source": [
    "int16 = partial(int,base=16)\n",
    "int16('100')"
   ]
  },
  {
   "cell_type": "code",
   "execution_count": null,
   "metadata": {},
   "outputs": [],
   "source": [
    "#wraps函数:使用装饰器时，有一些细节需要被注意。例如，被装饰后的函数其实已经是另外一个函数了（函数名等函数属性会发生改变）。"
   ]
  }
 ],
 "metadata": {
  "kernelspec": {
   "display_name": "Python 3",
   "language": "python",
   "name": "python3"
  },
  "language_info": {
   "codemirror_mode": {
    "name": "ipython",
    "version": 3
   },
   "file_extension": ".py",
   "mimetype": "text/x-python",
   "name": "python",
   "nbconvert_exporter": "python",
   "pygments_lexer": "ipython3",
   "version": "3.6.4"
  }
 },
 "nbformat": 4,
 "nbformat_minor": 2
}
